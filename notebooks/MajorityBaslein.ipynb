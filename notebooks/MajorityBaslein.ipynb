{
 "cells": [
  {
   "cell_type": "markdown",
   "id": "6de83488-af04-4c0f-a8d4-9dfaf27ce2b5",
   "metadata": {},
   "source": [
    "# "
   ]
  },
  {
   "cell_type": "code",
   "execution_count": 1,
   "id": "102d65af-0d34-4a67-bce0-27e3a88dc68e",
   "metadata": {},
   "outputs": [],
   "source": [
    "%load_ext autoreload\n",
    "%autoreload 2"
   ]
  },
  {
   "cell_type": "code",
   "execution_count": 2,
   "id": "a5f5adcf-fbc3-4daf-8b4d-1b915ce7ca23",
   "metadata": {},
   "outputs": [],
   "source": [
    "import sys\n",
    "import os\n",
    "sys.path.append(os.path.join(os.path.abspath(os.getcwd()), \"..\"))\n",
    "import pandas as pd\n",
    "import seaborn as sns\n",
    "import matplotlib.pyplot as plt"
   ]
  },
  {
   "cell_type": "code",
   "execution_count": 3,
   "id": "30398e0b-6b5a-4da7-add0-2e90ed7d8e91",
   "metadata": {},
   "outputs": [
    {
     "name": "stderr",
     "output_type": "stream",
     "text": [
      "2025-04-05 15:48:11.914207: I tensorflow/tsl/cuda/cudart_stub.cc:28] Could not find cuda drivers on your machine, GPU will not be used.\n",
      "2025-04-05 15:48:12.160845: I tensorflow/core/platform/cpu_feature_guard.cc:182] This TensorFlow binary is optimized to use available CPU instructions in performance-critical operations.\n",
      "To enable the following instructions: AVX2 FMA, in other operations, rebuild TensorFlow with the appropriate compiler flags.\n",
      "2025-04-05 15:48:13.218279: W tensorflow/compiler/tf2tensorrt/utils/py_utils.cc:38] TF-TRT Warning: Could not find TensorRT\n"
     ]
    }
   ],
   "source": [
    "from certainty import EventSentence, EventType, load_events, id2label, label2id"
   ]
  },
  {
   "cell_type": "code",
   "execution_count": 4,
   "id": "1944f181-627a-4279-a760-a03916333319",
   "metadata": {},
   "outputs": [],
   "source": [
    "train_events, dev_events, test_events = load_events('en_train.json', 'en_dev.json', 'en_test.json')"
   ]
  },
  {
   "cell_type": "code",
   "execution_count": 5,
   "id": "eaace51b-5eff-4632-9a51-673e15d62ddb",
   "metadata": {},
   "outputs": [],
   "source": [
    "train_df = pd.DataFrame(train_events)\n",
    "dev_df = pd.DataFrame(dev_events)"
   ]
  },
  {
   "cell_type": "code",
   "execution_count": 6,
   "id": "ec7e700e-e6e6-4c82-bdaf-d0d8f9336c18",
   "metadata": {},
   "outputs": [],
   "source": [
    "from sklearn.dummy import DummyClassifier\n",
    "from sklearn.metrics import classification_report"
   ]
  },
  {
   "cell_type": "code",
   "execution_count": 7,
   "id": "b915dbf6-6e47-4ba2-9631-69a22a27c304",
   "metadata": {},
   "outputs": [],
   "source": [
    "y_train = train_df['label'].to_numpy()\n",
    "y_dev = dev_df['label'].to_numpy()"
   ]
  },
  {
   "cell_type": "code",
   "execution_count": 30,
   "id": "21df000e-72cf-412e-84df-9d914bf98642",
   "metadata": {},
   "outputs": [],
   "source": [
    "model = DummyClassifier(strategy=\"most_frequent\")"
   ]
  },
  {
   "cell_type": "code",
   "execution_count": 31,
   "id": "650393e5-0c1e-4842-907b-7ac8305f117a",
   "metadata": {},
   "outputs": [
    {
     "data": {
      "text/html": [
       "<style>#sk-container-id-2 {color: black;background-color: white;}#sk-container-id-2 pre{padding: 0;}#sk-container-id-2 div.sk-toggleable {background-color: white;}#sk-container-id-2 label.sk-toggleable__label {cursor: pointer;display: block;width: 100%;margin-bottom: 0;padding: 0.3em;box-sizing: border-box;text-align: center;}#sk-container-id-2 label.sk-toggleable__label-arrow:before {content: \"▸\";float: left;margin-right: 0.25em;color: #696969;}#sk-container-id-2 label.sk-toggleable__label-arrow:hover:before {color: black;}#sk-container-id-2 div.sk-estimator:hover label.sk-toggleable__label-arrow:before {color: black;}#sk-container-id-2 div.sk-toggleable__content {max-height: 0;max-width: 0;overflow: hidden;text-align: left;background-color: #f0f8ff;}#sk-container-id-2 div.sk-toggleable__content pre {margin: 0.2em;color: black;border-radius: 0.25em;background-color: #f0f8ff;}#sk-container-id-2 input.sk-toggleable__control:checked~div.sk-toggleable__content {max-height: 200px;max-width: 100%;overflow: auto;}#sk-container-id-2 input.sk-toggleable__control:checked~label.sk-toggleable__label-arrow:before {content: \"▾\";}#sk-container-id-2 div.sk-estimator input.sk-toggleable__control:checked~label.sk-toggleable__label {background-color: #d4ebff;}#sk-container-id-2 div.sk-label input.sk-toggleable__control:checked~label.sk-toggleable__label {background-color: #d4ebff;}#sk-container-id-2 input.sk-hidden--visually {border: 0;clip: rect(1px 1px 1px 1px);clip: rect(1px, 1px, 1px, 1px);height: 1px;margin: -1px;overflow: hidden;padding: 0;position: absolute;width: 1px;}#sk-container-id-2 div.sk-estimator {font-family: monospace;background-color: #f0f8ff;border: 1px dotted black;border-radius: 0.25em;box-sizing: border-box;margin-bottom: 0.5em;}#sk-container-id-2 div.sk-estimator:hover {background-color: #d4ebff;}#sk-container-id-2 div.sk-parallel-item::after {content: \"\";width: 100%;border-bottom: 1px solid gray;flex-grow: 1;}#sk-container-id-2 div.sk-label:hover label.sk-toggleable__label {background-color: #d4ebff;}#sk-container-id-2 div.sk-serial::before {content: \"\";position: absolute;border-left: 1px solid gray;box-sizing: border-box;top: 0;bottom: 0;left: 50%;z-index: 0;}#sk-container-id-2 div.sk-serial {display: flex;flex-direction: column;align-items: center;background-color: white;padding-right: 0.2em;padding-left: 0.2em;position: relative;}#sk-container-id-2 div.sk-item {position: relative;z-index: 1;}#sk-container-id-2 div.sk-parallel {display: flex;align-items: stretch;justify-content: center;background-color: white;position: relative;}#sk-container-id-2 div.sk-item::before, #sk-container-id-2 div.sk-parallel-item::before {content: \"\";position: absolute;border-left: 1px solid gray;box-sizing: border-box;top: 0;bottom: 0;left: 50%;z-index: -1;}#sk-container-id-2 div.sk-parallel-item {display: flex;flex-direction: column;z-index: 1;position: relative;background-color: white;}#sk-container-id-2 div.sk-parallel-item:first-child::after {align-self: flex-end;width: 50%;}#sk-container-id-2 div.sk-parallel-item:last-child::after {align-self: flex-start;width: 50%;}#sk-container-id-2 div.sk-parallel-item:only-child::after {width: 0;}#sk-container-id-2 div.sk-dashed-wrapped {border: 1px dashed gray;margin: 0 0.4em 0.5em 0.4em;box-sizing: border-box;padding-bottom: 0.4em;background-color: white;}#sk-container-id-2 div.sk-label label {font-family: monospace;font-weight: bold;display: inline-block;line-height: 1.2em;}#sk-container-id-2 div.sk-label-container {text-align: center;}#sk-container-id-2 div.sk-container {/* jupyter's `normalize.less` sets `[hidden] { display: none; }` but bootstrap.min.css set `[hidden] { display: none !important; }` so we also need the `!important` here to be able to override the default hidden behavior on the sphinx rendered scikit-learn.org. See: https://github.com/scikit-learn/scikit-learn/issues/21755 */display: inline-block !important;position: relative;}#sk-container-id-2 div.sk-text-repr-fallback {display: none;}</style><div id=\"sk-container-id-2\" class=\"sk-top-container\"><div class=\"sk-text-repr-fallback\"><pre>DummyClassifier(strategy=&#x27;most_frequent&#x27;)</pre><b>In a Jupyter environment, please rerun this cell to show the HTML representation or trust the notebook. <br />On GitHub, the HTML representation is unable to render, please try loading this page with nbviewer.org.</b></div><div class=\"sk-container\" hidden><div class=\"sk-item\"><div class=\"sk-estimator sk-toggleable\"><input class=\"sk-toggleable__control sk-hidden--visually\" id=\"sk-estimator-id-2\" type=\"checkbox\" checked><label for=\"sk-estimator-id-2\" class=\"sk-toggleable__label sk-toggleable__label-arrow\">DummyClassifier</label><div class=\"sk-toggleable__content\"><pre>DummyClassifier(strategy=&#x27;most_frequent&#x27;)</pre></div></div></div></div></div>"
      ],
      "text/plain": [
       "DummyClassifier(strategy='most_frequent')"
      ]
     },
     "execution_count": 31,
     "metadata": {},
     "output_type": "execute_result"
    }
   ],
   "source": [
    "model.fit(None, y_train)"
   ]
  },
  {
   "cell_type": "code",
   "execution_count": 32,
   "id": "9685ebe2-9855-4cc8-a6c8-da502d5e9e92",
   "metadata": {},
   "outputs": [],
   "source": [
    "y_pred = model.predict(y_dev)"
   ]
  },
  {
   "cell_type": "code",
   "execution_count": 39,
   "id": "bedbe251-7e05-4094-af9a-7d6bdf979c30",
   "metadata": {},
   "outputs": [
    {
     "data": {
      "text/plain": [
       "496"
      ]
     },
     "execution_count": 39,
     "metadata": {},
     "output_type": "execute_result"
    }
   ],
   "source": [
    "len(y_pred)"
   ]
  },
  {
   "cell_type": "code",
   "execution_count": 41,
   "id": "76740df1-8145-45dd-b5fc-1ec58332d544",
   "metadata": {},
   "outputs": [],
   "source": [
    "import numpy as np"
   ]
  },
  {
   "cell_type": "code",
   "execution_count": 43,
   "id": "06f06011-e254-4616-988d-9860558848c8",
   "metadata": {},
   "outputs": [],
   "source": [
    "y_pred_op = np.zeros(496)"
   ]
  },
  {
   "cell_type": "code",
   "execution_count": 12,
   "id": "2adaa81a-9a30-4bc9-92d8-9a12982d923c",
   "metadata": {},
   "outputs": [],
   "source": [
    "report = classification_report(y_dev, y_pred, zero_division=0.0, output_dict=True)"
   ]
  },
  {
   "cell_type": "code",
   "execution_count": 44,
   "id": "855e1923-4087-49e2-9aa0-5f0894d5d2a0",
   "metadata": {},
   "outputs": [],
   "source": [
    "report2 = classification_report(y_dev, y_pred_op, zero_division=0.0, output_dict=True)"
   ]
  },
  {
   "cell_type": "code",
   "execution_count": 45,
   "id": "93e187ed-10da-43a8-a7b9-002c270b5a54",
   "metadata": {},
   "outputs": [
    {
     "data": {
      "text/plain": [
       "{'0': {'precision': 0.0, 'recall': 0.0, 'f1-score': 0.0, 'support': 140},\n",
       " '1': {'precision': 0.717741935483871,\n",
       "  'recall': 1.0,\n",
       "  'f1-score': 0.835680751173709,\n",
       "  'support': 356},\n",
       " 'accuracy': 0.717741935483871,\n",
       " 'macro avg': {'precision': 0.3588709677419355,\n",
       "  'recall': 0.5,\n",
       "  'f1-score': 0.4178403755868545,\n",
       "  'support': 496},\n",
       " 'weighted avg': {'precision': 0.5151534859521332,\n",
       "  'recall': 0.717741935483871,\n",
       "  'f1-score': 0.599803119794033,\n",
       "  'support': 496}}"
      ]
     },
     "execution_count": 45,
     "metadata": {},
     "output_type": "execute_result"
    }
   ],
   "source": [
    "report"
   ]
  },
  {
   "cell_type": "code",
   "execution_count": 46,
   "id": "2432137f-0518-4f39-8718-1ee531913fe3",
   "metadata": {},
   "outputs": [
    {
     "data": {
      "text/plain": [
       "{'0': {'precision': 0.28225806451612906,\n",
       "  'recall': 1.0,\n",
       "  'f1-score': 0.4402515723270441,\n",
       "  'support': 140},\n",
       " '1': {'precision': 0.0, 'recall': 0.0, 'f1-score': 0.0, 'support': 356},\n",
       " 'accuracy': 0.28225806451612906,\n",
       " 'macro avg': {'precision': 0.14112903225806453,\n",
       "  'recall': 0.5,\n",
       "  'f1-score': 0.22012578616352205,\n",
       "  'support': 496},\n",
       " 'weighted avg': {'precision': 0.07966961498439128,\n",
       "  'recall': 0.28225806451612906,\n",
       "  'f1-score': 0.12426455670521407,\n",
       "  'support': 496}}"
      ]
     },
     "execution_count": 46,
     "metadata": {},
     "output_type": "execute_result"
    }
   ],
   "source": [
    "report2"
   ]
  },
  {
   "cell_type": "code",
   "execution_count": 69,
   "id": "d6f0c2fa-2040-4ecf-9502-f6cb8244cb97",
   "metadata": {},
   "outputs": [],
   "source": [
    "total = 356+140"
   ]
  },
  {
   "cell_type": "code",
   "execution_count": 73,
   "id": "5b7fe659-b6ee-424b-adf5-eb4836d3eb55",
   "metadata": {},
   "outputs": [
    {
     "data": {
      "text/plain": [
       "1.0"
      ]
     },
     "execution_count": 73,
     "metadata": {},
     "output_type": "execute_result"
    }
   ],
   "source": [
    "(356/total)+(140/total)"
   ]
  },
  {
   "cell_type": "code",
   "execution_count": 82,
   "id": "8f71a4f5-e8a7-41f0-afb6-771d571735b3",
   "metadata": {},
   "outputs": [
    {
     "name": "stdout",
     "output_type": "stream",
     "text": [
      "\\begin{tabular}{lrrr}\n",
      "\\toprule\n",
      "{} &     P &      R &    F1 \\\\\n",
      "Factuality   &       &        &       \\\\\n",
      "\\midrule\n",
      "Asserted     &  71.8 &  100.0 &  83.6 \\\\\n",
      "Macro avg    &  35.9 &   50.0 &  41.8 \\\\\n",
      "Weighted avg &  51.5 &   71.8 &  60.0 \\\\\n",
      "Other        &  28.2 &  100.0 &  44.0 \\\\\n",
      "Macro avg    &  14.1 &   50.0 &  22.0 \\\\\n",
      "Weighted avg &   8.0 &   28.2 &  12.4 \\\\\n",
      "\\bottomrule\n",
      "\\end{tabular}\n",
      "\n"
     ]
    },
    {
     "name": "stderr",
     "output_type": "stream",
     "text": [
      "/tmp/ipykernel_21305/4225616045.py:20: FutureWarning: In future versions `DataFrame.to_latex` is expected to utilise the base implementation of `Styler.to_latex` for formatting and rendering. The arguments signature may therefore change. It is recommended instead to use `DataFrame.style.to_latex` which also contains additional functionality.\n",
      "  }).set_index('Factuality').mul(100)).round(1).to_latex())\n"
     ]
    }
   ],
   "source": [
    "print((pd.DataFrame({\"Factuality\": ['Asserted', 'Macro avg', 'Weighted avg', 'Other', 'Macro avg', 'Weighted avg'],\n",
    "             \"P\": [report['1']['precision'], \n",
    "                   report['macro avg']['precision'],\n",
    "                   report['weighted avg']['precision'],\n",
    "                   report2['0']['precision'], \n",
    "                   report2['macro avg']['precision'],\n",
    "                   report2['weighted avg']['precision']],\n",
    "              \"R\": [report['1']['recall'], \n",
    "                   report['macro avg']['recall'],\n",
    "                   report['weighted avg']['recall'],\n",
    "                   report2['0']['recall'], \n",
    "                   report2['macro avg']['recall'],\n",
    "                   report2['weighted avg']['recall']],\n",
    "              \"F1\": [report['1']['f1-score'], \n",
    "                     report['macro avg']['f1-score'],\n",
    "                     report['weighted avg']['f1-score'],\n",
    "                     report2['0']['f1-score'], \n",
    "                     report2['macro avg']['f1-score'],\n",
    "                     report2['weighted avg']['f1-score']]\n",
    "                    }).set_index('Factuality').mul(100)).round(1).to_latex())"
   ]
  },
  {
   "cell_type": "code",
   "execution_count": 24,
   "id": "648c81fb-f19c-4e78-8643-a3536b65fda9",
   "metadata": {},
   "outputs": [],
   "source": [
    "z['Macro avg'] = x\n",
    "z['Weighted avg'] = y"
   ]
  },
  {
   "cell_type": "code",
   "execution_count": 26,
   "id": "aa5d8b4b-62d1-4718-8a21-a9362d4993ba",
   "metadata": {},
   "outputs": [
    {
     "data": {
      "text/html": [
       "<div>\n",
       "<style scoped>\n",
       "    .dataframe tbody tr th:only-of-type {\n",
       "        vertical-align: middle;\n",
       "    }\n",
       "\n",
       "    .dataframe tbody tr th {\n",
       "        vertical-align: top;\n",
       "    }\n",
       "\n",
       "    .dataframe thead th {\n",
       "        text-align: right;\n",
       "    }\n",
       "</style>\n",
       "<table border=\"1\" class=\"dataframe\">\n",
       "  <thead>\n",
       "    <tr style=\"text-align: right;\">\n",
       "      <th></th>\n",
       "      <th>precision</th>\n",
       "      <th>recall</th>\n",
       "      <th>f1-score</th>\n",
       "      <th>support</th>\n",
       "    </tr>\n",
       "  </thead>\n",
       "  <tbody>\n",
       "    <tr>\n",
       "      <th>0</th>\n",
       "      <td>0.000000</td>\n",
       "      <td>0.000000</td>\n",
       "      <td>0.000000</td>\n",
       "      <td>140.0</td>\n",
       "    </tr>\n",
       "    <tr>\n",
       "      <th>1</th>\n",
       "      <td>0.717742</td>\n",
       "      <td>1.000000</td>\n",
       "      <td>0.835681</td>\n",
       "      <td>356.0</td>\n",
       "    </tr>\n",
       "    <tr>\n",
       "      <th>Macro avg</th>\n",
       "      <td>0.358871</td>\n",
       "      <td>0.500000</td>\n",
       "      <td>0.417840</td>\n",
       "      <td>496.0</td>\n",
       "    </tr>\n",
       "    <tr>\n",
       "      <th>Weighted avg</th>\n",
       "      <td>0.515153</td>\n",
       "      <td>0.717742</td>\n",
       "      <td>0.599803</td>\n",
       "      <td>496.0</td>\n",
       "    </tr>\n",
       "  </tbody>\n",
       "</table>\n",
       "</div>"
      ],
      "text/plain": [
       "              precision    recall  f1-score  support\n",
       "0              0.000000  0.000000  0.000000    140.0\n",
       "1              0.717742  1.000000  0.835681    356.0\n",
       "Macro avg      0.358871  0.500000  0.417840    496.0\n",
       "Weighted avg   0.515153  0.717742  0.599803    496.0"
      ]
     },
     "execution_count": 26,
     "metadata": {},
     "output_type": "execute_result"
    }
   ],
   "source": [
    "z.T"
   ]
  },
  {
   "cell_type": "code",
   "execution_count": 18,
   "id": "10952c7e-7040-4266-b053-6699b09143fd",
   "metadata": {},
   "outputs": [],
   "source": [
    "y.loc['Accuracy'] = [\"\", \"\", report['accuracy']]"
   ]
  },
  {
   "cell_type": "code",
   "execution_count": 19,
   "id": "df134985-6ac5-4440-b2aa-18144b23ea78",
   "metadata": {},
   "outputs": [],
   "source": [
    "y = y.rename({'f1-score': 'f1', 'precision': \"Precision\", \"recall\": \"Recall\"}, axis=0)"
   ]
  },
  {
   "cell_type": "code",
   "execution_count": 20,
   "id": "8ca3adb3-7d86-43dd-ad7f-2600e6f770b9",
   "metadata": {},
   "outputs": [
    {
     "name": "stdout",
     "output_type": "stream",
     "text": [
      "\\begin{tabular}{lllr}\n",
      "\\toprule\n",
      "{} &      0 &         1 &   macro\\_avg \\\\\n",
      "\\midrule\n",
      "\\textbf{Precision} &    0.0 &  0.717742 &    0.358871 \\\\\n",
      "\\textbf{Recall   } &    0.0 &       1.0 &    0.500000 \\\\\n",
      "\\textbf{f1       } &    0.0 &  0.835681 &    0.417840 \\\\\n",
      "\\textbf{support  } &  140.0 &     356.0 &  496.000000 \\\\\n",
      "\\textbf{Accuracy } &        &           &    0.717742 \\\\\n",
      "\\bottomrule\n",
      "\\end{tabular}\n",
      "\n"
     ]
    },
    {
     "name": "stderr",
     "output_type": "stream",
     "text": [
      "/tmp/ipykernel_21305/3862831697.py:1: FutureWarning: In future versions `DataFrame.to_latex` is expected to utilise the base implementation of `Styler.to_latex` for formatting and rendering. The arguments signature may therefore change. It is recommended instead to use `DataFrame.style.to_latex` which also contains additional functionality.\n",
      "  print(y.to_latex(bold_rows=True))\n"
     ]
    }
   ],
   "source": [
    "print(y.to_latex(bold_rows=True))"
   ]
  },
  {
   "cell_type": "code",
   "execution_count": 22,
   "id": "e8f95977-5d0c-4425-b03b-35b72ce263e3",
   "metadata": {},
   "outputs": [],
   "source": [
    "y[['macro_avg']].to_csv('../results/metrics_majority_baseline.csv')"
   ]
  },
  {
   "cell_type": "code",
   "execution_count": 29,
   "id": "55084d0b-6e7a-46d2-9187-5335bed97185",
   "metadata": {},
   "outputs": [],
   "source": [
    "df = pd.DataFrame({\"Majority class\": [y.loc['Precision'][1], y.loc['Precision'][0], y.loc['Recall'][1], y.loc['Recall'][0], y.loc['f1'][1], y.loc['f1'][0], y.loc['Accuracy']['macro_avg']]}, \n",
    "                  [\"Precision Asserted\", \"Precision Other\", \"Recall Asserted\", \"Recall Other\", \"f1 Asserted\", \"f1 Other\", \"Accuracy\"])"
   ]
  },
  {
   "cell_type": "code",
   "execution_count": 31,
   "id": "1c5f2956-3e28-4d7b-b32c-e2acbbd678cd",
   "metadata": {},
   "outputs": [],
   "source": [
    "df.to_csv('../results/majority_baseline.csv')"
   ]
  },
  {
   "cell_type": "code",
   "execution_count": null,
   "id": "226f7e82-a8ab-4f84-9141-269366726a6d",
   "metadata": {},
   "outputs": [],
   "source": []
  },
  {
   "cell_type": "code",
   "execution_count": null,
   "id": "851aad21-2438-4651-976e-73b33382a6b7",
   "metadata": {},
   "outputs": [],
   "source": []
  }
 ],
 "metadata": {
  "kernelspec": {
   "display_name": "Python 3 (ipykernel)",
   "language": "python",
   "name": "python3"
  },
  "language_info": {
   "codemirror_mode": {
    "name": "ipython",
    "version": 3
   },
   "file_extension": ".py",
   "mimetype": "text/x-python",
   "name": "python",
   "nbconvert_exporter": "python",
   "pygments_lexer": "ipython3",
   "version": "3.10.13"
  }
 },
 "nbformat": 4,
 "nbformat_minor": 5
}
