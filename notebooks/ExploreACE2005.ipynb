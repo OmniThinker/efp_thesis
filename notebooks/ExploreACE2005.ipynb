{
 "cells": [
  {
   "cell_type": "markdown",
   "id": "720bca38-d307-4b48-af8a-da0807f604a4",
   "metadata": {},
   "source": [
    "# Data analysis of the ACE2005 dataset\n",
    "In this notebook I am doing an analysis of the Ace 2005 dataset.\n",
    "This will include transformations, graphs and all other material related to the master thesis.\n",
    "\n",
    "## Importing the training data\n",
    "I will begin by importing only the training data. This is the dataset I will do my analysis on, consequently not giving me any foresight into\n",
    "the testing data."
   ]
  },
  {
   "cell_type": "code",
   "execution_count": 1,
   "id": "f6a2e277-377f-4870-aa46-e190c92745fd",
   "metadata": {},
   "outputs": [],
   "source": [
    "%load_ext autoreload \n",
    "%autoreload 2"
   ]
  },
  {
   "cell_type": "code",
   "execution_count": 2,
   "id": "f7826462-1d87-470c-8536-51f6c444e079",
   "metadata": {},
   "outputs": [],
   "source": [
    "import pandas as pd\n",
    "import os\n",
    "import sys\n",
    "from typing import Sequence, Dict, Any, Tuple, get_args\n",
    "import seaborn as sns\n",
    "import matplotlib.pyplot as plt\n",
    "from scipy.stats import chi2_contingency"
   ]
  },
  {
   "cell_type": "code",
   "execution_count": 3,
   "id": "05c74e35-63d0-4cf4-99a1-90b9d8ab9ad7",
   "metadata": {},
   "outputs": [],
   "source": [
    "sys.path.append(os.path.join(os.path.abspath(os.getcwd()), \"..\"))"
   ]
  },
  {
   "cell_type": "code",
   "execution_count": 4,
   "id": "912509e5-5755-4054-8ac4-cba3d6cf9427",
   "metadata": {},
   "outputs": [],
   "source": [
    "from certainty import EventSentence, load_file, convert_events, EventType, bootstrap_metrics"
   ]
  },
  {
   "cell_type": "code",
   "execution_count": 5,
   "id": "676f5d62-0697-48d4-90ef-77b1a080d610",
   "metadata": {},
   "outputs": [],
   "source": [
    "ace_train = load_file(\"en_train.json\")\n",
    "ace_dev = load_file(\"en_dev.json\")\n",
    "ace_test = load_file(\"en_test.json\")"
   ]
  },
  {
   "cell_type": "code",
   "execution_count": 6,
   "id": "d5a8958c-c949-4170-98b0-cf9b39cd8d10",
   "metadata": {},
   "outputs": [
    {
     "data": {
      "text/plain": [
       "{'sent_id': 'nw/APW_ENG_20030513.0139/006',\n",
       " 'text': 'A U.S. military official in Seoul , speaking on condition of anonymity , said Tuesday North Korea is believed to have exported US$ 580 million worth of missiles to Iran , Pakistan , Libya , Syria , Egypt , Yemen and the United Arab Emirates in 2001',\n",
       " 'events': [{'event_type': 'Transfer-Ownership',\n",
       "   'event_polarity': 'Positive',\n",
       "   'event_genericity': 'Specific',\n",
       "   'event_modality': 'Other',\n",
       "   'trigger': [['exported'], ['118:126']],\n",
       "   'arguments': [[['North Korea'], ['86:97'], 'Seller'],\n",
       "    [['US$ 580 million'], ['127:142'], 'Price'],\n",
       "    [['missiles'], ['152:160'], 'Artifact'],\n",
       "    [['Iran'], ['164:168'], 'Buyer'],\n",
       "    [['Pakistan'], ['171:179'], 'Buyer'],\n",
       "    [['Libya'], ['182:187'], 'Buyer'],\n",
       "    [['Syria'], ['190:195'], 'Buyer'],\n",
       "    [['Egypt'], ['198:203'], 'Buyer'],\n",
       "    [['Yemen'], ['206:211'], 'Buyer'],\n",
       "    [['the United Arab Emirates'], ['216:240'], 'Buyer'],\n",
       "    [['2001'], ['244:248'], 'Time-Within']]}]}"
      ]
     },
     "execution_count": 6,
     "metadata": {},
     "output_type": "execute_result"
    }
   ],
   "source": [
    "[x for x in ace_train if len(x['events']) > 0 and len(x[\"events\"][0][\"arguments\"]) > 10][0]"
   ]
  },
  {
   "cell_type": "code",
   "execution_count": 7,
   "id": "40f40493-cbfa-4cfc-a456-874155148f3c",
   "metadata": {},
   "outputs": [],
   "source": [
    "train_df = pd.DataFrame(ace_train).drop_duplicates('text').drop_duplicates('events')\n",
    "dev_df = pd.DataFrame(ace_dev).drop_duplicates('text').drop_duplicates('events')\n",
    "test_df = pd.DataFrame(ace_test).drop_duplicates('text').drop_duplicates('events')"
   ]
  },
  {
   "cell_type": "code",
   "execution_count": 8,
   "id": "17590b30-9b50-4025-af43-51698d974953",
   "metadata": {},
   "outputs": [
    {
     "data": {
      "text/html": [
       "<div>\n",
       "<style scoped>\n",
       "    .dataframe tbody tr th:only-of-type {\n",
       "        vertical-align: middle;\n",
       "    }\n",
       "\n",
       "    .dataframe tbody tr th {\n",
       "        vertical-align: top;\n",
       "    }\n",
       "\n",
       "    .dataframe thead th {\n",
       "        text-align: right;\n",
       "    }\n",
       "</style>\n",
       "<table border=\"1\" class=\"dataframe\">\n",
       "  <thead>\n",
       "    <tr style=\"text-align: right;\">\n",
       "      <th></th>\n",
       "      <th>sent_id</th>\n",
       "      <th>text</th>\n",
       "      <th>events</th>\n",
       "    </tr>\n",
       "  </thead>\n",
       "  <tbody>\n",
       "    <tr>\n",
       "      <th>count</th>\n",
       "      <td>3246</td>\n",
       "      <td>3246</td>\n",
       "      <td>3246</td>\n",
       "    </tr>\n",
       "    <tr>\n",
       "      <th>unique</th>\n",
       "      <td>3246</td>\n",
       "      <td>3246</td>\n",
       "      <td>3246</td>\n",
       "    </tr>\n",
       "    <tr>\n",
       "      <th>top</th>\n",
       "      <td>bc/CNN_IP_20030329.1600.02/001</td>\n",
       "      <td>It was in northern Iraq today that an eight ar...</td>\n",
       "      <td>[{'event_type': 'Attack', 'event_polarity': 'P...</td>\n",
       "    </tr>\n",
       "    <tr>\n",
       "      <th>freq</th>\n",
       "      <td>1</td>\n",
       "      <td>1</td>\n",
       "      <td>1</td>\n",
       "    </tr>\n",
       "  </tbody>\n",
       "</table>\n",
       "</div>"
      ],
      "text/plain": [
       "                               sent_id  \\\n",
       "count                             3246   \n",
       "unique                            3246   \n",
       "top     bc/CNN_IP_20030329.1600.02/001   \n",
       "freq                                 1   \n",
       "\n",
       "                                                     text  \\\n",
       "count                                                3246   \n",
       "unique                                               3246   \n",
       "top     It was in northern Iraq today that an eight ar...   \n",
       "freq                                                    1   \n",
       "\n",
       "                                                   events  \n",
       "count                                                3246  \n",
       "unique                                               3246  \n",
       "top     [{'event_type': 'Attack', 'event_polarity': 'P...  \n",
       "freq                                                    1  "
      ]
     },
     "execution_count": 8,
     "metadata": {},
     "output_type": "execute_result"
    }
   ],
   "source": [
    "train_df.describe()"
   ]
  },
  {
   "cell_type": "code",
   "execution_count": 9,
   "id": "7f194c9a-7242-400b-ac2e-c957e95f0982",
   "metadata": {},
   "outputs": [
    {
     "data": {
      "text/html": [
       "<div>\n",
       "<style scoped>\n",
       "    .dataframe tbody tr th:only-of-type {\n",
       "        vertical-align: middle;\n",
       "    }\n",
       "\n",
       "    .dataframe tbody tr th {\n",
       "        vertical-align: top;\n",
       "    }\n",
       "\n",
       "    .dataframe thead th {\n",
       "        text-align: right;\n",
       "    }\n",
       "</style>\n",
       "<table border=\"1\" class=\"dataframe\">\n",
       "  <thead>\n",
       "    <tr style=\"text-align: right;\">\n",
       "      <th></th>\n",
       "      <th>sent_id</th>\n",
       "      <th>text</th>\n",
       "      <th>events</th>\n",
       "    </tr>\n",
       "  </thead>\n",
       "  <tbody>\n",
       "    <tr>\n",
       "      <th>count</th>\n",
       "      <td>293</td>\n",
       "      <td>293</td>\n",
       "      <td>293</td>\n",
       "    </tr>\n",
       "    <tr>\n",
       "      <th>unique</th>\n",
       "      <td>293</td>\n",
       "      <td>293</td>\n",
       "      <td>293</td>\n",
       "    </tr>\n",
       "    <tr>\n",
       "      <th>top</th>\n",
       "      <td>nw/APW_ENG_20030322.0119/001</td>\n",
       "      <td>U.S. and British troops were moving on the str...</td>\n",
       "      <td>[{'event_type': 'Transport', 'event_polarity':...</td>\n",
       "    </tr>\n",
       "    <tr>\n",
       "      <th>freq</th>\n",
       "      <td>1</td>\n",
       "      <td>1</td>\n",
       "      <td>1</td>\n",
       "    </tr>\n",
       "  </tbody>\n",
       "</table>\n",
       "</div>"
      ],
      "text/plain": [
       "                             sent_id  \\\n",
       "count                            293   \n",
       "unique                           293   \n",
       "top     nw/APW_ENG_20030322.0119/001   \n",
       "freq                               1   \n",
       "\n",
       "                                                     text  \\\n",
       "count                                                 293   \n",
       "unique                                                293   \n",
       "top     U.S. and British troops were moving on the str...   \n",
       "freq                                                    1   \n",
       "\n",
       "                                                   events  \n",
       "count                                                 293  \n",
       "unique                                                293  \n",
       "top     [{'event_type': 'Transport', 'event_polarity':...  \n",
       "freq                                                    1  "
      ]
     },
     "execution_count": 9,
     "metadata": {},
     "output_type": "execute_result"
    }
   ],
   "source": [
    "test_df.describe()"
   ]
  },
  {
   "cell_type": "markdown",
   "id": "034cf26b-77c1-4090-8e28-f81e0096e213",
   "metadata": {},
   "source": [
    "## General datastructure\n",
    "We see that the general structure of the data is as follows:\n",
    "- Each datapoint in the collection is a mapping of three fields, all relating to a single sentence.\n",
    "- **Sent_id** is an identifier for this particular sentence\n",
    "- **Text** is the raw non-processed text\n",
    "- **Events** is a collection of events identified for that particular sentence, also taking the role as the gold standard \"label\" of the datapoint.\n",
    "\n",
    "### Event\n",
    "The event collection is a list of identified events. Each event has  some important fields:\n",
    "- **Event_type** the type of event taken from the predefined ace ontology\n",
    "- **Event_polarity** the sentiment of the event (positive/negative)\n",
    "- **Event_genericity** whether the event is a *generic* statement, or about something *specific*\n",
    "- **Event_modality** Whether the event is asserted or not. This is the most relevant field to my thesis.\n"
   ]
  },
  {
   "cell_type": "markdown",
   "id": "4c7ad22e-5bda-47ac-89f5-973a3eb4c44f",
   "metadata": {},
   "source": [
    "\n",
    "### Flattening the structure\n",
    "Because the aim is to identify the modality of each event, the sentence is not the only input data we need to account for.\n",
    "\n",
    "Later on, the amount of information supplied to each classifier may include all the information about the event, or none of it (for example in a joint model). The effect that the event data has on the target classifier is interesting in and of itself."
   ]
  },
  {
   "cell_type": "code",
   "execution_count": 10,
   "id": "32186cb9-e66e-495c-a4ed-0efa7bb470c9",
   "metadata": {},
   "outputs": [],
   "source": [
    "train_events: Sequence[EventSentence] = list(convert_events(train_df.to_dict('records')))\n",
    "dev_events: Sequence[EventSentence] = list(convert_events(dev_df.to_dict('records')))\n",
    "test_events: Sequence[EventSentence] = list(convert_events(test_df.to_dict('records')))"
   ]
  },
  {
   "cell_type": "code",
   "execution_count": 11,
   "id": "62294c39-a7e6-4254-9509-b50406f04318",
   "metadata": {},
   "outputs": [
    {
     "name": "stdout",
     "output_type": "stream",
     "text": [
      "4261\n",
      "496\n",
      "424\n"
     ]
    }
   ],
   "source": [
    "print(len(train_events))\n",
    "print(len(dev_events))\n",
    "print(len(test_events))"
   ]
  },
  {
   "cell_type": "code",
   "execution_count": 12,
   "id": "42543b39-b37b-4a4d-bd00-675e893e2865",
   "metadata": {},
   "outputs": [
    {
     "data": {
      "text/plain": [
       "{'sent_id': 'bc/CNN_IP_20030329.1600.02/001',\n",
       " 'text': 'It was in northern Iraq today that an eight artillery round hit the site occupied by Kurdish fighters near Chamchamal',\n",
       " 'type': 'Attack',\n",
       " 'modality': 'Asserted',\n",
       " 'label': 1,\n",
       " 'polarity': 'Positive',\n",
       " 'genericity': 'Specific',\n",
       " 'trigger': 'hit'}"
      ]
     },
     "execution_count": 12,
     "metadata": {},
     "output_type": "execute_result"
    }
   ],
   "source": [
    "train_events[0]"
   ]
  },
  {
   "cell_type": "markdown",
   "id": "d5ea8693-cc90-4a37-bf98-ce03b095286a",
   "metadata": {},
   "source": [
    "# Exploring the distributions\n",
    "First, we will explore the distribution of the modality.\n",
    "\n",
    "Second, we will explore the distribution of the types of event.\n",
    "\n",
    "Third, we will explore secondary fields, such as the genericity and polarity.\n",
    "\n",
    "Lastly, we may look at a few of the fields in relation to each other.\n"
   ]
  },
  {
   "cell_type": "code",
   "execution_count": 13,
   "id": "01728883-f3ec-4527-8173-8e23fe539eff",
   "metadata": {},
   "outputs": [],
   "source": [
    "# Preparing the data for plotting with sns\n",
    "category_order = ['Asserted', 'Other']\n",
    "train_events_df: pd.DataFrame = pd.DataFrame(train_events)\n",
    "train_events_df['modality'] = pd.Categorical(train_events_df['modality'], categories=category_order, ordered=True)\n",
    "dev_events_df: pd.DataFrame = pd.DataFrame(dev_events)\n",
    "dev_events_df['modality'] = pd.Categorical(dev_events_df['modality'], categories=category_order, ordered=True)\n",
    "test_events_df: pd.DataFrame = pd.DataFrame(test_events)\n",
    "test_events_df['modality'] = pd.Categorical(test_events_df['modality'], categories=category_order, ordered=True)"
   ]
  },
  {
   "cell_type": "code",
   "execution_count": 14,
   "id": "2a104017-851d-4ee9-8a94-9934e98ff333",
   "metadata": {},
   "outputs": [
    {
     "data": {
      "text/html": [
       "<div>\n",
       "<style scoped>\n",
       "    .dataframe tbody tr th:only-of-type {\n",
       "        vertical-align: middle;\n",
       "    }\n",
       "\n",
       "    .dataframe tbody tr th {\n",
       "        vertical-align: top;\n",
       "    }\n",
       "\n",
       "    .dataframe thead th {\n",
       "        text-align: right;\n",
       "    }\n",
       "</style>\n",
       "<table border=\"1\" class=\"dataframe\">\n",
       "  <thead>\n",
       "    <tr style=\"text-align: right;\">\n",
       "      <th></th>\n",
       "      <th>sent_id</th>\n",
       "      <th>text</th>\n",
       "      <th>type</th>\n",
       "      <th>modality</th>\n",
       "      <th>label</th>\n",
       "      <th>polarity</th>\n",
       "      <th>genericity</th>\n",
       "      <th>trigger</th>\n",
       "    </tr>\n",
       "  </thead>\n",
       "  <tbody>\n",
       "    <tr>\n",
       "      <th>0</th>\n",
       "      <td>bc/CNN_IP_20030329.1600.02/001</td>\n",
       "      <td>It was in northern Iraq today that an eight ar...</td>\n",
       "      <td>Attack</td>\n",
       "      <td>Asserted</td>\n",
       "      <td>1</td>\n",
       "      <td>Positive</td>\n",
       "      <td>Specific</td>\n",
       "      <td>hit</td>\n",
       "    </tr>\n",
       "    <tr>\n",
       "      <th>1</th>\n",
       "      <td>bc/CNN_IP_20030329.1600.02/002</td>\n",
       "      <td>A day ago it was controlled by Iraqi troops an...</td>\n",
       "      <td>Transport</td>\n",
       "      <td>Asserted</td>\n",
       "      <td>1</td>\n",
       "      <td>Positive</td>\n",
       "      <td>Specific</td>\n",
       "      <td>drive</td>\n",
       "    </tr>\n",
       "    <tr>\n",
       "      <th>2</th>\n",
       "      <td>bc/CNN_IP_20030329.1600.02/003</td>\n",
       "      <td>That 's because coalition fighter jets pummele...</td>\n",
       "      <td>Attack</td>\n",
       "      <td>Asserted</td>\n",
       "      <td>1</td>\n",
       "      <td>Positive</td>\n",
       "      <td>Specific</td>\n",
       "      <td>pummeled</td>\n",
       "    </tr>\n",
       "    <tr>\n",
       "      <th>3</th>\n",
       "      <td>bc/CNN_IP_20030329.1600.02/003</td>\n",
       "      <td>That 's because coalition fighter jets pummele...</td>\n",
       "      <td>Transport</td>\n",
       "      <td>Asserted</td>\n",
       "      <td>1</td>\n",
       "      <td>Positive</td>\n",
       "      <td>Specific</td>\n",
       "      <td>retreat</td>\n",
       "    </tr>\n",
       "    <tr>\n",
       "      <th>4</th>\n",
       "      <td>bc/CNN_IP_20030329.1600.02/004</td>\n",
       "      <td>I 'm glad to see them go this one says</td>\n",
       "      <td>Transport</td>\n",
       "      <td>Asserted</td>\n",
       "      <td>1</td>\n",
       "      <td>Positive</td>\n",
       "      <td>Specific</td>\n",
       "      <td>go</td>\n",
       "    </tr>\n",
       "  </tbody>\n",
       "</table>\n",
       "</div>"
      ],
      "text/plain": [
       "                          sent_id  \\\n",
       "0  bc/CNN_IP_20030329.1600.02/001   \n",
       "1  bc/CNN_IP_20030329.1600.02/002   \n",
       "2  bc/CNN_IP_20030329.1600.02/003   \n",
       "3  bc/CNN_IP_20030329.1600.02/003   \n",
       "4  bc/CNN_IP_20030329.1600.02/004   \n",
       "\n",
       "                                                text       type  modality  \\\n",
       "0  It was in northern Iraq today that an eight ar...     Attack  Asserted   \n",
       "1  A day ago it was controlled by Iraqi troops an...  Transport  Asserted   \n",
       "2  That 's because coalition fighter jets pummele...     Attack  Asserted   \n",
       "3  That 's because coalition fighter jets pummele...  Transport  Asserted   \n",
       "4             I 'm glad to see them go this one says  Transport  Asserted   \n",
       "\n",
       "   label  polarity genericity   trigger  \n",
       "0      1  Positive   Specific       hit  \n",
       "1      1  Positive   Specific     drive  \n",
       "2      1  Positive   Specific  pummeled  \n",
       "3      1  Positive   Specific   retreat  \n",
       "4      1  Positive   Specific        go  "
      ]
     },
     "execution_count": 14,
     "metadata": {},
     "output_type": "execute_result"
    }
   ],
   "source": [
    "train_events_df.head()"
   ]
  },
  {
   "cell_type": "code",
   "execution_count": 15,
   "id": "672e1d15-b50b-48a7-80f9-8ba9bf08db72",
   "metadata": {},
   "outputs": [
    {
     "data": {
      "text/plain": [
       "count     5181\n",
       "unique    1246\n",
       "top        war\n",
       "freq       323\n",
       "Name: trigger, dtype: object"
      ]
     },
     "execution_count": 15,
     "metadata": {},
     "output_type": "execute_result"
    }
   ],
   "source": [
    "pd.concat([train_events_df, dev_events_df, test_events_df])[\"trigger\"].describe()"
   ]
  },
  {
   "cell_type": "code",
   "execution_count": 16,
   "id": "3119da68-55e8-40ed-9e96-4db28227ef68",
   "metadata": {},
   "outputs": [
    {
     "data": {
      "text/plain": [
       "count       5181\n",
       "unique        33\n",
       "top       Attack\n",
       "freq        1509\n",
       "Name: type, dtype: object"
      ]
     },
     "execution_count": 16,
     "metadata": {},
     "output_type": "execute_result"
    }
   ],
   "source": [
    "pd.concat([train_events_df, dev_events_df, test_events_df])[\"type\"].describe()"
   ]
  },
  {
   "cell_type": "code",
   "execution_count": 17,
   "id": "97d92146-ddd1-47ea-9053-c0fefcaf3e0b",
   "metadata": {},
   "outputs": [],
   "source": [
    "sns.set_theme()"
   ]
  },
  {
   "cell_type": "markdown",
   "id": "6de89749-469f-4188-970f-741d37bc2fd6",
   "metadata": {},
   "source": [
    "## Modality\n",
    "We see from the histogram, that there is a tendency towards asserted statements.\n",
    "In fact we see from the value_counts that there is an approximate 3 to 1 ratio of asserted to non-asserted events."
   ]
  },
  {
   "cell_type": "code",
   "execution_count": 18,
   "id": "fb0e7212-f894-44a2-88d4-bcd9890ce129",
   "metadata": {},
   "outputs": [
    {
     "data": {
      "text/plain": [
       "Asserted    3216\n",
       "Other       1045\n",
       "Name: modality, dtype: int64"
      ]
     },
     "execution_count": 18,
     "metadata": {},
     "output_type": "execute_result"
    }
   ],
   "source": [
    "tedf_vc = train_events_df[\"modality\"].value_counts()\n",
    "tedf_vc"
   ]
  },
  {
   "cell_type": "code",
   "execution_count": 19,
   "id": "27ed1ab6-b191-4a61-aecb-76af5cb0b5cb",
   "metadata": {},
   "outputs": [
    {
     "data": {
      "text/plain": [
       "3.077511961722488"
      ]
     },
     "execution_count": 19,
     "metadata": {},
     "output_type": "execute_result"
    }
   ],
   "source": [
    "tedf_vc['Asserted']/tedf_vc['Other']"
   ]
  },
  {
   "cell_type": "code",
   "execution_count": 20,
   "id": "3b75c702-d298-4bd8-b8e1-ebd55465a262",
   "metadata": {},
   "outputs": [
    {
     "data": {
      "text/plain": [
       "Asserted    356\n",
       "Other       140\n",
       "Name: modality, dtype: int64"
      ]
     },
     "execution_count": 20,
     "metadata": {},
     "output_type": "execute_result"
    }
   ],
   "source": [
    "\n",
    "dedf_vc = dev_events_df[\"modality\"].value_counts()\n",
    "dedf_vc"
   ]
  },
  {
   "cell_type": "code",
   "execution_count": 21,
   "id": "835d9d48-4939-4646-a2db-30de45d30763",
   "metadata": {},
   "outputs": [
    {
     "data": {
      "text/plain": [
       "2.5428571428571427"
      ]
     },
     "execution_count": 21,
     "metadata": {},
     "output_type": "execute_result"
    }
   ],
   "source": [
    "dedf_vc['Asserted']/dedf_vc['Other']"
   ]
  },
  {
   "cell_type": "code",
   "execution_count": 22,
   "id": "cf41a4e9-5e69-467b-aa70-826b888124bb",
   "metadata": {},
   "outputs": [
    {
     "data": {
      "text/plain": [
       "Asserted    308\n",
       "Other       116\n",
       "Name: modality, dtype: int64"
      ]
     },
     "execution_count": 22,
     "metadata": {},
     "output_type": "execute_result"
    }
   ],
   "source": [
    "\n",
    "teedf_vc = test_events_df[\"modality\"].value_counts()\n",
    "teedf_vc"
   ]
  },
  {
   "cell_type": "code",
   "execution_count": 23,
   "id": "c1d9acf6-8f3e-4cd9-a5fb-101c509d9c92",
   "metadata": {},
   "outputs": [
    {
     "data": {
      "text/plain": [
       "2.6551724137931036"
      ]
     },
     "execution_count": 23,
     "metadata": {},
     "output_type": "execute_result"
    }
   ],
   "source": [
    "teedf_vc['Asserted']/teedf_vc['Other']"
   ]
  },
  {
   "cell_type": "code",
   "execution_count": 24,
   "id": "0ab81538-5165-4629-a8bb-52212cc8fab2",
   "metadata": {},
   "outputs": [
    {
     "data": {
      "image/png": "[encoded data removed]",
      "text/plain": [
       "<Figure size 833.333x500 with 1 Axes>"
      ]
     },
     "metadata": {},
     "output_type": "display_data"
    }
   ],
   "source": [
    "ds = sns.displot(train_events_df, x=\"modality\", aspect=5/3)\n",
    "fig = ds.fig\n",
    "fig.savefig(\"../figures/ace_train_modality_distribution.png\") "
   ]
  },
  {
   "cell_type": "code",
   "execution_count": 25,
   "id": "2f32def8-36f7-48e5-a1c4-18b8d306ba93",
   "metadata": {},
   "outputs": [
    {
     "data": {
      "image/png": "[encoded data removed]",
      "text/plain": [
       "<Figure size 833.333x500 with 1 Axes>"
      ]
     },
     "metadata": {},
     "output_type": "display_data"
    }
   ],
   "source": [
    "ds = sns.displot(dev_events_df, x=\"modality\", aspect=5/3)\n",
    "fig = ds.fig\n",
    "fig.savefig(\"../figures/ace_dev_modality_distribution.png\") "
   ]
  },
  {
   "cell_type": "code",
   "execution_count": 26,
   "id": "61bbfd10-c16c-41d2-9e0e-e2780888da52",
   "metadata": {},
   "outputs": [
    {
     "data": {
      "image/png": "[encoded data removed]",
      "text/plain": [
       "<Figure size 833.333x500 with 1 Axes>"
      ]
     },
     "metadata": {},
     "output_type": "display_data"
    }
   ],
   "source": [
    "ds = sns.displot(test_events_df, x=\"modality\", aspect=5/3)\n",
    "fig = ds.fig\n",
    "fig.savefig(\"../figures/ace_test_modality_distribution.png\") "
   ]
  },
  {
   "cell_type": "markdown",
   "id": "2f5a20fc-6204-4b48-a20f-8ba1e5013803",
   "metadata": {},
   "source": [
    "## Types"
   ]
  },
  {
   "cell_type": "code",
   "execution_count": 27,
   "id": "afed3622-d43a-4858-8c79-1767462ec60a",
   "metadata": {},
   "outputs": [],
   "source": [
    "events_df = pd.concat([train_events_df, dev_events_df, test_events_df])"
   ]
  },
  {
   "cell_type": "code",
   "execution_count": 28,
   "id": "1a6780ad-587c-4634-8d42-e7baf4f28ed3",
   "metadata": {},
   "outputs": [
    {
     "data": {
      "text/plain": [
       "33"
      ]
     },
     "execution_count": 28,
     "metadata": {},
     "output_type": "execute_result"
    }
   ],
   "source": [
    "len(events_df[\"type\"].unique())"
   ]
  },
  {
   "cell_type": "markdown",
   "id": "94393e99-5a10-4b22-a8b4-048e0542bcc4",
   "metadata": {},
   "source": [
    "We see that there are 33 types of events.\n",
    "The most common event is the Attack event, followed by transport and die."
   ]
  },
  {
   "cell_type": "code",
   "execution_count": 29,
   "id": "32ef054a-5792-4972-997c-513462c557be",
   "metadata": {},
   "outputs": [
    {
     "data": {
      "text/plain": [
       "Attack                1509\n",
       "Transport              717\n",
       "Die                    561\n",
       "Meet                   278\n",
       "End-Position           209\n",
       "Transfer-Money         189\n",
       "Elect                  166\n",
       "Injure                 142\n",
       "Transfer-Ownership     125\n",
       "Phone-Write            123\n",
       "Charge-Indict          106\n",
       "Start-Position         106\n",
       "Sentence                96\n",
       "Trial-Hearing           96\n",
       "Arrest-Jail             88\n",
       "Demonstrate             80\n",
       "Marry                   77\n",
       "Sue                     71\n",
       "Convict                 70\n",
       "Be-Born                 47\n",
       "Start-Org               47\n",
       "Appeal                  43\n",
       "Release-Parole          42\n",
       "Declare-Bankruptcy      41\n",
       "End-Org                 37\n",
       "Fine                    28\n",
       "Divorce                 27\n",
       "Execute                 21\n",
       "Merge-Org               14\n",
       "Nominate                12\n",
       "Acquit                   6\n",
       "Extradite                5\n",
       "Pardon                   2\n",
       "Name: type, dtype: int64"
      ]
     },
     "execution_count": 29,
     "metadata": {},
     "output_type": "execute_result"
    }
   ],
   "source": [
    "events_df[\"type\"].value_counts()"
   ]
  },
  {
   "cell_type": "markdown",
   "id": "84af5dc2-6b4b-4973-9d6e-7752b3d5885f",
   "metadata": {},
   "source": [
    "The least common events are Pardon and Acquit which could be considered fairly similar.\n",
    "It is obvious from the data that this is sampled from a news source. This fact explains the amount of asserted statements.\n"
   ]
  },
  {
   "cell_type": "code",
   "execution_count": 30,
   "id": "7401426e-d553-485f-a924-44201ce5fc14",
   "metadata": {},
   "outputs": [
    {
     "data": {
      "image/png": "[encoded data removed]",
      "text/plain": [
       "<Figure size 833.333x500 with 1 Axes>"
      ]
     },
     "metadata": {},
     "output_type": "display_data"
    }
   ],
   "source": [
    "dist = sns.displot(events_df, x=\"type\", aspect=5/3)\n",
    "dist.set_xticklabels(rotation=90)\n",
    "\n",
    "fig = dist.fig\n",
    "fig.savefig(\"../figures/ace_event_type_distribution.png\") "
   ]
  },
  {
   "cell_type": "markdown",
   "id": "51741461-9551-4d1f-b8ba-c537d500e7f5",
   "metadata": {},
   "source": [
    "## Genercitiy and polarity"
   ]
  },
  {
   "cell_type": "code",
   "execution_count": 31,
   "id": "e6688c9a-03f5-44dd-9728-2e1fa5b98e19",
   "metadata": {},
   "outputs": [
    {
     "data": {
      "text/plain": [
       "Specific    4031\n",
       "Generic     1150\n",
       "Name: genericity, dtype: int64"
      ]
     },
     "execution_count": 31,
     "metadata": {},
     "output_type": "execute_result"
    }
   ],
   "source": [
    "events_df[\"genericity\"].value_counts()\n"
   ]
  },
  {
   "cell_type": "markdown",
   "id": "1fbaac93-4b17-4893-8a91-877703b63009",
   "metadata": {},
   "source": [
    "We see that specific events has a 3 to 1 ratio with the the generic events. This may hint at a correlation between specific and asserted events.\n"
   ]
  },
  {
   "cell_type": "code",
   "execution_count": 32,
   "id": "53ca8a27-c37a-49ff-a518-26ab43665a4f",
   "metadata": {},
   "outputs": [
    {
     "data": {
      "text/plain": [
       "Positive    4995\n",
       "Negative     186\n",
       "Name: polarity, dtype: int64"
      ]
     },
     "execution_count": 32,
     "metadata": {},
     "output_type": "execute_result"
    }
   ],
   "source": [
    "events_df[\"polarity\"].value_counts()"
   ]
  },
  {
   "cell_type": "markdown",
   "id": "8acde527-6720-45d1-b9e9-1b09c5e9245a",
   "metadata": {},
   "source": [
    "We see that the overwhelming majority of events are positive. What is meant by positive in this space is difficult to tell, and we have to consult the original ace paper to find out."
   ]
  },
  {
   "cell_type": "code",
   "execution_count": 33,
   "id": "6981728f-9c00-49fe-8d24-9fbd37764068",
   "metadata": {},
   "outputs": [],
   "source": [
    "event = events_df[events_df['polarity'] == 'Negative'].iloc[0]"
   ]
  },
  {
   "cell_type": "code",
   "execution_count": 34,
   "id": "81e5d2d6-ca2a-4025-a122-5f828b402012",
   "metadata": {},
   "outputs": [
    {
     "data": {
      "text/plain": [
       "\"Now , Iraq 's minister of information today said that the coalition did not have control of the airport , that this was some sort of contrived video from the first day , and that , in fact , hundreds of coalition soldiers had been killed , and their graves were now at the airport\""
      ]
     },
     "execution_count": 34,
     "metadata": {},
     "output_type": "execute_result"
    }
   ],
   "source": [
    "event['text']"
   ]
  },
  {
   "cell_type": "code",
   "execution_count": 35,
   "id": "4d0590f4-8050-4db1-b0bc-482f1a645db7",
   "metadata": {},
   "outputs": [
    {
     "data": {
      "text/plain": [
       "'control'"
      ]
     },
     "execution_count": 35,
     "metadata": {},
     "output_type": "execute_result"
    }
   ],
   "source": [
    "event['trigger']"
   ]
  },
  {
   "cell_type": "code",
   "execution_count": 36,
   "id": "082b149a-db02-4c7e-a7a6-a3b316be7e77",
   "metadata": {},
   "outputs": [
    {
     "data": {
      "text/plain": [
       "'Transfer-Ownership'"
      ]
     },
     "execution_count": 36,
     "metadata": {},
     "output_type": "execute_result"
    }
   ],
   "source": [
    "event['type']"
   ]
  },
  {
   "cell_type": "code",
   "execution_count": 37,
   "id": "709fd61f-2246-43ae-b111-ceb52334e13f",
   "metadata": {},
   "outputs": [],
   "source": [
    "event = events_df[events_df['genericity'] == 'Generic'].head()"
   ]
  },
  {
   "cell_type": "code",
   "execution_count": 38,
   "id": "0d470646-4337-496b-addc-c5ebdeabbc68",
   "metadata": {},
   "outputs": [
    {
     "data": {
      "text/html": [
       "<div>\n",
       "<style scoped>\n",
       "    .dataframe tbody tr th:only-of-type {\n",
       "        vertical-align: middle;\n",
       "    }\n",
       "\n",
       "    .dataframe tbody tr th {\n",
       "        vertical-align: top;\n",
       "    }\n",
       "\n",
       "    .dataframe thead th {\n",
       "        text-align: right;\n",
       "    }\n",
       "</style>\n",
       "<table border=\"1\" class=\"dataframe\">\n",
       "  <thead>\n",
       "    <tr style=\"text-align: right;\">\n",
       "      <th></th>\n",
       "      <th>sent_id</th>\n",
       "      <th>text</th>\n",
       "      <th>type</th>\n",
       "      <th>modality</th>\n",
       "      <th>label</th>\n",
       "      <th>polarity</th>\n",
       "      <th>genericity</th>\n",
       "      <th>trigger</th>\n",
       "    </tr>\n",
       "  </thead>\n",
       "  <tbody>\n",
       "    <tr>\n",
       "      <th>8</th>\n",
       "      <td>bc/CNN_IP_20030329.1600.02/006</td>\n",
       "      <td>Although the Iraqis retreated from this area ,...</td>\n",
       "      <td>Die</td>\n",
       "      <td>Other</td>\n",
       "      <td>0</td>\n",
       "      <td>Positive</td>\n",
       "      <td>Generic</td>\n",
       "      <td>casualties</td>\n",
       "    </tr>\n",
       "    <tr>\n",
       "      <th>16</th>\n",
       "      <td>bc/CNN_CF_20030305.1900.06-1/002</td>\n",
       "      <td>I think it 's unwise , it 's unjust , it 's un...</td>\n",
       "      <td>Attack</td>\n",
       "      <td>Other</td>\n",
       "      <td>0</td>\n",
       "      <td>Positive</td>\n",
       "      <td>Generic</td>\n",
       "      <td>it</td>\n",
       "    </tr>\n",
       "    <tr>\n",
       "      <th>17</th>\n",
       "      <td>bc/CNN_CF_20030305.1900.06-1/004</td>\n",
       "      <td>Time now for \" Fireback , \" where our wacky an...</td>\n",
       "      <td>Phone-Write</td>\n",
       "      <td>Asserted</td>\n",
       "      <td>1</td>\n",
       "      <td>Positive</td>\n",
       "      <td>Generic</td>\n",
       "      <td>right</td>\n",
       "    </tr>\n",
       "    <tr>\n",
       "      <th>44</th>\n",
       "      <td>bc/CNN_IP_20030408.1600.04/012</td>\n",
       "      <td>It is an elementary fact of life during wartim...</td>\n",
       "      <td>Attack</td>\n",
       "      <td>Asserted</td>\n",
       "      <td>1</td>\n",
       "      <td>Positive</td>\n",
       "      <td>Generic</td>\n",
       "      <td>wartime</td>\n",
       "    </tr>\n",
       "    <tr>\n",
       "      <th>48</th>\n",
       "      <td>bc/CNN_IP_20030408.1600.04/014</td>\n",
       "      <td>The 600 journalists embedded with American tro...</td>\n",
       "      <td>Attack</td>\n",
       "      <td>Asserted</td>\n",
       "      <td>1</td>\n",
       "      <td>Positive</td>\n",
       "      <td>Generic</td>\n",
       "      <td>fire</td>\n",
       "    </tr>\n",
       "  </tbody>\n",
       "</table>\n",
       "</div>"
      ],
      "text/plain": [
       "                             sent_id  \\\n",
       "8     bc/CNN_IP_20030329.1600.02/006   \n",
       "16  bc/CNN_CF_20030305.1900.06-1/002   \n",
       "17  bc/CNN_CF_20030305.1900.06-1/004   \n",
       "44    bc/CNN_IP_20030408.1600.04/012   \n",
       "48    bc/CNN_IP_20030408.1600.04/014   \n",
       "\n",
       "                                                 text         type  modality  \\\n",
       "8   Although the Iraqis retreated from this area ,...          Die     Other   \n",
       "16  I think it 's unwise , it 's unjust , it 's un...       Attack     Other   \n",
       "17  Time now for \" Fireback , \" where our wacky an...  Phone-Write  Asserted   \n",
       "44  It is an elementary fact of life during wartim...       Attack  Asserted   \n",
       "48  The 600 journalists embedded with American tro...       Attack  Asserted   \n",
       "\n",
       "    label  polarity genericity     trigger  \n",
       "8       0  Positive    Generic  casualties  \n",
       "16      0  Positive    Generic          it  \n",
       "17      1  Positive    Generic       right  \n",
       "44      1  Positive    Generic     wartime  \n",
       "48      1  Positive    Generic        fire  "
      ]
     },
     "execution_count": 38,
     "metadata": {},
     "output_type": "execute_result"
    }
   ],
   "source": [
    "event"
   ]
  },
  {
   "cell_type": "code",
   "execution_count": 39,
   "id": "77f0e415-9f86-4a00-abe7-1244a1770720",
   "metadata": {},
   "outputs": [
    {
     "data": {
      "text/plain": [
       "'The 600 journalists embedded with American troops in Iraq will be threatened by the same fire as the troops they are covering'"
      ]
     },
     "execution_count": 39,
     "metadata": {},
     "output_type": "execute_result"
    }
   ],
   "source": [
    "event.iloc[4]['text']"
   ]
  },
  {
   "cell_type": "markdown",
   "id": "b2c152d8-59f4-4325-aea2-da80f033a463",
   "metadata": {},
   "source": [
    "## Correlations\n",
    "In this section I aim to look at the correlation of the different fields."
   ]
  },
  {
   "cell_type": "markdown",
   "id": "b85f3a82-34fb-41fe-8677-e9bec7b9d4de",
   "metadata": {},
   "source": [
    "### Correlations without type\n",
    "Since there is a large amount of types of events, it is beneficial to look at individual fields with the type.\n",
    "Initially we will only look at the genericity, modality and polarity.\n"
   ]
  },
  {
   "cell_type": "code",
   "execution_count": 40,
   "id": "2504c3cd-c7d6-4d49-913b-feda4e75d9ab",
   "metadata": {},
   "outputs": [
    {
     "data": {
      "image/png": "[encoded data removed]",
      "text/plain": [
       "<Figure size 600x600 with 1 Axes>"
      ]
     },
     "metadata": {},
     "output_type": "display_data"
    }
   ],
   "source": [
    "fig, ax = plt.subplots(figsize=(6,6))\n",
    "sns.heatmap(pd.get_dummies(events_df[[\"genericity\", \"modality\", \"polarity\"]],  prefix='', prefix_sep='').corr(), ax=ax, annot=True, cbar=False)\n",
    "fig.savefig(\"../figures/ace_modality_polarity_genericity_correlation.png\") "
   ]
  },
  {
   "cell_type": "markdown",
   "id": "6d4e7efd-3b14-4aa3-99bc-d335ac8498b8",
   "metadata": {},
   "source": [
    "- We see that Asserted events have a correlation of .33 with Specific as expected.\n",
    "- The negative polarity of the event is moderately correlated with the asserted events."
   ]
  },
  {
   "cell_type": "markdown",
   "id": "74152d09-db70-4fc4-b086-1561b82d3e29",
   "metadata": {},
   "source": [
    "## Types in relation to assertiveness\n",
    "We also whish to see whether the type of event is related to the assertiveness. I will perform a chi squared contingency test. \n",
    "The null-hypothesis of this test is that there is not relatedness with the two variables.\n"
   ]
  },
  {
   "cell_type": "code",
   "execution_count": 41,
   "id": "be7cf01a-ef1f-47d9-acb0-1c892ee420af",
   "metadata": {},
   "outputs": [
    {
     "name": "stdout",
     "output_type": "stream",
     "text": [
      "Chi-square statistic: 210.16601441508257\n",
      "P-value: 4.321406454985105e-28\n",
      "Degrees of freedom: 32\n"
     ]
    }
   ],
   "source": [
    "contingency_table =pd.crosstab(events_df[\"modality\"], events_df[\"type\"])\n",
    "\n",
    "chi2, p, dof, expected = chi2_contingency(contingency_table) # For the ace dataset the label is a discrete binary variable.\n",
    "\n",
    "# Print the results\n",
    "print(f\"Chi-square statistic: {chi2}\")\n",
    "print(f\"P-value: {p}\")\n",
    "print(f\"Degrees of freedom: {dof}\")\n"
   ]
  },
  {
   "cell_type": "code",
   "execution_count": 42,
   "id": "63e67362-8a0f-49bd-ba73-bfe103e8a0bf",
   "metadata": {},
   "outputs": [
    {
     "data": {
      "text/html": [
       "<div>\n",
       "<style scoped>\n",
       "    .dataframe tbody tr th:only-of-type {\n",
       "        vertical-align: middle;\n",
       "    }\n",
       "\n",
       "    .dataframe tbody tr th {\n",
       "        vertical-align: top;\n",
       "    }\n",
       "\n",
       "    .dataframe thead th {\n",
       "        text-align: right;\n",
       "    }\n",
       "</style>\n",
       "<table border=\"1\" class=\"dataframe\">\n",
       "  <thead>\n",
       "    <tr style=\"text-align: right;\">\n",
       "      <th>type</th>\n",
       "      <th>Acquit</th>\n",
       "      <th>Appeal</th>\n",
       "      <th>Arrest-Jail</th>\n",
       "      <th>Attack</th>\n",
       "      <th>Be-Born</th>\n",
       "      <th>Charge-Indict</th>\n",
       "      <th>Convict</th>\n",
       "      <th>Declare-Bankruptcy</th>\n",
       "      <th>Demonstrate</th>\n",
       "      <th>Die</th>\n",
       "      <th>...</th>\n",
       "      <th>Phone-Write</th>\n",
       "      <th>Release-Parole</th>\n",
       "      <th>Sentence</th>\n",
       "      <th>Start-Org</th>\n",
       "      <th>Start-Position</th>\n",
       "      <th>Sue</th>\n",
       "      <th>Transfer-Money</th>\n",
       "      <th>Transfer-Ownership</th>\n",
       "      <th>Transport</th>\n",
       "      <th>Trial-Hearing</th>\n",
       "    </tr>\n",
       "    <tr>\n",
       "      <th>modality</th>\n",
       "      <th></th>\n",
       "      <th></th>\n",
       "      <th></th>\n",
       "      <th></th>\n",
       "      <th></th>\n",
       "      <th></th>\n",
       "      <th></th>\n",
       "      <th></th>\n",
       "      <th></th>\n",
       "      <th></th>\n",
       "      <th></th>\n",
       "      <th></th>\n",
       "      <th></th>\n",
       "      <th></th>\n",
       "      <th></th>\n",
       "      <th></th>\n",
       "      <th></th>\n",
       "      <th></th>\n",
       "      <th></th>\n",
       "      <th></th>\n",
       "      <th></th>\n",
       "    </tr>\n",
       "  </thead>\n",
       "  <tbody>\n",
       "    <tr>\n",
       "      <th>Asserted</th>\n",
       "      <td>5</td>\n",
       "      <td>35</td>\n",
       "      <td>77</td>\n",
       "      <td>1092</td>\n",
       "      <td>40</td>\n",
       "      <td>91</td>\n",
       "      <td>61</td>\n",
       "      <td>24</td>\n",
       "      <td>74</td>\n",
       "      <td>473</td>\n",
       "      <td>...</td>\n",
       "      <td>99</td>\n",
       "      <td>18</td>\n",
       "      <td>68</td>\n",
       "      <td>32</td>\n",
       "      <td>74</td>\n",
       "      <td>48</td>\n",
       "      <td>128</td>\n",
       "      <td>64</td>\n",
       "      <td>513</td>\n",
       "      <td>83</td>\n",
       "    </tr>\n",
       "    <tr>\n",
       "      <th>Other</th>\n",
       "      <td>1</td>\n",
       "      <td>8</td>\n",
       "      <td>11</td>\n",
       "      <td>417</td>\n",
       "      <td>7</td>\n",
       "      <td>15</td>\n",
       "      <td>9</td>\n",
       "      <td>17</td>\n",
       "      <td>6</td>\n",
       "      <td>88</td>\n",
       "      <td>...</td>\n",
       "      <td>24</td>\n",
       "      <td>24</td>\n",
       "      <td>28</td>\n",
       "      <td>15</td>\n",
       "      <td>32</td>\n",
       "      <td>23</td>\n",
       "      <td>61</td>\n",
       "      <td>61</td>\n",
       "      <td>204</td>\n",
       "      <td>13</td>\n",
       "    </tr>\n",
       "  </tbody>\n",
       "</table>\n",
       "<p>2 rows × 33 columns</p>\n",
       "</div>"
      ],
      "text/plain": [
       "type      Acquit  Appeal  Arrest-Jail  Attack  Be-Born  Charge-Indict  \\\n",
       "modality                                                                \n",
       "Asserted       5      35           77    1092       40             91   \n",
       "Other          1       8           11     417        7             15   \n",
       "\n",
       "type      Convict  Declare-Bankruptcy  Demonstrate  Die  ...  Phone-Write  \\\n",
       "modality                                                 ...                \n",
       "Asserted       61                  24           74  473  ...           99   \n",
       "Other           9                  17            6   88  ...           24   \n",
       "\n",
       "type      Release-Parole  Sentence  Start-Org  Start-Position  Sue  \\\n",
       "modality                                                             \n",
       "Asserted              18        68         32              74   48   \n",
       "Other                 24        28         15              32   23   \n",
       "\n",
       "type      Transfer-Money  Transfer-Ownership  Transport  Trial-Hearing  \n",
       "modality                                                                \n",
       "Asserted             128                  64        513             83  \n",
       "Other                 61                  61        204             13  \n",
       "\n",
       "[2 rows x 33 columns]"
      ]
     },
     "execution_count": 42,
     "metadata": {},
     "output_type": "execute_result"
    }
   ],
   "source": [
    "contingency_table"
   ]
  },
  {
   "cell_type": "markdown",
   "id": "3ec1aebf-faff-4a32-aa0f-65f446bbba52",
   "metadata": {},
   "source": [
    "We see that the p-value is very low, and can conclude that there is evidence for a relatedness between the modality and the type of event.\n",
    "\n",
    "To further investigate this relatedness I will plot the "
   ]
  },
  {
   "cell_type": "code",
   "execution_count": 43,
   "id": "b46c02dc-18e5-47cb-b600-0810633267df",
   "metadata": {},
   "outputs": [
    {
     "data": {
      "image/png": "[encoded data removed]",
      "text/plain": [
       "<Figure size 400x1800 with 1 Axes>"
      ]
     },
     "metadata": {},
     "output_type": "display_data"
    }
   ],
   "source": [
    "proportions_table = contingency_table.div(contingency_table.sum(axis=0), axis=1)\n",
    "total_asserted_ratio = contingency_table.sum(axis=1) / contingency_table.values.sum()\n",
    "proportional_differences = proportions_table.sub(total_asserted_ratio, axis=0)\n",
    "fig, ax = plt.subplots(figsize=(4, 18))\n",
    "proportional_differences = proportional_differences.T\n",
    "sns.heatmap(proportional_differences, annot=True, cmap=\"coolwarm\", center=0, linewidths=0.5, cbar=False)\n",
    "\n",
    "#plt.xlabel('Type')\n",
    "#plt.ylabel('Modality')\n",
    "plt.xlabel('')\n",
    "plt.ylabel('')\n",
    "#plt.xticks(rotation=90)\n",
    "plt.show() # For the ace dataset the label is a discrete binary variable.\n",
    "\n",
    "fig.savefig(\"../figures/proportional_differences_types_modality.png\", bbox_inches='tight') "
   ]
  },
  {
   "cell_type": "markdown",
   "id": "8d3d63b3-dd7e-49f0-b8f1-6d9106cb816f",
   "metadata": {},
   "source": [
    "This plot needs an explanation. It is measuring the deviation per type from the mean assertiveness of all events. If a type is more assertive (or less) than the average it is shown here. This to both account for the difference in amount events per type and for the difference in amount of asserted events vs other.\n",
    "\n",
    "We see that the most interesting type is the Release-parole type, which is more likely to not be asserted than for example Divorce, Die, and demonstrate.\n",
    "\n",
    "What we can conclude from this is that it may be relatively easy to create a simple linear model as a baseline, and only use the type of event as independent variables."
   ]
  },
  {
   "cell_type": "markdown",
   "id": "3984105e-9d7a-4114-b017-65b93f16d185",
   "metadata": {},
   "source": [
    "# Triggers"
   ]
  },
  {
   "cell_type": "markdown",
   "id": "67a3afb7-951e-47d8-aa4c-3ab38bd0a1c3",
   "metadata": {},
   "source": [
    "# Logistic model types to modality"
   ]
  },
  {
   "cell_type": "code",
   "execution_count": 44,
   "id": "e1791198-bad8-44f9-b67e-d260e9e7c632",
   "metadata": {},
   "outputs": [],
   "source": [
    "from sklearn.linear_model import LogisticRegression\n",
    "from sklearn.metrics import accuracy_score, precision_score, recall_score, f1_score\n",
    "from sklearn.model_selection import cross_val_score, StratifiedKFold, GridSearchCV\n",
    "from sklearn.utils import resample"
   ]
  },
  {
   "cell_type": "code",
   "execution_count": 45,
   "id": "137cd756-b643-49bd-9a4f-80643869ad55",
   "metadata": {},
   "outputs": [],
   "source": [
    "def create_model_data(events: Sequence[EventSentence]) -> Tuple[pd.DataFrame, pd.Series]:\n",
    "    events_df: pd.DataFrame = pd.DataFrame(events)\n",
    "    expected_columns = ['type_' + eventtype for eventtype in get_args(EventType)[1:]] # dropfirst\n",
    "    X = pd.get_dummies(events_df[[\"type\"]], drop_first=True) # Dropping first variable for interpretability. Not strictly necessary because of regularization\n",
    "    \n",
    "    for col in expected_columns:\n",
    "        if col not in X.columns:\n",
    "            X[col] = 0  # Add the missing column filled with 0s\n",
    "        \n",
    "    y = events_df[\"modality\"].map({\"Asserted\": 1, \"Other\": 0})\n",
    "    return (X, y)"
   ]
  },
  {
   "cell_type": "code",
   "execution_count": 46,
   "id": "81bb5f88-c0dd-4498-b054-f5f08a1a8bb2",
   "metadata": {},
   "outputs": [],
   "source": [
    "random_seed: int = 245321"
   ]
  },
  {
   "cell_type": "code",
   "execution_count": 152,
   "id": "168218c3-ce10-4abb-b2fe-c50b14178d3f",
   "metadata": {},
   "outputs": [],
   "source": [
    "model: LogisticRegression = LogisticRegression(random_state=random_seed)\n",
    "model2: LogisticRegression = LogisticRegression(random_state=random_seed, class_weight=\"balanced\")"
   ]
  },
  {
   "cell_type": "code",
   "execution_count": 153,
   "id": "88bb25a1-01e8-4798-a2fc-faf412ce5961",
   "metadata": {},
   "outputs": [],
   "source": [
    "X_train, y_train = create_model_data(train_events)"
   ]
  },
  {
   "cell_type": "code",
   "execution_count": 154,
   "id": "ab35fe11-eb53-486a-b84c-118c9a3ec781",
   "metadata": {},
   "outputs": [
    {
     "data": {
      "text/html": [
       "<style>#sk-container-id-9 {color: black;background-color: white;}#sk-container-id-9 pre{padding: 0;}#sk-container-id-9 div.sk-toggleable {background-color: white;}#sk-container-id-9 label.sk-toggleable__label {cursor: pointer;display: block;width: 100%;margin-bottom: 0;padding: 0.3em;box-sizing: border-box;text-align: center;}#sk-container-id-9 label.sk-toggleable__label-arrow:before {content: \"▸\";float: left;margin-right: 0.25em;color: #696969;}#sk-container-id-9 label.sk-toggleable__label-arrow:hover:before {color: black;}#sk-container-id-9 div.sk-estimator:hover label.sk-toggleable__label-arrow:before {color: black;}#sk-container-id-9 div.sk-toggleable__content {max-height: 0;max-width: 0;overflow: hidden;text-align: left;background-color: #f0f8ff;}#sk-container-id-9 div.sk-toggleable__content pre {margin: 0.2em;color: black;border-radius: 0.25em;background-color: #f0f8ff;}#sk-container-id-9 input.sk-toggleable__control:checked~div.sk-toggleable__content {max-height: 200px;max-width: 100%;overflow: auto;}#sk-container-id-9 input.sk-toggleable__control:checked~label.sk-toggleable__label-arrow:before {content: \"▾\";}#sk-container-id-9 div.sk-estimator input.sk-toggleable__control:checked~label.sk-toggleable__label {background-color: #d4ebff;}#sk-container-id-9 div.sk-label input.sk-toggleable__control:checked~label.sk-toggleable__label {background-color: #d4ebff;}#sk-container-id-9 input.sk-hidden--visually {border: 0;clip: rect(1px 1px 1px 1px);clip: rect(1px, 1px, 1px, 1px);height: 1px;margin: -1px;overflow: hidden;padding: 0;position: absolute;width: 1px;}#sk-container-id-9 div.sk-estimator {font-family: monospace;background-color: #f0f8ff;border: 1px dotted black;border-radius: 0.25em;box-sizing: border-box;margin-bottom: 0.5em;}#sk-container-id-9 div.sk-estimator:hover {background-color: #d4ebff;}#sk-container-id-9 div.sk-parallel-item::after {content: \"\";width: 100%;border-bottom: 1px solid gray;flex-grow: 1;}#sk-container-id-9 div.sk-label:hover label.sk-toggleable__label {background-color: #d4ebff;}#sk-container-id-9 div.sk-serial::before {content: \"\";position: absolute;border-left: 1px solid gray;box-sizing: border-box;top: 0;bottom: 0;left: 50%;z-index: 0;}#sk-container-id-9 div.sk-serial {display: flex;flex-direction: column;align-items: center;background-color: white;padding-right: 0.2em;padding-left: 0.2em;position: relative;}#sk-container-id-9 div.sk-item {position: relative;z-index: 1;}#sk-container-id-9 div.sk-parallel {display: flex;align-items: stretch;justify-content: center;background-color: white;position: relative;}#sk-container-id-9 div.sk-item::before, #sk-container-id-9 div.sk-parallel-item::before {content: \"\";position: absolute;border-left: 1px solid gray;box-sizing: border-box;top: 0;bottom: 0;left: 50%;z-index: -1;}#sk-container-id-9 div.sk-parallel-item {display: flex;flex-direction: column;z-index: 1;position: relative;background-color: white;}#sk-container-id-9 div.sk-parallel-item:first-child::after {align-self: flex-end;width: 50%;}#sk-container-id-9 div.sk-parallel-item:last-child::after {align-self: flex-start;width: 50%;}#sk-container-id-9 div.sk-parallel-item:only-child::after {width: 0;}#sk-container-id-9 div.sk-dashed-wrapped {border: 1px dashed gray;margin: 0 0.4em 0.5em 0.4em;box-sizing: border-box;padding-bottom: 0.4em;background-color: white;}#sk-container-id-9 div.sk-label label {font-family: monospace;font-weight: bold;display: inline-block;line-height: 1.2em;}#sk-container-id-9 div.sk-label-container {text-align: center;}#sk-container-id-9 div.sk-container {/* jupyter's `normalize.less` sets `[hidden] { display: none; }` but bootstrap.min.css set `[hidden] { display: none !important; }` so we also need the `!important` here to be able to override the default hidden behavior on the sphinx rendered scikit-learn.org. See: https://github.com/scikit-learn/scikit-learn/issues/21755 */display: inline-block !important;position: relative;}#sk-container-id-9 div.sk-text-repr-fallback {display: none;}</style><div id=\"sk-container-id-9\" class=\"sk-top-container\"><div class=\"sk-text-repr-fallback\"><pre>LogisticRegression(class_weight=&#x27;balanced&#x27;, random_state=245321)</pre><b>In a Jupyter environment, please rerun this cell to show the HTML representation or trust the notebook. <br />On GitHub, the HTML representation is unable to render, please try loading this page with nbviewer.org.</b></div><div class=\"sk-container\" hidden><div class=\"sk-item\"><div class=\"sk-estimator sk-toggleable\"><input class=\"sk-toggleable__control sk-hidden--visually\" id=\"sk-estimator-id-9\" type=\"checkbox\" checked><label for=\"sk-estimator-id-9\" class=\"sk-toggleable__label sk-toggleable__label-arrow\">LogisticRegression</label><div class=\"sk-toggleable__content\"><pre>LogisticRegression(class_weight=&#x27;balanced&#x27;, random_state=245321)</pre></div></div></div></div></div>"
      ],
      "text/plain": [
       "LogisticRegression(class_weight='balanced', random_state=245321)"
      ]
     },
     "execution_count": 154,
     "metadata": {},
     "output_type": "execute_result"
    }
   ],
   "source": [
    "model.fit(X_train, y_train)\n",
    "model2.fit(X_train,y_train)"
   ]
  },
  {
   "cell_type": "code",
   "execution_count": 155,
   "id": "8d32b02d-f48b-4311-a431-c3706fc73799",
   "metadata": {},
   "outputs": [
    {
     "data": {
      "text/plain": [
       "array([[ 0.27916087,  0.88045692, -0.06107622,  0.52800871,  0.73992885,\n",
       "         0.57135576, -0.56007034,  1.04067644,  0.6746265 ,  0.6893808 ,\n",
       "        -0.14802626, -0.87242927,  0.114147  , -0.81610431, -1.02558571,\n",
       "        -0.23705051, -0.00307141,  0.52166929,  0.574929  , -0.35123126,\n",
       "        -0.90374195, -0.3433929 ,  0.23681015, -1.17858702, -0.23035251,\n",
       "        -0.07217162, -0.19146558, -0.2264147 ,  0.2132419 , -0.70420812,\n",
       "        -0.09686237,  0.67010929,  0.        ]])"
      ]
     },
     "execution_count": 155,
     "metadata": {},
     "output_type": "execute_result"
    }
   ],
   "source": [
    "model.coef_"
   ]
  },
  {
   "cell_type": "code",
   "execution_count": 156,
   "id": "9849e680-eb0b-4c0b-b6cc-3f6b2318e1e1",
   "metadata": {},
   "outputs": [
    {
     "data": {
      "text/plain": [
       "array([[ 0.28573856,  0.90840552, -0.07102666,  0.54525586,  0.75288511,\n",
       "         0.58544735, -0.57616764,  1.09456295,  0.66860538,  0.7688182 ,\n",
       "        -0.1587258 , -0.8850777 ,  0.10564923, -0.83481728, -1.03626219,\n",
       "        -0.25484464, -0.01268418,  0.52990673,  0.57267843, -0.37412524,\n",
       "        -0.91656144, -0.38446667,  0.23067795, -1.18475009, -0.24228157,\n",
       "        -0.08327694, -0.20309698, -0.23831883,  0.20640532, -0.7163482 ,\n",
       "        -0.10680353,  0.68071277,  0.        ]])"
      ]
     },
     "execution_count": 156,
     "metadata": {},
     "output_type": "execute_result"
    }
   ],
   "source": [
    "model2.coef_"
   ]
  },
  {
   "cell_type": "code",
   "execution_count": 161,
   "id": "0645c266-2282-4cd0-aec6-c2e14958863a",
   "metadata": {},
   "outputs": [
    {
     "data": {
      "text/plain": [
       "count      496\n",
       "unique       2\n",
       "top       True\n",
       "freq       356\n",
       "Name: modality, dtype: object"
      ]
     },
     "execution_count": 161,
     "metadata": {},
     "output_type": "execute_result"
    }
   ],
   "source": [
    "(model.predict(X_dev) == y_dev).describe()"
   ]
  },
  {
   "cell_type": "code",
   "execution_count": 112,
   "id": "3afbb762-1bd0-4967-9848-2cd118d9f5d5",
   "metadata": {},
   "outputs": [
    {
     "name": "stdout",
     "output_type": "stream",
     "text": [
      "Fitting 5 folds for each of 45 candidates, totalling 225 fits\n"
     ]
    },
    {
     "name": "stderr",
     "output_type": "stream",
     "text": [
      "/home/peder/.local/lib/python3.10/site-packages/sklearn/linear_model/_sag.py:350: ConvergenceWarning: The max_iter was reached which means the coef_ did not converge\n",
      "  warnings.warn(\n",
      "/home/peder/.local/lib/python3.10/site-packages/sklearn/linear_model/_sag.py:350: ConvergenceWarning: The max_iter was reached which means the coef_ did not converge\n",
      "  warnings.warn(\n",
      "/home/peder/.local/lib/python3.10/site-packages/sklearn/linear_model/_sag.py:350: ConvergenceWarning: The max_iter was reached which means the coef_ did not converge\n",
      "  warnings.warn(\n",
      "/home/peder/.local/lib/python3.10/site-packages/sklearn/linear_model/_sag.py:350: ConvergenceWarning: The max_iter was reached which means the coef_ did not converge\n",
      "  warnings.warn(\n",
      "/home/peder/.local/lib/python3.10/site-packages/sklearn/linear_model/_sag.py:350: ConvergenceWarning: The max_iter was reached which means the coef_ did not converge\n",
      "  warnings.warn(\n",
      "/home/peder/.local/lib/python3.10/site-packages/sklearn/linear_model/_sag.py:350: ConvergenceWarning: The max_iter was reached which means the coef_ did not converge\n",
      "  warnings.warn(\n",
      "/home/peder/.local/lib/python3.10/site-packages/sklearn/linear_model/_sag.py:350: ConvergenceWarning: The max_iter was reached which means the coef_ did not converge\n",
      "  warnings.warn(\n",
      "/home/peder/.local/lib/python3.10/site-packages/sklearn/linear_model/_sag.py:350: ConvergenceWarning: The max_iter was reached which means the coef_ did not converge\n",
      "  warnings.warn(\n",
      "/home/peder/.local/lib/python3.10/site-packages/sklearn/linear_model/_sag.py:350: ConvergenceWarning: The max_iter was reached which means the coef_ did not converge\n",
      "  warnings.warn(\n",
      "/home/peder/.local/lib/python3.10/site-packages/sklearn/linear_model/_sag.py:350: ConvergenceWarning: The max_iter was reached which means the coef_ did not converge\n",
      "  warnings.warn(\n",
      "/home/peder/.local/lib/python3.10/site-packages/sklearn/linear_model/_sag.py:350: ConvergenceWarning: The max_iter was reached which means the coef_ did not converge\n",
      "  warnings.warn(\n",
      "/home/peder/.local/lib/python3.10/site-packages/sklearn/model_selection/_validation.py:378: FitFailedWarning: \n",
      "75 fits failed out of a total of 225.\n",
      "The score on these train-test partitions for these parameters will be set to nan.\n",
      "If these failures are not expected, you can try to debug them by setting error_score='raise'.\n",
      "\n",
      "Below are more details about the failures:\n",
      "--------------------------------------------------------------------------------\n",
      "75 fits failed with the following error:\n",
      "Traceback (most recent call last):\n",
      "  File \"/home/peder/.local/lib/python3.10/site-packages/sklearn/model_selection/_validation.py\", line 686, in _fit_and_score\n",
      "    estimator.fit(X_train, y_train, **fit_params)\n",
      "  File \"/home/peder/.local/lib/python3.10/site-packages/sklearn/linear_model/_logistic.py\", line 1291, in fit\n",
      "    fold_coefs_ = Parallel(n_jobs=self.n_jobs, verbose=self.verbose, prefer=prefer)(\n",
      "  File \"/home/peder/.local/lib/python3.10/site-packages/sklearn/utils/parallel.py\", line 63, in __call__\n",
      "    return super().__call__(iterable_with_config)\n",
      "  File \"/home/peder/.local/lib/python3.10/site-packages/joblib/parallel.py\", line 1085, in __call__\n",
      "    if self.dispatch_one_batch(iterator):\n",
      "  File \"/home/peder/.local/lib/python3.10/site-packages/joblib/parallel.py\", line 901, in dispatch_one_batch\n",
      "    self._dispatch(tasks)\n",
      "  File \"/home/peder/.local/lib/python3.10/site-packages/joblib/parallel.py\", line 819, in _dispatch\n",
      "    job = self._backend.apply_async(batch, callback=cb)\n",
      "  File \"/home/peder/.local/lib/python3.10/site-packages/joblib/_parallel_backends.py\", line 208, in apply_async\n",
      "    result = ImmediateResult(func)\n",
      "  File \"/home/peder/.local/lib/python3.10/site-packages/joblib/_parallel_backends.py\", line 597, in __init__\n",
      "    self.results = batch()\n",
      "  File \"/home/peder/.local/lib/python3.10/site-packages/joblib/parallel.py\", line 288, in __call__\n",
      "    return [func(*args, **kwargs)\n",
      "  File \"/home/peder/.local/lib/python3.10/site-packages/joblib/parallel.py\", line 288, in <listcomp>\n",
      "    return [func(*args, **kwargs)\n",
      "  File \"/home/peder/.local/lib/python3.10/site-packages/sklearn/utils/parallel.py\", line 123, in __call__\n",
      "    return self.function(*args, **kwargs)\n",
      "  File \"/home/peder/.local/lib/python3.10/site-packages/sklearn/linear_model/_logistic.py\", line 521, in _logistic_regression_path\n",
      "    alpha = (1.0 / C) * (1 - l1_ratio)\n",
      "TypeError: unsupported operand type(s) for -: 'int' and 'NoneType'\n",
      "\n",
      "  warnings.warn(some_fits_failed_message, FitFailedWarning)\n",
      "/home/peder/.local/lib/python3.10/site-packages/sklearn/model_selection/_search.py:952: UserWarning: One or more of the test scores are non-finite: [0.65275939 0.47008597        nan 0.65275939 0.47008597        nan\n",
      " 0.65275939 0.47008597        nan 0.38911051 0.45365405        nan\n",
      " 0.38911051 0.45365405        nan 0.38911051 0.45365405        nan\n",
      " 0.44943255 0.4534193         nan 0.44943255 0.4534193         nan\n",
      " 0.44943255 0.4534193         nan 0.45553198 0.45811414        nan\n",
      " 0.45553198 0.45811414        nan 0.45553198 0.45811414        nan\n",
      " 0.45811414 0.45811414        nan 0.45811414 0.45811414        nan\n",
      " 0.45811414 0.45811414        nan]\n",
      "  warnings.warn(\n"
     ]
    }
   ],
   "source": [
    "param_grid = {\n",
    "    'penalty': ['l1', 'l2', 'elasticnet'],\n",
    "    'C': [0.01, 0.1, 1.0, 10, 100],   # Inverse of regularization strength\n",
    "    'solver': ['saga'],                # Using 'saga' to support 'l1', 'l2', and 'elasticnet'\n",
    "    'max_iter': [100, 200, 500]        # Number of iterations for optimization\n",
    "}\n",
    "\n",
    "# Initialize GridSearchCV with cross-validation\n",
    "grid_search = GridSearchCV(estimator=model, param_grid=param_grid, cv=5, scoring='accuracy', n_jobs=-1, verbose=1)\n",
    "\n",
    "# Fit GridSearchCV to the training data\n",
    "grid_search.fit(X_train, y_train)\n",
    "\n",
    "# Get the best parameters and model\n",
    "best_params = grid_search.best_params_\n",
    "best_model = grid_search.best_estimator_\n"
   ]
  },
  {
   "cell_type": "code",
   "execution_count": 113,
   "id": "289f16c3-4e7d-4c53-aae3-8547049849f4",
   "metadata": {},
   "outputs": [
    {
     "data": {
      "text/html": [
       "<style>#sk-container-id-4 {color: black;background-color: white;}#sk-container-id-4 pre{padding: 0;}#sk-container-id-4 div.sk-toggleable {background-color: white;}#sk-container-id-4 label.sk-toggleable__label {cursor: pointer;display: block;width: 100%;margin-bottom: 0;padding: 0.3em;box-sizing: border-box;text-align: center;}#sk-container-id-4 label.sk-toggleable__label-arrow:before {content: \"▸\";float: left;margin-right: 0.25em;color: #696969;}#sk-container-id-4 label.sk-toggleable__label-arrow:hover:before {color: black;}#sk-container-id-4 div.sk-estimator:hover label.sk-toggleable__label-arrow:before {color: black;}#sk-container-id-4 div.sk-toggleable__content {max-height: 0;max-width: 0;overflow: hidden;text-align: left;background-color: #f0f8ff;}#sk-container-id-4 div.sk-toggleable__content pre {margin: 0.2em;color: black;border-radius: 0.25em;background-color: #f0f8ff;}#sk-container-id-4 input.sk-toggleable__control:checked~div.sk-toggleable__content {max-height: 200px;max-width: 100%;overflow: auto;}#sk-container-id-4 input.sk-toggleable__control:checked~label.sk-toggleable__label-arrow:before {content: \"▾\";}#sk-container-id-4 div.sk-estimator input.sk-toggleable__control:checked~label.sk-toggleable__label {background-color: #d4ebff;}#sk-container-id-4 div.sk-label input.sk-toggleable__control:checked~label.sk-toggleable__label {background-color: #d4ebff;}#sk-container-id-4 input.sk-hidden--visually {border: 0;clip: rect(1px 1px 1px 1px);clip: rect(1px, 1px, 1px, 1px);height: 1px;margin: -1px;overflow: hidden;padding: 0;position: absolute;width: 1px;}#sk-container-id-4 div.sk-estimator {font-family: monospace;background-color: #f0f8ff;border: 1px dotted black;border-radius: 0.25em;box-sizing: border-box;margin-bottom: 0.5em;}#sk-container-id-4 div.sk-estimator:hover {background-color: #d4ebff;}#sk-container-id-4 div.sk-parallel-item::after {content: \"\";width: 100%;border-bottom: 1px solid gray;flex-grow: 1;}#sk-container-id-4 div.sk-label:hover label.sk-toggleable__label {background-color: #d4ebff;}#sk-container-id-4 div.sk-serial::before {content: \"\";position: absolute;border-left: 1px solid gray;box-sizing: border-box;top: 0;bottom: 0;left: 50%;z-index: 0;}#sk-container-id-4 div.sk-serial {display: flex;flex-direction: column;align-items: center;background-color: white;padding-right: 0.2em;padding-left: 0.2em;position: relative;}#sk-container-id-4 div.sk-item {position: relative;z-index: 1;}#sk-container-id-4 div.sk-parallel {display: flex;align-items: stretch;justify-content: center;background-color: white;position: relative;}#sk-container-id-4 div.sk-item::before, #sk-container-id-4 div.sk-parallel-item::before {content: \"\";position: absolute;border-left: 1px solid gray;box-sizing: border-box;top: 0;bottom: 0;left: 50%;z-index: -1;}#sk-container-id-4 div.sk-parallel-item {display: flex;flex-direction: column;z-index: 1;position: relative;background-color: white;}#sk-container-id-4 div.sk-parallel-item:first-child::after {align-self: flex-end;width: 50%;}#sk-container-id-4 div.sk-parallel-item:last-child::after {align-self: flex-start;width: 50%;}#sk-container-id-4 div.sk-parallel-item:only-child::after {width: 0;}#sk-container-id-4 div.sk-dashed-wrapped {border: 1px dashed gray;margin: 0 0.4em 0.5em 0.4em;box-sizing: border-box;padding-bottom: 0.4em;background-color: white;}#sk-container-id-4 div.sk-label label {font-family: monospace;font-weight: bold;display: inline-block;line-height: 1.2em;}#sk-container-id-4 div.sk-label-container {text-align: center;}#sk-container-id-4 div.sk-container {/* jupyter's `normalize.less` sets `[hidden] { display: none; }` but bootstrap.min.css set `[hidden] { display: none !important; }` so we also need the `!important` here to be able to override the default hidden behavior on the sphinx rendered scikit-learn.org. See: https://github.com/scikit-learn/scikit-learn/issues/21755 */display: inline-block !important;position: relative;}#sk-container-id-4 div.sk-text-repr-fallback {display: none;}</style><div id=\"sk-container-id-4\" class=\"sk-top-container\"><div class=\"sk-text-repr-fallback\"><pre>LogisticRegression(C=0.01, class_weight=&#x27;balanced&#x27;, penalty=&#x27;l1&#x27;,\n",
       "                   random_state=245321, solver=&#x27;saga&#x27;)</pre><b>In a Jupyter environment, please rerun this cell to show the HTML representation or trust the notebook. <br />On GitHub, the HTML representation is unable to render, please try loading this page with nbviewer.org.</b></div><div class=\"sk-container\" hidden><div class=\"sk-item\"><div class=\"sk-estimator sk-toggleable\"><input class=\"sk-toggleable__control sk-hidden--visually\" id=\"sk-estimator-id-4\" type=\"checkbox\" checked><label for=\"sk-estimator-id-4\" class=\"sk-toggleable__label sk-toggleable__label-arrow\">LogisticRegression</label><div class=\"sk-toggleable__content\"><pre>LogisticRegression(C=0.01, class_weight=&#x27;balanced&#x27;, penalty=&#x27;l1&#x27;,\n",
       "                   random_state=245321, solver=&#x27;saga&#x27;)</pre></div></div></div></div></div>"
      ],
      "text/plain": [
       "LogisticRegression(C=0.01, class_weight='balanced', penalty='l1',\n",
       "                   random_state=245321, solver='saga')"
      ]
     },
     "execution_count": 113,
     "metadata": {},
     "output_type": "execute_result"
    }
   ],
   "source": [
    "best_model"
   ]
  },
  {
   "cell_type": "code",
   "execution_count": 114,
   "id": "8a096107-d706-44ba-86e7-5f15c17a9332",
   "metadata": {},
   "outputs": [],
   "source": [
    "X_dev, y_dev = create_model_data(dev_events)"
   ]
  },
  {
   "cell_type": "code",
   "execution_count": 115,
   "id": "9f157b23-d217-472d-8e5e-0124608c9ae3",
   "metadata": {},
   "outputs": [],
   "source": [
    "X_dev = X_dev.reindex(columns=X_train.columns, fill_value=0)"
   ]
  },
  {
   "cell_type": "code",
   "execution_count": 116,
   "id": "fa4cc2e4-4ec8-4ccf-9fbd-7689d584d105",
   "metadata": {},
   "outputs": [],
   "source": [
    "X_test, y_test = create_model_data(test_events)"
   ]
  },
  {
   "cell_type": "code",
   "execution_count": 117,
   "id": "b386612a-5266-4a51-a877-eb4274befe36",
   "metadata": {},
   "outputs": [],
   "source": [
    "X_test = X_test.reindex(columns=X_train.columns, fill_value=0)"
   ]
  },
  {
   "cell_type": "code",
   "execution_count": 131,
   "id": "a875b742-735d-4e60-bc70-e91770520306",
   "metadata": {},
   "outputs": [],
   "source": [
    "# Get bootstrapped metrics in a dataframe\n",
    "bootstrap_metrics_df = bootstrap_metrics(model, X_dev, y_dev)"
   ]
  },
  {
   "cell_type": "code",
   "execution_count": 132,
   "id": "0ed79060-a2d2-42c2-afe0-b63f7d1f9c7e",
   "metadata": {},
   "outputs": [
    {
     "data": {
      "text/html": [
       "<div>\n",
       "<style scoped>\n",
       "    .dataframe tbody tr th:only-of-type {\n",
       "        vertical-align: middle;\n",
       "    }\n",
       "\n",
       "    .dataframe tbody tr th {\n",
       "        vertical-align: top;\n",
       "    }\n",
       "\n",
       "    .dataframe thead th {\n",
       "        text-align: right;\n",
       "    }\n",
       "</style>\n",
       "<table border=\"1\" class=\"dataframe\">\n",
       "  <thead>\n",
       "    <tr style=\"text-align: right;\">\n",
       "      <th></th>\n",
       "      <th>accuracy</th>\n",
       "      <th>precision</th>\n",
       "      <th>recall</th>\n",
       "      <th>f1_score</th>\n",
       "    </tr>\n",
       "  </thead>\n",
       "  <tbody>\n",
       "    <tr>\n",
       "      <th>0</th>\n",
       "      <td>0.433468</td>\n",
       "      <td>0.688525</td>\n",
       "      <td>0.360000</td>\n",
       "      <td>0.472795</td>\n",
       "    </tr>\n",
       "    <tr>\n",
       "      <th>1</th>\n",
       "      <td>0.441532</td>\n",
       "      <td>0.695652</td>\n",
       "      <td>0.366762</td>\n",
       "      <td>0.480300</td>\n",
       "    </tr>\n",
       "    <tr>\n",
       "      <th>2</th>\n",
       "      <td>0.461694</td>\n",
       "      <td>0.707692</td>\n",
       "      <td>0.396552</td>\n",
       "      <td>0.508287</td>\n",
       "    </tr>\n",
       "    <tr>\n",
       "      <th>3</th>\n",
       "      <td>0.431452</td>\n",
       "      <td>0.692708</td>\n",
       "      <td>0.373596</td>\n",
       "      <td>0.485401</td>\n",
       "    </tr>\n",
       "    <tr>\n",
       "      <th>4</th>\n",
       "      <td>0.419355</td>\n",
       "      <td>0.652174</td>\n",
       "      <td>0.348837</td>\n",
       "      <td>0.454545</td>\n",
       "    </tr>\n",
       "    <tr>\n",
       "      <th>...</th>\n",
       "      <td>...</td>\n",
       "      <td>...</td>\n",
       "      <td>...</td>\n",
       "      <td>...</td>\n",
       "    </tr>\n",
       "    <tr>\n",
       "      <th>995</th>\n",
       "      <td>0.425403</td>\n",
       "      <td>0.713483</td>\n",
       "      <td>0.351801</td>\n",
       "      <td>0.471243</td>\n",
       "    </tr>\n",
       "    <tr>\n",
       "      <th>996</th>\n",
       "      <td>0.397177</td>\n",
       "      <td>0.672316</td>\n",
       "      <td>0.330556</td>\n",
       "      <td>0.443203</td>\n",
       "    </tr>\n",
       "    <tr>\n",
       "      <th>997</th>\n",
       "      <td>0.417339</td>\n",
       "      <td>0.659218</td>\n",
       "      <td>0.341040</td>\n",
       "      <td>0.449524</td>\n",
       "    </tr>\n",
       "    <tr>\n",
       "      <th>998</th>\n",
       "      <td>0.451613</td>\n",
       "      <td>0.739583</td>\n",
       "      <td>0.390110</td>\n",
       "      <td>0.510791</td>\n",
       "    </tr>\n",
       "    <tr>\n",
       "      <th>999</th>\n",
       "      <td>0.395161</td>\n",
       "      <td>0.686170</td>\n",
       "      <td>0.348649</td>\n",
       "      <td>0.462366</td>\n",
       "    </tr>\n",
       "  </tbody>\n",
       "</table>\n",
       "<p>1000 rows × 4 columns</p>\n",
       "</div>"
      ],
      "text/plain": [
       "     accuracy  precision    recall  f1_score\n",
       "0    0.433468   0.688525  0.360000  0.472795\n",
       "1    0.441532   0.695652  0.366762  0.480300\n",
       "2    0.461694   0.707692  0.396552  0.508287\n",
       "3    0.431452   0.692708  0.373596  0.485401\n",
       "4    0.419355   0.652174  0.348837  0.454545\n",
       "..        ...        ...       ...       ...\n",
       "995  0.425403   0.713483  0.351801  0.471243\n",
       "996  0.397177   0.672316  0.330556  0.443203\n",
       "997  0.417339   0.659218  0.341040  0.449524\n",
       "998  0.451613   0.739583  0.390110  0.510791\n",
       "999  0.395161   0.686170  0.348649  0.462366\n",
       "\n",
       "[1000 rows x 4 columns]"
      ]
     },
     "execution_count": 132,
     "metadata": {},
     "output_type": "execute_result"
    }
   ],
   "source": [
    "bootstrap_metrics_df"
   ]
  },
  {
   "cell_type": "code",
   "execution_count": 133,
   "id": "cc51958b-16da-44be-979c-dbf483560882",
   "metadata": {},
   "outputs": [
    {
     "name": "stdout",
     "output_type": "stream",
     "text": [
      "\\begin{tabular}{lrrrr}\n",
      "\\toprule\n",
      "{} &  accuracy &  precision &    recall &  f1\\_score \\\\\n",
      "\\midrule\n",
      "mean &  0.427208 &   0.689602 &  0.368003 &  0.479434 \\\\\n",
      "std  &  0.021505 &   0.032760 &  0.025233 &  0.025736 \\\\\n",
      "\\bottomrule\n",
      "\\end{tabular}\n",
      "\n"
     ]
    },
    {
     "name": "stderr",
     "output_type": "stream",
     "text": [
      "/tmp/ipykernel_148673/3208192097.py:1: FutureWarning: In future versions `DataFrame.to_latex` is expected to utilise the base implementation of `Styler.to_latex` for formatting and rendering. The arguments signature may therefore change. It is recommended instead to use `DataFrame.style.to_latex` which also contains additional functionality.\n",
      "  print(bootstrap_metrics_df.describe().loc[['mean', 'std']].to_latex())\n"
     ]
    }
   ],
   "source": [
    "print(bootstrap_metrics_df.describe().loc[['mean', 'std']].to_latex())"
   ]
  },
  {
   "cell_type": "code",
   "execution_count": 134,
   "id": "cd6b2ef4-bbe1-41c9-abc0-491d268b336d",
   "metadata": {},
   "outputs": [],
   "source": [
    "import numpy as np"
   ]
  },
  {
   "cell_type": "code",
   "execution_count": 135,
   "id": "7c1131e9-446a-4ddb-9f37-51619e83d461",
   "metadata": {},
   "outputs": [
    {
     "data": {
      "image/png": "[encoded data removed]",
      "text/plain": [
       "<Figure size 640x480 with 4 Axes>"
      ]
     },
     "metadata": {},
     "output_type": "display_data"
    }
   ],
   "source": [
    "f, axes = plt.subplots(2, 2)\n",
    "sns.kdeplot(data=bootstrap_metrics_df, x=\"f1_score\",  ax=axes[0][0])\n",
    "sns.kdeplot(data=bootstrap_metrics_df, x=\"accuracy\",  ax=axes[0][1])\n",
    "sns.kdeplot(data=bootstrap_metrics_df, x=\"precision\",  ax=axes[1][0])\n",
    "sns.barplot(x=['Recall'], y=[1], ax=axes[1][1])\n",
    "\n",
    "plt.tight_layout()\n",
    "f.savefig(\"../results/logistic_metrics.png\", dpi=300)  # Save with high resolution\n"
   ]
  },
  {
   "cell_type": "code",
   "execution_count": 84,
   "id": "5a6f0116-0efc-4163-9ebb-138989567954",
   "metadata": {},
   "outputs": [],
   "source": [
    "def plot_misclassification_chart(misclassified, dev_df):\n",
    "    other_value_counts = misclassified[misclassified[\"True Label\"]==\"Other\"]['Event type'].value_counts()\n",
    "    asserted_value_counts = misclassified[misclassified[\"True Label\"]==\"Asserted\"]['Event type'].value_counts()\n",
    "    df = pd.DataFrame()\n",
    "    #mis_series = (misclassified_type['Event type'].value_counts() / dev_df['type'].value_counts()).fillna(0)\n",
    "    df[\"asserted_misclassified\"] = (asserted_value_counts / dev_df[dev_df[\"modality\"] == \"Asserted\"]['type'].value_counts()).fillna(0)\n",
    "    df[\"other_misclassified\"] = -(other_value_counts / dev_df[dev_df[\"modality\"] == \"Other\"]['type'].value_counts()).fillna(0)\n",
    "    #df[\"type\"] = list(mis_series.index.to_series())\n",
    "    # df[\"percent_misclassified\"] =  list(mis_series)\n",
    "    df[\"other_misclassified\"] = df[\"other_misclassified\"].fillna(0)\n",
    "    df = df.sort_values(by=[\"other_misclassified\", \"asserted_misclassified\"], ascending=True)\n",
    "    fig, ax = plt.subplots(figsize=(10, 5))\n",
    "    \n",
    "    sns.barplot(y=df.index, x=df[\"asserted_misclassified\"], color=sns.color_palette(\"pastel\")[0], label=\"Asserted Misclassified\", ax=ax)\n",
    "    sns.barplot(y=df.index, x=df[\"other_misclassified\"], color=sns.color_palette(\"pastel\")[1], label=\"Other Misclassified\", ax=ax)\n",
    "    # Add labels and title\n",
    "    ax.set_xlabel(\"Misclassification Ratio relative to whole validation set\")\n",
    "    ax.set_ylabel(\"Event Type\")\n",
    "    ax.set_title(\"Misclassification Rates by Event Type and modality\")\n",
    "    ax.set_xticks([-1.0, -0.5, -0.25, 0, 0.25, 0.5, 1.0])  # Adjust based on range\n",
    "    ax.set_xticklabels([\"1.0\", \"0.5\", \"0.25\", \"0\", \"0.25\", \"0.5\", \"1.0\"])\n",
    "    ax.legend()\n",
    "    return fig"
   ]
  },
  {
   "cell_type": "code",
   "execution_count": 85,
   "id": "5e03dc9c-609c-416d-ab48-a360245ecf20",
   "metadata": {},
   "outputs": [],
   "source": [
    "y_pred = best_model.predict(X_dev)"
   ]
  },
  {
   "cell_type": "code",
   "execution_count": 88,
   "id": "561c87b9-3224-4e31-a2b7-7ae8b83e4767",
   "metadata": {},
   "outputs": [],
   "source": [
    "# Create DataFrame to store results\n",
    "dev_df = X_dev.copy()\n",
    "dev_df[\"True Label\"] = y_dev.values\n",
    "dev_df[\"Predicted Label\"] = y_pred\n",
    "\n"
   ]
  },
  {
   "cell_type": "code",
   "execution_count": 94,
   "id": "5d18feb7-10cc-491a-8915-b902258b9365",
   "metadata": {},
   "outputs": [
    {
     "data": {
      "text/html": [
       "<div>\n",
       "<style scoped>\n",
       "    .dataframe tbody tr th:only-of-type {\n",
       "        vertical-align: middle;\n",
       "    }\n",
       "\n",
       "    .dataframe tbody tr th {\n",
       "        vertical-align: top;\n",
       "    }\n",
       "\n",
       "    .dataframe thead th {\n",
       "        text-align: right;\n",
       "    }\n",
       "</style>\n",
       "<table border=\"1\" class=\"dataframe\">\n",
       "  <thead>\n",
       "    <tr style=\"text-align: right;\">\n",
       "      <th></th>\n",
       "      <th>type_Appeal</th>\n",
       "      <th>type_Arrest-Jail</th>\n",
       "      <th>type_Attack</th>\n",
       "      <th>type_Be-Born</th>\n",
       "      <th>type_Charge-Indict</th>\n",
       "      <th>type_Convict</th>\n",
       "      <th>type_Declare-Bankruptcy</th>\n",
       "      <th>type_Demonstrate</th>\n",
       "      <th>type_Die</th>\n",
       "      <th>type_Divorce</th>\n",
       "      <th>...</th>\n",
       "      <th>type_Start-Org</th>\n",
       "      <th>type_Start-Position</th>\n",
       "      <th>type_Sue</th>\n",
       "      <th>type_Transfer-Money</th>\n",
       "      <th>type_Transfer-Ownership</th>\n",
       "      <th>type_Transport</th>\n",
       "      <th>type_Trial-Hearing</th>\n",
       "      <th>type_Acquit</th>\n",
       "      <th>True Label</th>\n",
       "      <th>Predicted Label</th>\n",
       "    </tr>\n",
       "  </thead>\n",
       "  <tbody>\n",
       "    <tr>\n",
       "      <th>count</th>\n",
       "      <td>496.0</td>\n",
       "      <td>496.000000</td>\n",
       "      <td>496.000000</td>\n",
       "      <td>496.0</td>\n",
       "      <td>496.000000</td>\n",
       "      <td>496.000000</td>\n",
       "      <td>496.000000</td>\n",
       "      <td>496.000000</td>\n",
       "      <td>496.000000</td>\n",
       "      <td>496.0</td>\n",
       "      <td>...</td>\n",
       "      <td>496.0</td>\n",
       "      <td>496.00000</td>\n",
       "      <td>496.000000</td>\n",
       "      <td>496.000000</td>\n",
       "      <td>496.000000</td>\n",
       "      <td>496.000000</td>\n",
       "      <td>496.000000</td>\n",
       "      <td>496.0</td>\n",
       "      <td>496.000000</td>\n",
       "      <td>496.0</td>\n",
       "    </tr>\n",
       "    <tr>\n",
       "      <th>mean</th>\n",
       "      <td>0.0</td>\n",
       "      <td>0.008065</td>\n",
       "      <td>0.356855</td>\n",
       "      <td>0.0</td>\n",
       "      <td>0.004032</td>\n",
       "      <td>0.012097</td>\n",
       "      <td>0.002016</td>\n",
       "      <td>0.018145</td>\n",
       "      <td>0.114919</td>\n",
       "      <td>0.0</td>\n",
       "      <td>...</td>\n",
       "      <td>0.0</td>\n",
       "      <td>0.02621</td>\n",
       "      <td>0.024194</td>\n",
       "      <td>0.094758</td>\n",
       "      <td>0.010081</td>\n",
       "      <td>0.125000</td>\n",
       "      <td>0.002016</td>\n",
       "      <td>0.0</td>\n",
       "      <td>0.717742</td>\n",
       "      <td>1.0</td>\n",
       "    </tr>\n",
       "    <tr>\n",
       "      <th>std</th>\n",
       "      <td>0.0</td>\n",
       "      <td>0.089530</td>\n",
       "      <td>0.479555</td>\n",
       "      <td>0.0</td>\n",
       "      <td>0.063436</td>\n",
       "      <td>0.109428</td>\n",
       "      <td>0.044901</td>\n",
       "      <td>0.133611</td>\n",
       "      <td>0.319247</td>\n",
       "      <td>0.0</td>\n",
       "      <td>...</td>\n",
       "      <td>0.0</td>\n",
       "      <td>0.15992</td>\n",
       "      <td>0.153805</td>\n",
       "      <td>0.293176</td>\n",
       "      <td>0.099996</td>\n",
       "      <td>0.331053</td>\n",
       "      <td>0.044901</td>\n",
       "      <td>0.0</td>\n",
       "      <td>0.450553</td>\n",
       "      <td>0.0</td>\n",
       "    </tr>\n",
       "    <tr>\n",
       "      <th>min</th>\n",
       "      <td>0.0</td>\n",
       "      <td>0.000000</td>\n",
       "      <td>0.000000</td>\n",
       "      <td>0.0</td>\n",
       "      <td>0.000000</td>\n",
       "      <td>0.000000</td>\n",
       "      <td>0.000000</td>\n",
       "      <td>0.000000</td>\n",
       "      <td>0.000000</td>\n",
       "      <td>0.0</td>\n",
       "      <td>...</td>\n",
       "      <td>0.0</td>\n",
       "      <td>0.00000</td>\n",
       "      <td>0.000000</td>\n",
       "      <td>0.000000</td>\n",
       "      <td>0.000000</td>\n",
       "      <td>0.000000</td>\n",
       "      <td>0.000000</td>\n",
       "      <td>0.0</td>\n",
       "      <td>0.000000</td>\n",
       "      <td>1.0</td>\n",
       "    </tr>\n",
       "    <tr>\n",
       "      <th>25%</th>\n",
       "      <td>0.0</td>\n",
       "      <td>0.000000</td>\n",
       "      <td>0.000000</td>\n",
       "      <td>0.0</td>\n",
       "      <td>0.000000</td>\n",
       "      <td>0.000000</td>\n",
       "      <td>0.000000</td>\n",
       "      <td>0.000000</td>\n",
       "      <td>0.000000</td>\n",
       "      <td>0.0</td>\n",
       "      <td>...</td>\n",
       "      <td>0.0</td>\n",
       "      <td>0.00000</td>\n",
       "      <td>0.000000</td>\n",
       "      <td>0.000000</td>\n",
       "      <td>0.000000</td>\n",
       "      <td>0.000000</td>\n",
       "      <td>0.000000</td>\n",
       "      <td>0.0</td>\n",
       "      <td>0.000000</td>\n",
       "      <td>1.0</td>\n",
       "    </tr>\n",
       "    <tr>\n",
       "      <th>50%</th>\n",
       "      <td>0.0</td>\n",
       "      <td>0.000000</td>\n",
       "      <td>0.000000</td>\n",
       "      <td>0.0</td>\n",
       "      <td>0.000000</td>\n",
       "      <td>0.000000</td>\n",
       "      <td>0.000000</td>\n",
       "      <td>0.000000</td>\n",
       "      <td>0.000000</td>\n",
       "      <td>0.0</td>\n",
       "      <td>...</td>\n",
       "      <td>0.0</td>\n",
       "      <td>0.00000</td>\n",
       "      <td>0.000000</td>\n",
       "      <td>0.000000</td>\n",
       "      <td>0.000000</td>\n",
       "      <td>0.000000</td>\n",
       "      <td>0.000000</td>\n",
       "      <td>0.0</td>\n",
       "      <td>1.000000</td>\n",
       "      <td>1.0</td>\n",
       "    </tr>\n",
       "    <tr>\n",
       "      <th>75%</th>\n",
       "      <td>0.0</td>\n",
       "      <td>0.000000</td>\n",
       "      <td>1.000000</td>\n",
       "      <td>0.0</td>\n",
       "      <td>0.000000</td>\n",
       "      <td>0.000000</td>\n",
       "      <td>0.000000</td>\n",
       "      <td>0.000000</td>\n",
       "      <td>0.000000</td>\n",
       "      <td>0.0</td>\n",
       "      <td>...</td>\n",
       "      <td>0.0</td>\n",
       "      <td>0.00000</td>\n",
       "      <td>0.000000</td>\n",
       "      <td>0.000000</td>\n",
       "      <td>0.000000</td>\n",
       "      <td>0.000000</td>\n",
       "      <td>0.000000</td>\n",
       "      <td>0.0</td>\n",
       "      <td>1.000000</td>\n",
       "      <td>1.0</td>\n",
       "    </tr>\n",
       "    <tr>\n",
       "      <th>max</th>\n",
       "      <td>0.0</td>\n",
       "      <td>1.000000</td>\n",
       "      <td>1.000000</td>\n",
       "      <td>0.0</td>\n",
       "      <td>1.000000</td>\n",
       "      <td>1.000000</td>\n",
       "      <td>1.000000</td>\n",
       "      <td>1.000000</td>\n",
       "      <td>1.000000</td>\n",
       "      <td>0.0</td>\n",
       "      <td>...</td>\n",
       "      <td>0.0</td>\n",
       "      <td>1.00000</td>\n",
       "      <td>1.000000</td>\n",
       "      <td>1.000000</td>\n",
       "      <td>1.000000</td>\n",
       "      <td>1.000000</td>\n",
       "      <td>1.000000</td>\n",
       "      <td>0.0</td>\n",
       "      <td>1.000000</td>\n",
       "      <td>1.0</td>\n",
       "    </tr>\n",
       "  </tbody>\n",
       "</table>\n",
       "<p>8 rows × 35 columns</p>\n",
       "</div>"
      ],
      "text/plain": [
       "       type_Appeal  type_Arrest-Jail  type_Attack  type_Be-Born  \\\n",
       "count        496.0        496.000000   496.000000         496.0   \n",
       "mean           0.0          0.008065     0.356855           0.0   \n",
       "std            0.0          0.089530     0.479555           0.0   \n",
       "min            0.0          0.000000     0.000000           0.0   \n",
       "25%            0.0          0.000000     0.000000           0.0   \n",
       "50%            0.0          0.000000     0.000000           0.0   \n",
       "75%            0.0          0.000000     1.000000           0.0   \n",
       "max            0.0          1.000000     1.000000           0.0   \n",
       "\n",
       "       type_Charge-Indict  type_Convict  type_Declare-Bankruptcy  \\\n",
       "count          496.000000    496.000000               496.000000   \n",
       "mean             0.004032      0.012097                 0.002016   \n",
       "std              0.063436      0.109428                 0.044901   \n",
       "min              0.000000      0.000000                 0.000000   \n",
       "25%              0.000000      0.000000                 0.000000   \n",
       "50%              0.000000      0.000000                 0.000000   \n",
       "75%              0.000000      0.000000                 0.000000   \n",
       "max              1.000000      1.000000                 1.000000   \n",
       "\n",
       "       type_Demonstrate    type_Die  type_Divorce  ...  type_Start-Org  \\\n",
       "count        496.000000  496.000000         496.0  ...           496.0   \n",
       "mean           0.018145    0.114919           0.0  ...             0.0   \n",
       "std            0.133611    0.319247           0.0  ...             0.0   \n",
       "min            0.000000    0.000000           0.0  ...             0.0   \n",
       "25%            0.000000    0.000000           0.0  ...             0.0   \n",
       "50%            0.000000    0.000000           0.0  ...             0.0   \n",
       "75%            0.000000    0.000000           0.0  ...             0.0   \n",
       "max            1.000000    1.000000           0.0  ...             0.0   \n",
       "\n",
       "       type_Start-Position    type_Sue  type_Transfer-Money  \\\n",
       "count            496.00000  496.000000           496.000000   \n",
       "mean               0.02621    0.024194             0.094758   \n",
       "std                0.15992    0.153805             0.293176   \n",
       "min                0.00000    0.000000             0.000000   \n",
       "25%                0.00000    0.000000             0.000000   \n",
       "50%                0.00000    0.000000             0.000000   \n",
       "75%                0.00000    0.000000             0.000000   \n",
       "max                1.00000    1.000000             1.000000   \n",
       "\n",
       "       type_Transfer-Ownership  type_Transport  type_Trial-Hearing  \\\n",
       "count               496.000000      496.000000          496.000000   \n",
       "mean                  0.010081        0.125000            0.002016   \n",
       "std                   0.099996        0.331053            0.044901   \n",
       "min                   0.000000        0.000000            0.000000   \n",
       "25%                   0.000000        0.000000            0.000000   \n",
       "50%                   0.000000        0.000000            0.000000   \n",
       "75%                   0.000000        0.000000            0.000000   \n",
       "max                   1.000000        1.000000            1.000000   \n",
       "\n",
       "       type_Acquit  True Label  Predicted Label  \n",
       "count        496.0  496.000000            496.0  \n",
       "mean           0.0    0.717742              1.0  \n",
       "std            0.0    0.450553              0.0  \n",
       "min            0.0    0.000000              1.0  \n",
       "25%            0.0    0.000000              1.0  \n",
       "50%            0.0    1.000000              1.0  \n",
       "75%            0.0    1.000000              1.0  \n",
       "max            0.0    1.000000              1.0  \n",
       "\n",
       "[8 rows x 35 columns]"
      ]
     },
     "execution_count": 94,
     "metadata": {},
     "output_type": "execute_result"
    }
   ],
   "source": [
    "dev_df.describe()"
   ]
  },
  {
   "cell_type": "code",
   "execution_count": 93,
   "id": "f20c893f-7ea4-4fbd-bb04-fa7bf741bd4b",
   "metadata": {},
   "outputs": [
    {
     "ename": "NameError",
     "evalue": "name 'df' is not defined",
     "output_type": "error",
     "traceback": [
      "\u001b[0;31m---------------------------------------------------------------------------\u001b[0m",
      "\u001b[0;31mNameError\u001b[0m                                 Traceback (most recent call last)",
      "Cell \u001b[0;32mIn[93], line 2\u001b[0m\n\u001b[1;32m      1\u001b[0m \u001b[38;5;66;03m# Identify the event type column names (excluding 'True Label' and other non-event columns)\u001b[39;00m\n\u001b[0;32m----> 2\u001b[0m event_type_columns \u001b[38;5;241m=\u001b[39m [col \u001b[38;5;28;01mfor\u001b[39;00m col \u001b[38;5;129;01min\u001b[39;00m \u001b[43mdf\u001b[49m\u001b[38;5;241m.\u001b[39mcolumns \u001b[38;5;28;01mif\u001b[39;00m col \u001b[38;5;129;01mnot\u001b[39;00m \u001b[38;5;129;01min\u001b[39;00m [\u001b[38;5;124m\"\u001b[39m\u001b[38;5;124mTrue Label\u001b[39m\u001b[38;5;124m\"\u001b[39m, \u001b[38;5;124m\"\u001b[39m\u001b[38;5;124mPredicted Label\u001b[39m\u001b[38;5;124m\"\u001b[39m, \u001b[38;5;124m\"\u001b[39m\u001b[38;5;124mmodality\u001b[39m\u001b[38;5;124m\"\u001b[39m]]\n\u001b[1;32m      4\u001b[0m \u001b[38;5;66;03m# Extract Event Type (Assuming one event type per row)\u001b[39;00m\n\u001b[1;32m      5\u001b[0m dev_df[\u001b[38;5;124m\"\u001b[39m\u001b[38;5;124mEvent type\u001b[39m\u001b[38;5;124m\"\u001b[39m] \u001b[38;5;241m=\u001b[39m X_dev[event_type_columns]\u001b[38;5;241m.\u001b[39midxmax(axis\u001b[38;5;241m=\u001b[39m\u001b[38;5;241m1\u001b[39m)\n",
      "\u001b[0;31mNameError\u001b[0m: name 'df' is not defined"
     ]
    }
   ],
   "source": [
    "\n",
    "# Identify the event type column names (excluding 'True Label' and other non-event columns)\n",
    "event_type_columns = [col for col in df.columns if col not in [\"True Label\", \"Predicted Label\", \"modality\"]]\n",
    "\n",
    "# Extract Event Type (Assuming one event type per row)\n",
    "dev_df[\"Event type\"] = X_dev[event_type_columns].idxmax(axis=1)\n",
    "\n",
    "# Filter misclassified samples\n",
    "misclassified = dev_df[dev_df[\"True Label\"] != dev_df[\"Predicted Label\"]]\n",
    "\n"
   ]
  },
  {
   "cell_type": "code",
   "execution_count": 88,
   "id": "90f00445-b399-4379-9d17-c72b3fd538ea",
   "metadata": {},
   "outputs": [],
   "source": [
    "\n",
    "bootstrap_test_df = bootstrap_metrics(best_model, X_test, y_test)"
   ]
  },
  {
   "cell_type": "code",
   "execution_count": 90,
   "id": "ab0e6bf1-dda5-4d44-a425-1b8428058a04",
   "metadata": {},
   "outputs": [
    {
     "data": {
      "text/html": [
       "Tracking run with wandb version 0.18.5"
      ],
      "text/plain": [
       "<IPython.core.display.HTML object>"
      ]
     },
     "metadata": {},
     "output_type": "display_data"
    },
    {
     "data": {
      "text/html": [
       "Run data is saved locally in <code>../wandb/run-20241030_114122-9j0yhejh</code>"
      ],
      "text/plain": [
       "<IPython.core.display.HTML object>"
      ]
     },
     "metadata": {},
     "output_type": "display_data"
    },
    {
     "data": {
      "text/html": [
       "Syncing run <strong><a href='https://wandb.ai/peder-august/certainty/runs/9j0yhejh' target=\"_blank\">logistic-baseline</a></strong> to <a href='https://wandb.ai/peder-august/certainty' target=\"_blank\">Weights & Biases</a> (<a href='https://wandb.me/run' target=\"_blank\">docs</a>)<br/>"
      ],
      "text/plain": [
       "<IPython.core.display.HTML object>"
      ]
     },
     "metadata": {},
     "output_type": "display_data"
    },
    {
     "data": {
      "text/html": [
       " View project at <a href='https://wandb.ai/peder-august/certainty' target=\"_blank\">https://wandb.ai/peder-august/certainty</a>"
      ],
      "text/plain": [
       "<IPython.core.display.HTML object>"
      ]
     },
     "metadata": {},
     "output_type": "display_data"
    },
    {
     "data": {
      "text/html": [
       " View run at <a href='https://wandb.ai/peder-august/certainty/runs/9j0yhejh' target=\"_blank\">https://wandb.ai/peder-august/certainty/runs/9j0yhejh</a>"
      ],
      "text/plain": [
       "<IPython.core.display.HTML object>"
      ]
     },
     "metadata": {},
     "output_type": "display_data"
    },
    {
     "data": {
      "text/html": [
       "<style>\n",
       "    table.wandb td:nth-child(1) { padding: 0 10px; text-align: left ; width: auto;} td:nth-child(2) {text-align: left ; width: 100%}\n",
       "    .wandb-row { display: flex; flex-direction: row; flex-wrap: wrap; justify-content: flex-start; width: 100% }\n",
       "    .wandb-col { display: flex; flex-direction: column; flex-basis: 100%; flex: 1; padding: 10px; }\n",
       "    </style>\n",
       "<div class=\"wandb-row\"><div class=\"wandb-col\"><h3>Run history:</h3><br/><table class=\"wandb\"><tr><td>eval/accuracy</td><td>▁</td></tr><tr><td>eval/f1</td><td>▁</td></tr><tr><td>eval/precision</td><td>▁</td></tr><tr><td>eval/recall</td><td>▁</td></tr></table><br/></div><div class=\"wandb-col\"><h3>Run summary:</h3><br/><table class=\"wandb\"><tr><td>eval/accuracy</td><td>0.72628</td></tr><tr><td>eval/f1</td><td>0.84125</td></tr><tr><td>eval/precision</td><td>0.72628</td></tr><tr><td>eval/recall</td><td>1</td></tr></table><br/></div></div>"
      ],
      "text/plain": [
       "<IPython.core.display.HTML object>"
      ]
     },
     "metadata": {},
     "output_type": "display_data"
    },
    {
     "data": {
      "text/html": [
       " View run <strong style=\"color:#cdcd00\">logistic-baseline</strong> at: <a href='https://wandb.ai/peder-august/certainty/runs/9j0yhejh' target=\"_blank\">https://wandb.ai/peder-august/certainty/runs/9j0yhejh</a><br/> View project at: <a href='https://wandb.ai/peder-august/certainty' target=\"_blank\">https://wandb.ai/peder-august/certainty</a><br/>Synced 5 W&B file(s), 0 media file(s), 0 artifact file(s) and 0 other file(s)"
      ],
      "text/plain": [
       "<IPython.core.display.HTML object>"
      ]
     },
     "metadata": {},
     "output_type": "display_data"
    },
    {
     "data": {
      "text/html": [
       "Find logs at: <code>../wandb/run-20241030_114122-9j0yhejh/logs</code>"
      ],
      "text/plain": [
       "<IPython.core.display.HTML object>"
      ]
     },
     "metadata": {},
     "output_type": "display_data"
    }
   ],
   "source": [
    "import wandb\n",
    "wandb.init(\n",
    "    project=\"certainty\",\n",
    "    name=\"logistic-baseline\",\n",
    "    dir=\"..\",\n",
    ")\n",
    "wandb.log({\n",
    "    \"eval/accuracy\": bootstrap_test_df[\"accuracy\"].mean(),\n",
    "    \"eval/precision\": bootstrap_test_df[\"precision\"].mean(),\n",
    "    \"eval/recall\": bootstrap_test_df[\"recall\"].mean(),\n",
    "    \"eval/f1\": bootstrap_test_df[\"f1_score\"].mean()\n",
    "})\n",
    "wandb.finish()"
   ]
  },
  {
   "cell_type": "code",
   "execution_count": null,
   "id": "ec5e5e21-1e0a-4c60-bdee-fc70262c7044",
   "metadata": {},
   "outputs": [],
   "source": []
  }
 ],
 "metadata": {
  "kernelspec": {
   "display_name": "Python 3 (ipykernel)",
   "language": "python",
   "name": "python3"
  },
  "language_info": {
   "codemirror_mode": {
    "name": "ipython",
    "version": 3
   },
   "file_extension": ".py",
   "mimetype": "text/x-python",
   "name": "python",
   "nbconvert_exporter": "python",
   "pygments_lexer": "ipython3",
   "version": "3.10.13"
  }
 },
 "nbformat": 4,
 "nbformat_minor": 5
}
