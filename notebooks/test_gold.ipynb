{
 "cells": [
  {
   "cell_type": "code",
   "execution_count": 1,
   "id": "9f4eaa3b-9e8d-4103-bb0a-f1f2a558c6e7",
   "metadata": {},
   "outputs": [],
   "source": [
    "import pandas as pd\n",
    "import numpy as np\n",
    "import seaborn as sns\n",
    "import matplotlib.pyplot as plt"
   ]
  },
  {
   "cell_type": "code",
   "execution_count": 2,
   "id": "374782a9-cbf0-43ab-a268-5d9b4802ec5f",
   "metadata": {},
   "outputs": [],
   "source": [
    "trigger = pd.read_csv('../results/gold_event_results/TEST_trigger_baseline.csv')\n",
    "etype = pd.read_csv('../results/gold_event_results/TEST_type_results.csv')\n",
    "gnn = pd.read_csv('../results/gold_event_results/TEST_GNN_result.csv')"
   ]
  },
  {
   "cell_type": "code",
   "execution_count": 3,
   "id": "7867677e-c5f6-401b-8d3d-6cd8c0116b75",
   "metadata": {},
   "outputs": [],
   "source": [
    "cols = ['eval/asserted_precision', 'eval/asserted_recall', 'eval/asserted_f1', 'eval/other_precision', 'eval/other_recall', 'eval/other_f1']"
   ]
  },
  {
   "cell_type": "code",
   "execution_count": 4,
   "id": "84bdd5c6-de04-4575-b8a6-aa74d48d5a82",
   "metadata": {},
   "outputs": [],
   "source": [
    "trigger = trigger[cols]\n",
    "etype = etype[cols]\n",
    "gnn = gnn[cols]"
   ]
  },
  {
   "cell_type": "code",
   "execution_count": 20,
   "id": "338689bc-5bed-4900-9944-ddb558fa081c",
   "metadata": {},
   "outputs": [],
   "source": [
    "def create_df(df):\n",
    "    stats = (df.describe().T*100).round(1)\n",
    "    stats['info'] = stats.apply(lambda row: \"$\" + str(row['mean']) + \"^{\\\\pm\" + str(row['std']) + \"}$\", axis=1)\n",
    "    return stats[['info']].T"
   ]
  },
  {
   "cell_type": "code",
   "execution_count": 21,
   "id": "5fc74c86-cf96-4df9-a2ab-f8fff480873e",
   "metadata": {},
   "outputs": [
    {
     "name": "stdout",
     "output_type": "stream",
     "text": [
      "\\begin{tabular}{lllllll}\n",
      "\\toprule\n",
      "{} & eval/asserted_precision & eval/asserted_recall & eval/asserted_f1 & eval/other_precision & eval/other_recall &    eval/other_f1 \\\\\n",
      "\\midrule\n",
      "info &         $87.4^{\\pm0.8}$ &      $94.4^{\\pm1.2}$ &  $90.8^{\\pm0.3}$ &      $81.1^{\\pm2.4}$ &   $64.0^{\\pm2.9}$ &  $71.5^{\\pm1.1}$ \\\\\n",
      "\\bottomrule\n",
      "\\end{tabular}\n",
      "\n"
     ]
    },
    {
     "name": "stderr",
     "output_type": "stream",
     "text": [
      "/tmp/ipykernel_14785/1683848758.py:1: FutureWarning: In future versions `DataFrame.to_latex` is expected to utilise the base implementation of `Styler.to_latex` for formatting and rendering. The arguments signature may therefore change. It is recommended instead to use `DataFrame.style.to_latex` which also contains additional functionality.\n",
      "  print(create_df(trigger).to_latex(escape=False))\n"
     ]
    }
   ],
   "source": [
    "print(create_df(trigger).to_latex(escape=False))"
   ]
  },
  {
   "cell_type": "code",
   "execution_count": 23,
   "id": "29ea87b3-83e0-44ca-a9f8-398375ddaa7f",
   "metadata": {},
   "outputs": [
    {
     "name": "stdout",
     "output_type": "stream",
     "text": [
      "\\begin{tabular}{lllllll}\n",
      "\\toprule\n",
      "{} & eval/asserted_precision & eval/asserted_recall & eval/asserted_f1 & eval/other_precision & eval/other_recall &    eval/other_f1 \\\\\n",
      "\\midrule\n",
      "info &         $88.1^{\\pm1.0}$ &      $94.9^{\\pm0.5}$ &  $91.4^{\\pm0.8}$ &      $83.0^{\\pm2.0}$ &   $66.0^{\\pm3.1}$ &  $73.6^{\\pm2.7}$ \\\\\n",
      "\\bottomrule\n",
      "\\end{tabular}\n",
      "\n"
     ]
    },
    {
     "name": "stderr",
     "output_type": "stream",
     "text": [
      "/tmp/ipykernel_14785/2305141321.py:1: FutureWarning: In future versions `DataFrame.to_latex` is expected to utilise the base implementation of `Styler.to_latex` for formatting and rendering. The arguments signature may therefore change. It is recommended instead to use `DataFrame.style.to_latex` which also contains additional functionality.\n",
      "  print(create_df(etype).to_latex(escape=False))\n"
     ]
    }
   ],
   "source": [
    "print(create_df(etype).to_latex(escape=False))"
   ]
  },
  {
   "cell_type": "code",
   "execution_count": 24,
   "id": "b099faeb-094f-4101-b64c-3d030ff09187",
   "metadata": {},
   "outputs": [
    {
     "name": "stdout",
     "output_type": "stream",
     "text": [
      "\\begin{tabular}{lllllll}\n",
      "\\toprule\n",
      "{} & eval/asserted_precision & eval/asserted_recall & eval/asserted_f1 & eval/other_precision & eval/other_recall &    eval/other_f1 \\\\\n",
      "\\midrule\n",
      "info &         $89.5^{\\pm0.4}$ &      $93.8^{\\pm0.8}$ &  $91.6^{\\pm0.3}$ &      $81.2^{\\pm1.8}$ &   $70.7^{\\pm1.4}$ &  $75.6^{\\pm0.6}$ \\\\\n",
      "\\bottomrule\n",
      "\\end{tabular}\n",
      "\n"
     ]
    },
    {
     "name": "stderr",
     "output_type": "stream",
     "text": [
      "/tmp/ipykernel_14785/3565005130.py:1: FutureWarning: In future versions `DataFrame.to_latex` is expected to utilise the base implementation of `Styler.to_latex` for formatting and rendering. The arguments signature may therefore change. It is recommended instead to use `DataFrame.style.to_latex` which also contains additional functionality.\n",
      "  print(create_df(gnn).to_latex(escape=False))\n"
     ]
    }
   ],
   "source": [
    "print(create_df(gnn).to_latex(escape=False))"
   ]
  },
  {
   "cell_type": "code",
   "execution_count": null,
   "id": "a824361c-19a3-49ca-9695-df77e16e96f5",
   "metadata": {},
   "outputs": [],
   "source": []
  }
 ],
 "metadata": {
  "kernelspec": {
   "display_name": "Python 3 (ipykernel)",
   "language": "python",
   "name": "python3"
  },
  "language_info": {
   "codemirror_mode": {
    "name": "ipython",
    "version": 3
   },
   "file_extension": ".py",
   "mimetype": "text/x-python",
   "name": "python",
   "nbconvert_exporter": "python",
   "pygments_lexer": "ipython3",
   "version": "3.10.13"
  }
 },
 "nbformat": 4,
 "nbformat_minor": 5
}
