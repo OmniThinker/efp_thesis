{
 "cells": [
  {
   "cell_type": "markdown",
   "id": "235b0d2f-e0d8-4dbf-b37f-cff17044a9c7",
   "metadata": {},
   "source": [
    "# "
   ]
  },
  {
   "cell_type": "code",
   "execution_count": 1,
   "id": "f6a2e277-377f-4870-aa46-e190c92745fd",
   "metadata": {},
   "outputs": [],
   "source": [
    "%load_ext autoreload \n",
    "%autoreload 2"
   ]
  },
  {
   "cell_type": "code",
   "execution_count": 2,
   "id": "f7826462-1d87-470c-8536-51f6c444e079",
   "metadata": {},
   "outputs": [],
   "source": [
    "import pandas as pd\n",
    "import os\n",
    "import sys\n",
    "from typing import Sequence, Dict, Any, Tuple, get_args\n",
    "import seaborn as sns\n",
    "import matplotlib.pyplot as plt\n",
    "from scipy.stats import chi2_contingency"
   ]
  },
  {
   "cell_type": "code",
   "execution_count": 3,
   "id": "05c74e35-63d0-4cf4-99a1-90b9d8ab9ad7",
   "metadata": {},
   "outputs": [],
   "source": [
    "sys.path.append(os.path.join(os.path.abspath(os.getcwd()), \"..\"))"
   ]
  },
  {
   "cell_type": "code",
   "execution_count": 4,
   "id": "912509e5-5755-4054-8ac4-cba3d6cf9427",
   "metadata": {},
   "outputs": [],
   "source": [
    "from certainty import EventSentence, load_file, convert_events, EventType, bootstrap_metrics"
   ]
  },
  {
   "cell_type": "code",
   "execution_count": 5,
   "id": "676f5d62-0697-48d4-90ef-77b1a080d610",
   "metadata": {},
   "outputs": [],
   "source": [
    "ace_train = load_file(\"en_train.json\")\n",
    "ace_dev = load_file(\"en_dev.json\")\n",
    "ace_test = load_file(\"en_test.json\")"
   ]
  },
  {
   "cell_type": "code",
   "execution_count": 6,
   "id": "d5a8958c-c949-4170-98b0-cf9b39cd8d10",
   "metadata": {},
   "outputs": [
    {
     "data": {
      "text/plain": [
       "{'sent_id': 'nw/APW_ENG_20030513.0139/006',\n",
       " 'text': 'A U.S. military official in Seoul , speaking on condition of anonymity , said Tuesday North Korea is believed to have exported US$ 580 million worth of missiles to Iran , Pakistan , Libya , Syria , Egypt , Yemen and the United Arab Emirates in 2001',\n",
       " 'events': [{'event_type': 'Transfer-Ownership',\n",
       "   'event_polarity': 'Positive',\n",
       "   'event_genericity': 'Specific',\n",
       "   'event_modality': 'Other',\n",
       "   'trigger': [['exported'], ['118:126']],\n",
       "   'arguments': [[['North Korea'], ['86:97'], 'Seller'],\n",
       "    [['US$ 580 million'], ['127:142'], 'Price'],\n",
       "    [['missiles'], ['152:160'], 'Artifact'],\n",
       "    [['Iran'], ['164:168'], 'Buyer'],\n",
       "    [['Pakistan'], ['171:179'], 'Buyer'],\n",
       "    [['Libya'], ['182:187'], 'Buyer'],\n",
       "    [['Syria'], ['190:195'], 'Buyer'],\n",
       "    [['Egypt'], ['198:203'], 'Buyer'],\n",
       "    [['Yemen'], ['206:211'], 'Buyer'],\n",
       "    [['the United Arab Emirates'], ['216:240'], 'Buyer'],\n",
       "    [['2001'], ['244:248'], 'Time-Within']]}]}"
      ]
     },
     "execution_count": 6,
     "metadata": {},
     "output_type": "execute_result"
    }
   ],
   "source": [
    "[x for x in ace_train if len(x['events']) > 0 and len(x[\"events\"][0][\"arguments\"]) > 10][0]"
   ]
  },
  {
   "cell_type": "code",
   "execution_count": 7,
   "id": "40f40493-cbfa-4cfc-a456-874155148f3c",
   "metadata": {},
   "outputs": [],
   "source": [
    "train_df = pd.DataFrame(ace_train).drop_duplicates('text').drop_duplicates('events')\n",
    "dev_df = pd.DataFrame(ace_dev).drop_duplicates('text').drop_duplicates('events')\n",
    "test_df = pd.DataFrame(ace_test).drop_duplicates('text').drop_duplicates('events')"
   ]
  },
  {
   "cell_type": "code",
   "execution_count": 8,
   "id": "937e9053-b497-4fbd-94a7-37f3451adcea",
   "metadata": {},
   "outputs": [
    {
     "name": "stdout",
     "output_type": "stream",
     "text": [
      "\\begin{tabular}{lrrr}\n",
      "\\toprule\n",
      "{} &  Train &  Validation &  Test \\\\\n",
      "\\midrule\n",
      "0 &   3246 &         347 &   293 \\\\\n",
      "\\bottomrule\n",
      "\\end{tabular}\n",
      "\n"
     ]
    },
    {
     "name": "stderr",
     "output_type": "stream",
     "text": [
      "/tmp/ipykernel_12080/4039068552.py:1: FutureWarning: In future versions `DataFrame.to_latex` is expected to utilise the base implementation of `Styler.to_latex` for formatting and rendering. The arguments signature may therefore change. It is recommended instead to use `DataFrame.style.to_latex` which also contains additional functionality.\n",
      "  print(pd.DataFrame({\"Train\": [len(train_df)], \"Validation\": [len(dev_df)], \"Test\": [len(test_df)]}).to_latex())\n"
     ]
    }
   ],
   "source": [
    "print(pd.DataFrame({\"Train\": [len(train_df)], \"Validation\": [len(dev_df)], \"Test\": [len(test_df)]}).to_latex())"
   ]
  },
  {
   "cell_type": "code",
   "execution_count": 9,
   "id": "32186cb9-e66e-495c-a4ed-0efa7bb470c9",
   "metadata": {},
   "outputs": [],
   "source": [
    "train_events: Sequence[EventSentence] = list(convert_events(train_df.to_dict('records')))\n",
    "dev_events: Sequence[EventSentence] = list(convert_events(dev_df.to_dict('records')))\n",
    "test_events: Sequence[EventSentence] = list(convert_events(test_df.to_dict('records')))"
   ]
  },
  {
   "cell_type": "code",
   "execution_count": 10,
   "id": "62294c39-a7e6-4254-9509-b50406f04318",
   "metadata": {},
   "outputs": [
    {
     "name": "stdout",
     "output_type": "stream",
     "text": [
      "\\begin{tabular}{lrrr}\n",
      "\\toprule\n",
      "{} &  Train events &  Validation events &  Test \\\\\n",
      "\\midrule\n",
      "0 &          4261 &                496 &   424 \\\\\n",
      "\\bottomrule\n",
      "\\end{tabular}\n",
      "\n"
     ]
    },
    {
     "name": "stderr",
     "output_type": "stream",
     "text": [
      "/tmp/ipykernel_12080/2091171148.py:1: FutureWarning: In future versions `DataFrame.to_latex` is expected to utilise the base implementation of `Styler.to_latex` for formatting and rendering. The arguments signature may therefore change. It is recommended instead to use `DataFrame.style.to_latex` which also contains additional functionality.\n",
      "  print(pd.DataFrame({\"Train events\": [len(train_events)], \"Validation events\": [len(dev_events)], \"Test\": [len(test_events)]}).to_latex())\n"
     ]
    }
   ],
   "source": [
    "print(pd.DataFrame({\"Train events\": [len(train_events)], \"Validation events\": [len(dev_events)], \"Test\": [len(test_events)]}).to_latex())"
   ]
  },
  {
   "cell_type": "code",
   "execution_count": 11,
   "id": "42543b39-b37b-4a4d-bd00-675e893e2865",
   "metadata": {},
   "outputs": [],
   "source": [
    "edf = pd.DataFrame(train_events)\n",
    "vedf = pd.DataFrame(dev_events)\n",
    "tedf = pd.DataFrame(test_events)"
   ]
  },
  {
   "cell_type": "code",
   "execution_count": 12,
   "id": "ebd4bcfe-6179-42d6-86c7-00dfc46a5da1",
   "metadata": {},
   "outputs": [
    {
     "data": {
      "text/html": [
       "<div>\n",
       "<style scoped>\n",
       "    .dataframe tbody tr th:only-of-type {\n",
       "        vertical-align: middle;\n",
       "    }\n",
       "\n",
       "    .dataframe tbody tr th {\n",
       "        vertical-align: top;\n",
       "    }\n",
       "\n",
       "    .dataframe thead th {\n",
       "        text-align: right;\n",
       "    }\n",
       "</style>\n",
       "<table border=\"1\" class=\"dataframe\">\n",
       "  <thead>\n",
       "    <tr style=\"text-align: right;\">\n",
       "      <th></th>\n",
       "      <th>sent_id</th>\n",
       "      <th>text</th>\n",
       "      <th>type</th>\n",
       "      <th>modality</th>\n",
       "      <th>label</th>\n",
       "      <th>polarity</th>\n",
       "      <th>genericity</th>\n",
       "      <th>trigger</th>\n",
       "      <th>trigger_idx</th>\n",
       "      <th>arguments</th>\n",
       "    </tr>\n",
       "  </thead>\n",
       "  <tbody>\n",
       "    <tr>\n",
       "      <th>0</th>\n",
       "      <td>bc/CNN_IP_20030329.1600.02/001</td>\n",
       "      <td>It was in northern Iraq today that an eight ar...</td>\n",
       "      <td>Attack</td>\n",
       "      <td>Asserted</td>\n",
       "      <td>1</td>\n",
       "      <td>Positive</td>\n",
       "      <td>Specific</td>\n",
       "      <td>hit</td>\n",
       "      <td>60:63</td>\n",
       "      <td>[[[northern Iraq], [10:23], Place], [[today], ...</td>\n",
       "    </tr>\n",
       "    <tr>\n",
       "      <th>1</th>\n",
       "      <td>bc/CNN_IP_20030329.1600.02/002</td>\n",
       "      <td>A day ago it was controlled by Iraqi troops an...</td>\n",
       "      <td>Transport</td>\n",
       "      <td>Asserted</td>\n",
       "      <td>1</td>\n",
       "      <td>Positive</td>\n",
       "      <td>Specific</td>\n",
       "      <td>drive</td>\n",
       "      <td>92:97</td>\n",
       "      <td>[[[it], [10:12], Destination], [[now], [81:84]...</td>\n",
       "    </tr>\n",
       "    <tr>\n",
       "      <th>2</th>\n",
       "      <td>bc/CNN_IP_20030329.1600.02/003</td>\n",
       "      <td>That 's because coalition fighter jets pummele...</td>\n",
       "      <td>Attack</td>\n",
       "      <td>Asserted</td>\n",
       "      <td>1</td>\n",
       "      <td>Positive</td>\n",
       "      <td>Specific</td>\n",
       "      <td>pummeled</td>\n",
       "      <td>39:47</td>\n",
       "      <td>[[[coalition fighter jets], [16:38], Instrumen...</td>\n",
       "    </tr>\n",
       "    <tr>\n",
       "      <th>3</th>\n",
       "      <td>bc/CNN_IP_20030329.1600.02/003</td>\n",
       "      <td>That 's because coalition fighter jets pummele...</td>\n",
       "      <td>Transport</td>\n",
       "      <td>Asserted</td>\n",
       "      <td>1</td>\n",
       "      <td>Positive</td>\n",
       "      <td>Specific</td>\n",
       "      <td>retreat</td>\n",
       "      <td>128:135</td>\n",
       "      <td>[[[the hills above Chamchamal], [71:97], Origi...</td>\n",
       "    </tr>\n",
       "    <tr>\n",
       "      <th>4</th>\n",
       "      <td>bc/CNN_IP_20030329.1600.02/004</td>\n",
       "      <td>I 'm glad to see them go this one says</td>\n",
       "      <td>Transport</td>\n",
       "      <td>Asserted</td>\n",
       "      <td>1</td>\n",
       "      <td>Positive</td>\n",
       "      <td>Specific</td>\n",
       "      <td>go</td>\n",
       "      <td>22:24</td>\n",
       "      <td>[[[them], [17:21], Artifact]]</td>\n",
       "    </tr>\n",
       "  </tbody>\n",
       "</table>\n",
       "</div>"
      ],
      "text/plain": [
       "                          sent_id  \\\n",
       "0  bc/CNN_IP_20030329.1600.02/001   \n",
       "1  bc/CNN_IP_20030329.1600.02/002   \n",
       "2  bc/CNN_IP_20030329.1600.02/003   \n",
       "3  bc/CNN_IP_20030329.1600.02/003   \n",
       "4  bc/CNN_IP_20030329.1600.02/004   \n",
       "\n",
       "                                                text       type  modality  \\\n",
       "0  It was in northern Iraq today that an eight ar...     Attack  Asserted   \n",
       "1  A day ago it was controlled by Iraqi troops an...  Transport  Asserted   \n",
       "2  That 's because coalition fighter jets pummele...     Attack  Asserted   \n",
       "3  That 's because coalition fighter jets pummele...  Transport  Asserted   \n",
       "4             I 'm glad to see them go this one says  Transport  Asserted   \n",
       "\n",
       "   label  polarity genericity   trigger trigger_idx  \\\n",
       "0      1  Positive   Specific       hit       60:63   \n",
       "1      1  Positive   Specific     drive       92:97   \n",
       "2      1  Positive   Specific  pummeled       39:47   \n",
       "3      1  Positive   Specific   retreat     128:135   \n",
       "4      1  Positive   Specific        go       22:24   \n",
       "\n",
       "                                           arguments  \n",
       "0  [[[northern Iraq], [10:23], Place], [[today], ...  \n",
       "1  [[[it], [10:12], Destination], [[now], [81:84]...  \n",
       "2  [[[coalition fighter jets], [16:38], Instrumen...  \n",
       "3  [[[the hills above Chamchamal], [71:97], Origi...  \n",
       "4                      [[[them], [17:21], Artifact]]  "
      ]
     },
     "execution_count": 12,
     "metadata": {},
     "output_type": "execute_result"
    }
   ],
   "source": [
    "edf.head()"
   ]
  },
  {
   "cell_type": "code",
   "execution_count": 13,
   "id": "158bd9a7-0ccd-4dfd-866e-cef9adf35ebe",
   "metadata": {},
   "outputs": [],
   "source": [
    "counts = pd.DataFrame()\n",
    "counts['Train'] = edf['modality'].value_counts()\n",
    "counts['Validation'] = vedf['modality'].value_counts()\n",
    "counts['Test'] = tedf['modality'].value_counts()"
   ]
  },
  {
   "cell_type": "code",
   "execution_count": 14,
   "id": "367de807-4b9e-43ad-aad7-92b355a9bca7",
   "metadata": {},
   "outputs": [],
   "source": [
    "counts = counts.T"
   ]
  },
  {
   "cell_type": "code",
   "execution_count": 15,
   "id": "5c8a7306-b758-4b05-a709-0b41a7ca1996",
   "metadata": {},
   "outputs": [],
   "source": [
    "counts['ratio'] = counts['Asserted'] / counts['Other']"
   ]
  },
  {
   "cell_type": "code",
   "execution_count": 16,
   "id": "7a0b48fc-cb9a-49a2-9d7d-249ff3087cdc",
   "metadata": {},
   "outputs": [
    {
     "name": "stdout",
     "output_type": "stream",
     "text": [
      "\\begin{tabular}{lrrr}\n",
      "\\toprule\n",
      "{} &  Asserted &  Other &     ratio \\\\\n",
      "\\midrule\n",
      "Train      &      3216 &   1045 &  3.077512 \\\\\n",
      "Validation &       356 &    140 &  2.542857 \\\\\n",
      "Test       &       308 &    116 &  2.655172 \\\\\n",
      "\\bottomrule\n",
      "\\end{tabular}\n",
      "\n"
     ]
    },
    {
     "name": "stderr",
     "output_type": "stream",
     "text": [
      "/tmp/ipykernel_12080/1484047370.py:1: FutureWarning: In future versions `DataFrame.to_latex` is expected to utilise the base implementation of `Styler.to_latex` for formatting and rendering. The arguments signature may therefore change. It is recommended instead to use `DataFrame.style.to_latex` which also contains additional functionality.\n",
      "  print(counts.to_latex())\n"
     ]
    }
   ],
   "source": [
    "print(counts.to_latex())"
   ]
  },
  {
   "cell_type": "code",
   "execution_count": 17,
   "id": "ec5e5e21-1e0a-4c60-bdee-fc70262c7044",
   "metadata": {},
   "outputs": [],
   "source": [
    "generic_events = edf[edf['genericity'] == 'Generic']['modality']"
   ]
  },
  {
   "cell_type": "code",
   "execution_count": 18,
   "id": "4f85643e-f2a8-4da4-b29f-8868cb4f1fbe",
   "metadata": {},
   "outputs": [],
   "source": [
    "negative_polarity = edf[edf['polarity'] == 'Negative']"
   ]
  },
  {
   "cell_type": "code",
   "execution_count": 19,
   "id": "2f6600f2-8cd6-4e77-a0a8-ec4676c5f854",
   "metadata": {},
   "outputs": [],
   "source": [
    "ncounts = pd.DataFrame()\n",
    "ncounts['Train'] = edf['polarity'].value_counts()\n",
    "ncounts['Validation'] = vedf['polarity'].value_counts()\n",
    "ncounts['Test'] = tedf['polarity'].value_counts()\n",
    "ncounts = ncounts.T\n",
    "ncounts['Ratio'] = ncounts['Positive'] / ncounts['Negative']"
   ]
  },
  {
   "cell_type": "code",
   "execution_count": 20,
   "id": "056287e4-c129-45a7-975e-00cb8403c193",
   "metadata": {},
   "outputs": [
    {
     "name": "stdout",
     "output_type": "stream",
     "text": [
      "\\begin{tabular}{lrrr}\n",
      "\\toprule\n",
      "{} &  Positive &  Negative &      Ratio \\\\\n",
      "\\midrule\n",
      "Train      &      4103 &       158 &  25.968354 \\\\\n",
      "Validation &       480 &        16 &  30.000000 \\\\\n",
      "Test       &       412 &        12 &  34.333333 \\\\\n",
      "\\bottomrule\n",
      "\\end{tabular}\n",
      "\n"
     ]
    },
    {
     "name": "stderr",
     "output_type": "stream",
     "text": [
      "/tmp/ipykernel_12080/3657723705.py:1: FutureWarning: In future versions `DataFrame.to_latex` is expected to utilise the base implementation of `Styler.to_latex` for formatting and rendering. The arguments signature may therefore change. It is recommended instead to use `DataFrame.style.to_latex` which also contains additional functionality.\n",
      "  print(ncounts.to_latex())\n"
     ]
    }
   ],
   "source": [
    "print(ncounts.to_latex())"
   ]
  },
  {
   "cell_type": "code",
   "execution_count": 21,
   "id": "5e1d4786-49ee-4faf-96f7-6647890763e2",
   "metadata": {},
   "outputs": [
    {
     "data": {
      "text/plain": [
       "Asserted    81\n",
       "Other       77\n",
       "Name: modality, dtype: int64"
      ]
     },
     "execution_count": 21,
     "metadata": {},
     "output_type": "execute_result"
    }
   ],
   "source": [
    "negative_polarity['modality'].value_counts()"
   ]
  },
  {
   "cell_type": "code",
   "execution_count": 22,
   "id": "1083b4ed-5ab8-4eb1-aed4-b8267fafb17d",
   "metadata": {},
   "outputs": [
    {
     "name": "stdout",
     "output_type": "stream",
     "text": [
      "He looked for the gunshot wounds for the knife stabbing , and there is no injury whatsoever\n",
      "\n",
      "injury\n"
     ]
    }
   ],
   "source": [
    "print(negative_polarity[negative_polarity['modality'] == 'Other'].head().iloc[4].text)\n",
    "print()\n",
    "print(negative_polarity[negative_polarity['modality'] == 'Other'].head().iloc[4].trigger)"
   ]
  },
  {
   "cell_type": "code",
   "execution_count": 23,
   "id": "aa8fbf1c-ad89-4688-a6c3-4f1c594359a7",
   "metadata": {},
   "outputs": [
    {
     "name": "stdout",
     "output_type": "stream",
     "text": [
      "It has refused in the last five years to revoke the license of a single doctor for committing medical errors\n",
      "\n",
      "revoke\n"
     ]
    }
   ],
   "source": [
    "print(negative_polarity[negative_polarity['modality'] == 'Asserted'].head().iloc[3].text)\n",
    "print()\n",
    "print(negative_polarity[negative_polarity['modality'] == 'Asserted'].head().iloc[3].trigger)"
   ]
  },
  {
   "cell_type": "code",
   "execution_count": 24,
   "id": "06dfe13a-7234-4917-9bea-f835853b9edc",
   "metadata": {},
   "outputs": [],
   "source": [
    "positive_polarity = edf[edf['polarity'] == 'Positive']"
   ]
  },
  {
   "cell_type": "code",
   "execution_count": 25,
   "id": "44ae9f37-0176-4aa7-afbc-b110bc82fac5",
   "metadata": {},
   "outputs": [
    {
     "name": "stdout",
     "output_type": "stream",
     "text": [
      "\\begin{tabular}{lllr}\n",
      "\\toprule\n",
      "     &          &       &     0 \\\\\n",
      "{} & polarity & modality &       \\\\\n",
      "\\midrule\n",
      "Train & Negative & Asserted &    81 \\\\\n",
      "     &          & Other &    77 \\\\\n",
      "     & Positive & Asserted &  3135 \\\\\n",
      "     &          & Other &   968 \\\\\n",
      "Validation & Negative & Asserted &     3 \\\\\n",
      "     &          & Other &    13 \\\\\n",
      "     & Positive & Asserted &   353 \\\\\n",
      "     &          & Other &   127 \\\\\n",
      "Test & Negative & Asserted &     7 \\\\\n",
      "     &          & Other &     5 \\\\\n",
      "     & Positive & Asserted &   301 \\\\\n",
      "     &          & Other &   111 \\\\\n",
      "\\bottomrule\n",
      "\\end{tabular}\n",
      "\n"
     ]
    },
    {
     "name": "stderr",
     "output_type": "stream",
     "text": [
      "/tmp/ipykernel_12080/1659281645.py:4: FutureWarning: In future versions `DataFrame.to_latex` is expected to utilise the base implementation of `Styler.to_latex` for formatting and rendering. The arguments signature may therefore change. It is recommended instead to use `DataFrame.style.to_latex` which also contains additional functionality.\n",
      "  keys=[\"Train\", \"Validation\", \"Test\"]).to_latex())\n"
     ]
    }
   ],
   "source": [
    "print(pd.concat([edf.groupby(['polarity','modality']).size(),\n",
    "           vedf.groupby(['polarity','modality']).size(),\n",
    "           tedf.groupby(['polarity','modality']).size()],\n",
    "         keys=[\"Train\", \"Validation\", \"Test\"]).to_latex())"
   ]
  },
  {
   "cell_type": "code",
   "execution_count": 26,
   "id": "cf76a56e-2c6a-4b63-b901-8c34ea76e019",
   "metadata": {},
   "outputs": [],
   "source": [
    "generic = edf[edf['genericity'] == 'Generic']"
   ]
  },
  {
   "cell_type": "code",
   "execution_count": 27,
   "id": "80066133-651a-49a2-a12c-c21a93ac3f35",
   "metadata": {},
   "outputs": [
    {
     "name": "stdout",
     "output_type": "stream",
     "text": [
      "It is an elementary fact of life during wartime : A press pass provides no protection\n",
      "wartime\n",
      "Asserted\n"
     ]
    }
   ],
   "source": [
    "print(generic.iloc[3].text)\n",
    "print(generic.iloc[3].trigger)\n",
    "print(generic.iloc[3].modality)"
   ]
  },
  {
   "cell_type": "code",
   "execution_count": 28,
   "id": "19c0fc91-c8f7-4dcf-9aa3-e4397eaec2a7",
   "metadata": {},
   "outputs": [
    {
     "name": "stdout",
     "output_type": "stream",
     "text": [
      "Reporters who ignore or distort facts are betraying their craft no matter what and no matter how much that may anger the people running a war\n",
      "war\n",
      "Other\n"
     ]
    }
   ],
   "source": [
    "i = 8\n",
    "print(generic.iloc[i].text)\n",
    "print(generic.iloc[i].trigger)\n",
    "print(generic.iloc[i].modality)"
   ]
  },
  {
   "cell_type": "code",
   "execution_count": 29,
   "id": "8c61ee1f-b86e-4e39-8b4c-9abb2546e9df",
   "metadata": {},
   "outputs": [
    {
     "name": "stdout",
     "output_type": "stream",
     "text": [
      "\\begin{tabular}{lllr}\n",
      "\\toprule\n",
      "     &          &       &     0 \\\\\n",
      "{} & genericity & modality &       \\\\\n",
      "\\midrule\n",
      "Train & Generic & Asserted &   481 \\\\\n",
      "     &          & Other &   491 \\\\\n",
      "     & Specific & Asserted &  2735 \\\\\n",
      "     &          & Other &   554 \\\\\n",
      "Validation & Generic & Asserted &    45 \\\\\n",
      "     &          & Other &    77 \\\\\n",
      "     & Specific & Asserted &   311 \\\\\n",
      "     &          & Other &    63 \\\\\n",
      "Test & Generic & Asserted &    20 \\\\\n",
      "     &          & Other &    36 \\\\\n",
      "     & Specific & Asserted &   288 \\\\\n",
      "     &          & Other &    80 \\\\\n",
      "\\bottomrule\n",
      "\\end{tabular}\n",
      "\n"
     ]
    },
    {
     "name": "stderr",
     "output_type": "stream",
     "text": [
      "/tmp/ipykernel_12080/1853974157.py:4: FutureWarning: In future versions `DataFrame.to_latex` is expected to utilise the base implementation of `Styler.to_latex` for formatting and rendering. The arguments signature may therefore change. It is recommended instead to use `DataFrame.style.to_latex` which also contains additional functionality.\n",
      "  keys=[\"Train\", \"Validation\", \"Test\"]).to_latex())\n"
     ]
    }
   ],
   "source": [
    "print(pd.concat([edf.groupby(['genericity','modality']).size(),\n",
    "           vedf.groupby(['genericity','modality']).size(),\n",
    "           tedf.groupby(['genericity','modality']).size()],\n",
    "         keys=[\"Train\", \"Validation\", \"Test\"]).to_latex())"
   ]
  },
  {
   "cell_type": "code",
   "execution_count": 30,
   "id": "f8832c2b-8cce-4b15-93db-13efcf8b4ff0",
   "metadata": {},
   "outputs": [],
   "source": [
    "def new_factuality(row):\n",
    "    if (row['modality'] == 'Asserted' and row['genericity'] == 'Generic'):\n",
    "        return 'Other'\n",
    "    elif (row['polarity'] == 'Negative' and row['modality'] == 'Asserted'):\n",
    "        return 'Asserted-'\n",
    "    elif (row['modality'] == 'Asserted' and row['polarity'] == 'Positive'):\n",
    "        return 'Asserted+'\n",
    "    else:\n",
    "        return 'Other'"
   ]
  },
  {
   "cell_type": "code",
   "execution_count": 31,
   "id": "df7088d3-0dd5-4559-afee-e4844dbaf5f4",
   "metadata": {},
   "outputs": [],
   "source": [
    "edf['factuality'] = edf.apply(new_factuality, axis=1)\n",
    "vedf['factuality'] = vedf.apply(new_factuality, axis=1)\n",
    "tedf['factuality'] = tedf.apply(new_factuality, axis=1)"
   ]
  },
  {
   "cell_type": "code",
   "execution_count": 32,
   "id": "86fc5541-b6f7-440d-a655-928fc1642249",
   "metadata": {},
   "outputs": [
    {
     "name": "stdout",
     "output_type": "stream",
     "text": [
      "\\begin{tabular}{llr}\n",
      "\\toprule\n",
      "     &           &  factuality \\\\\n",
      "\\midrule\n",
      "Train & Asserted+ &        2682 \\\\\n",
      "     & Other &        1526 \\\\\n",
      "     & Asserted- &          53 \\\\\n",
      "Validation & Asserted+ &         309 \\\\\n",
      "     & Other &         185 \\\\\n",
      "     & Asserted- &           2 \\\\\n",
      "Test & Asserted+ &         286 \\\\\n",
      "     & Other &         136 \\\\\n",
      "     & Asserted- &           2 \\\\\n",
      "\\bottomrule\n",
      "\\end{tabular}\n",
      "\n"
     ]
    },
    {
     "name": "stderr",
     "output_type": "stream",
     "text": [
      "/tmp/ipykernel_12080/3455327382.py:4: FutureWarning: In future versions `DataFrame.to_latex` is expected to utilise the base implementation of `Styler.to_latex` for formatting and rendering. The arguments signature may therefore change. It is recommended instead to use `DataFrame.style.to_latex` which also contains additional functionality.\n",
      "  keys=[\"Train\", \"Validation\", \"Test\"]).to_latex())\n"
     ]
    }
   ],
   "source": [
    "print(pd.concat([edf['factuality'].value_counts(),\n",
    "           vedf['factuality'].value_counts(),\n",
    "           tedf['factuality'].value_counts()],\n",
    "         keys=[\"Train\", \"Validation\", \"Test\"]).to_latex())"
   ]
  },
  {
   "cell_type": "code",
   "execution_count": 33,
   "id": "4be9a8e6-4baa-4858-a883-3a2367999b55",
   "metadata": {},
   "outputs": [],
   "source": [
    "ncounts = pd.DataFrame()\n",
    "ncounts['Train'] = edf['factuality'].value_counts()\n",
    "ncounts['Validation'] = vedf['factuality'].value_counts()\n",
    "ncounts['Test'] = tedf['factuality'].value_counts()\n",
    "ncounts = ncounts.T\n",
    "ncounts['Asserted+ / Asserted-'] = ncounts['Asserted+'] / ncounts['Asserted-']\n",
    "ncounts['Asserted+ / Other'] = ncounts['Asserted+'] / ncounts['Other']\n",
    "ncounts['Other / Asserted-'] = ncounts['Other'] / ncounts['Asserted-']"
   ]
  },
  {
   "cell_type": "code",
   "execution_count": 34,
   "id": "c4511e02-f8f9-445b-b1dd-f96da3a699b7",
   "metadata": {},
   "outputs": [
    {
     "name": "stdout",
     "output_type": "stream",
     "text": [
      "\\begin{tabular}{lrrr}\n",
      "\\toprule\n",
      "{} &        Train &  Validation &        Test \\\\\n",
      "\\midrule\n",
      "Asserted+             &  2682.000000 &   309.00000 &  286.000000 \\\\\n",
      "Other                 &  1526.000000 &   185.00000 &  136.000000 \\\\\n",
      "Asserted-             &    53.000000 &     2.00000 &    2.000000 \\\\\n",
      "Asserted+ / Asserted- &    50.603774 &   154.50000 &  143.000000 \\\\\n",
      "Asserted+ / Other     &     1.757536 &     1.67027 &    2.102941 \\\\\n",
      "Other / Asserted-     &    28.792453 &    92.50000 &   68.000000 \\\\\n",
      "\\bottomrule\n",
      "\\end{tabular}\n",
      "\n"
     ]
    },
    {
     "name": "stderr",
     "output_type": "stream",
     "text": [
      "/tmp/ipykernel_12080/3677880152.py:1: FutureWarning: In future versions `DataFrame.to_latex` is expected to utilise the base implementation of `Styler.to_latex` for formatting and rendering. The arguments signature may therefore change. It is recommended instead to use `DataFrame.style.to_latex` which also contains additional functionality.\n",
      "  print(ncounts.T.to_latex())\n"
     ]
    }
   ],
   "source": [
    "print(ncounts.T.to_latex())"
   ]
  },
  {
   "cell_type": "code",
   "execution_count": 35,
   "id": "c12913c1-fe7d-4bce-9d86-d0aae91a9503",
   "metadata": {},
   "outputs": [
    {
     "name": "stdout",
     "output_type": "stream",
     "text": [
      "\\begin{tabular}{llr}\n",
      "\\toprule\n",
      "     &      &  trigger \\\\\n",
      "\\midrule\n",
      "Train & war &      240 \\\\\n",
      "     & killed &      121 \\\\\n",
      "     & attack &       58 \\\\\n",
      "     & election &       53 \\\\\n",
      "     & fighting &       52 \\\\\n",
      "     & died &       50 \\\\\n",
      "     & trial &       49 \\\\\n",
      "     & meeting &       46 \\\\\n",
      "     & death &       44 \\\\\n",
      "     & fire &       43 \\\\\n",
      "Validation & war &       46 \\\\\n",
      "     & attack &       14 \\\\\n",
      "     & attacks &       14 \\\\\n",
      "     & killed &       12 \\\\\n",
      "     & death &       10 \\\\\n",
      "     & meeting &        8 \\\\\n",
      "     & genocide &        7 \\\\\n",
      "     & wounded &        7 \\\\\n",
      "     & shot &        7 \\\\\n",
      "     & meetings &        7 \\\\\n",
      "Test & war &       37 \\\\\n",
      "     & meeting &       14 \\\\\n",
      "     & talks &       11 \\\\\n",
      "     & summit &        9 \\\\\n",
      "     & divorce &        8 \\\\\n",
      "     & sentence &        7 \\\\\n",
      "     & appeal &        6 \\\\\n",
      "     & elections &        6 \\\\\n",
      "     & killed &        5 \\\\\n",
      "     & sell &        5 \\\\\n",
      "\\bottomrule\n",
      "\\end{tabular}\n",
      "\n"
     ]
    },
    {
     "name": "stderr",
     "output_type": "stream",
     "text": [
      "/tmp/ipykernel_12080/2260973393.py:4: FutureWarning: In future versions `DataFrame.to_latex` is expected to utilise the base implementation of `Styler.to_latex` for formatting and rendering. The arguments signature may therefore change. It is recommended instead to use `DataFrame.style.to_latex` which also contains additional functionality.\n",
      "  ], keys=[\"Train\",\"Validation\", \"Test\"]).to_latex())\n"
     ]
    }
   ],
   "source": [
    "print(pd.concat([edf['trigger'].value_counts()[:10],\n",
    "       vedf['trigger'].value_counts()[:10],\n",
    "       tedf['trigger'].value_counts()[:10],\n",
    "      ], keys=[\"Train\",\"Validation\", \"Test\"]).to_latex())"
   ]
  },
  {
   "cell_type": "code",
   "execution_count": 36,
   "id": "37e30a85-4882-4ba2-89b7-b4fae1582576",
   "metadata": {},
   "outputs": [],
   "source": [
    "import numpy as np"
   ]
  },
  {
   "cell_type": "code",
   "execution_count": 37,
   "id": "08042219-954b-4a82-b010-26911275d472",
   "metadata": {},
   "outputs": [
    {
     "data": {
      "image/png": "[encoded data removed]",
      "text/plain": [
       "<Figure size 640x480 with 1 Axes>"
      ]
     },
     "metadata": {},
     "output_type": "display_data"
    }
   ],
   "source": [
    "sns.set_style(\"whitegrid\", {'axes.grid' : True})\n",
    "temp = pd.concat([edf, vedf, tedf])\n",
    "trigger_counts = temp.trigger.value_counts()\n",
    "df = trigger_counts.reset_index()\n",
    "df.columns = ['trigger', 'count']\n",
    "\n",
    "plot = sns.lineplot(data=df['count'])\n",
    "plt.xticks(rotation=90, ha='right')  # Rotate word labels for better readability\n",
    "plt.xlabel(\"Trigger word occurence rank\")\n",
    "plot.set(yscale='log')\n",
    "plot.set(xscale='log')\n",
    "fig = plot.get_figure()\n",
    "fig.savefig(\"../results/trigger_word_dist.png\", bbox_inches='tight')"
   ]
  },
  {
   "cell_type": "code",
   "execution_count": 38,
   "id": "21b82f4e-0492-4a9a-91a7-87337ebd7adb",
   "metadata": {},
   "outputs": [
    {
     "data": {
      "text/plain": [
       "584"
      ]
     },
     "execution_count": 38,
     "metadata": {},
     "output_type": "execute_result"
    }
   ],
   "source": [
    "(edf['trigger'].value_counts() < 2).sum()"
   ]
  },
  {
   "cell_type": "code",
   "execution_count": 39,
   "id": "1f435b5d-614d-4519-90ae-21668d8a952b",
   "metadata": {},
   "outputs": [
    {
     "name": "stdout",
     "output_type": "stream",
     "text": [
      "\\begin{tabular}{lrrr}\n",
      "\\toprule\n",
      "{} &    0 &    1 &    2 \\\\\n",
      "\\midrule\n",
      "count = 1 trigger words &  671 &  169 &  155 \\\\\n",
      "count > 1 trigger words &  575 &   76 &   78 \\\\\n",
      "\\bottomrule\n",
      "\\end{tabular}\n",
      "\n"
     ]
    },
    {
     "name": "stderr",
     "output_type": "stream",
     "text": [
      "/tmp/ipykernel_12080/3895439838.py:2: FutureWarning: In future versions `DataFrame.to_latex` is expected to utilise the base implementation of `Styler.to_latex` for formatting and rendering. The arguments signature may therefore change. It is recommended instead to use `DataFrame.style.to_latex` which also contains additional functionality.\n",
      "  \"count > 1 trigger words\": [len(df[(df['count'] >= 2)]), (vedf['trigger'].value_counts() >= 2).sum(), (tedf['trigger'].value_counts() >= 2).sum()]}).T.to_latex())\n"
     ]
    }
   ],
   "source": [
    "print(pd.DataFrame({\"count = 1 trigger words\": [len(df[df['count'] < 2]), (vedf['trigger'].value_counts() < 2).sum(), (tedf['trigger'].value_counts() < 2).sum()],\n",
    "                    \"count > 1 trigger words\": [len(df[(df['count'] >= 2)]), (vedf['trigger'].value_counts() >= 2).sum(), (tedf['trigger'].value_counts() >= 2).sum()]}).T.to_latex())"
   ]
  },
  {
   "cell_type": "code",
   "execution_count": 40,
   "id": "b5225027-b386-405e-8c96-f9b9c6b40d36",
   "metadata": {},
   "outputs": [
    {
     "data": {
      "image/png": "[encoded data removed]",
      "text/plain": [
       "<Figure size 640x480 with 1 Axes>"
      ]
     },
     "metadata": {},
     "output_type": "display_data"
    }
   ],
   "source": [
    "sns.set_style(\"whitegrid\", {'axes.grid' : True})\n",
    "plot = sns.countplot(data=edf, x=\"type\", order = edf['type'].value_counts().index, palette=\"mako\")\n",
    "plt.xticks(rotation=90, ha='right')  # Rotate word labels for better readability\n",
    "plt.xlabel(\"Event type (train)\")\n",
    "#plot.set(yscale='log')\n",
    "fig = plot.get_figure()\n",
    "fig.savefig(\"../results/type_dist.png\", bbox_inches='tight')"
   ]
  },
  {
   "cell_type": "code",
   "execution_count": 41,
   "id": "f53ec9f7-0547-4c39-bd13-ce6a68f64fbd",
   "metadata": {},
   "outputs": [
    {
     "data": {
      "text/plain": [
       "Attack                1239\n",
       "Transport              607\n",
       "Die                    487\n",
       "Meet                   198\n",
       "End-Position           156\n",
       "Elect                  145\n",
       "Transfer-Money         128\n",
       "Injure                 127\n",
       "Phone-Write            112\n",
       "Charge-Indict           96\n",
       "Transfer-Ownership      90\n",
       "Trial-Hearing           90\n",
       "Sentence                81\n",
       "Start-Position          80\n",
       "Arrest-Jail             78\n",
       "Marry                   67\n",
       "Demonstrate             64\n",
       "Convict                 58\n",
       "Sue                     55\n",
       "Be-Born                 44\n",
       "Release-Parole          41\n",
       "Declare-Bankruptcy      38\n",
       "End-Org                 31\n",
       "Appeal                  30\n",
       "Start-Org               29\n",
       "Fine                    22\n",
       "Divorce                 18\n",
       "Execute                 14\n",
       "Merge-Org               14\n",
       "Nominate                11\n",
       "Acquit                   5\n",
       "Extradite                4\n",
       "Pardon                   2\n",
       "Name: type, dtype: int64"
      ]
     },
     "execution_count": 41,
     "metadata": {},
     "output_type": "execute_result"
    }
   ],
   "source": [
    "edf['type'].value_counts()"
   ]
  },
  {
   "cell_type": "code",
   "execution_count": 42,
   "id": "dd5f540f-2bcc-4e04-948c-48f72235e34a",
   "metadata": {},
   "outputs": [
    {
     "data": {
      "image/png": "[encoded data removed]",
      "text/plain": [
       "<Figure size 640x480 with 1 Axes>"
      ]
     },
     "metadata": {},
     "output_type": "display_data"
    }
   ],
   "source": [
    "sns.set_style(\"whitegrid\", {'axes.grid' : True})\n",
    "plot = sns.countplot(data=vedf, x=\"type\", order = vedf['type'].value_counts().index, palette=\"mako\")\n",
    "plt.xticks(rotation=90, ha='right')  # Rotate word labels for better readability\n",
    "plt.xlabel(\"Event type (validation)\")\n",
    "#plot.set(yscale='log')\n",
    "fig = plot.get_figure()\n",
    "fig.savefig(\"../results/vtype_dist.png\", bbox_inches='tight')"
   ]
  },
  {
   "cell_type": "code",
   "execution_count": 43,
   "id": "69ac2978-9a9d-4d12-9796-f150e0d888fd",
   "metadata": {},
   "outputs": [
    {
     "data": {
      "image/png": "[encoded data removed]",
      "text/plain": [
       "<Figure size 640x480 with 1 Axes>"
      ]
     },
     "metadata": {},
     "output_type": "display_data"
    }
   ],
   "source": [
    "sns.set_style(\"whitegrid\", {'axes.grid' : True})\n",
    "plot = sns.countplot(data=tedf, x=\"type\", order = tedf['type'].value_counts().index, palette=\"mako\")\n",
    "plt.xticks(rotation=90, ha='right')  # Rotate word labels for better readability\n",
    "plt.xlabel(\"Event type (test)\")\n",
    "#plot.set(yscale='log')\n",
    "fig = plot.get_figure()\n",
    "fig.savefig(\"../results/ttype_dist.png\", bbox_inches='tight')"
   ]
  },
  {
   "cell_type": "code",
   "execution_count": 44,
   "id": "b0661030-f755-4381-99f7-45db843353f2",
   "metadata": {},
   "outputs": [
    {
     "name": "stdout",
     "output_type": "stream",
     "text": [
      "\\begin{tabular}{lr}\n",
      "\\toprule\n",
      "{} &   type \\\\\n",
      "\\midrule\n",
      "Attack             &  29.08 \\\\\n",
      "Transport          &  14.25 \\\\\n",
      "Die                &  11.43 \\\\\n",
      "Meet               &   4.65 \\\\\n",
      "End-Position       &   3.66 \\\\\n",
      "Elect              &   3.40 \\\\\n",
      "Transfer-Money     &   3.00 \\\\\n",
      "Injure             &   2.98 \\\\\n",
      "Phone-Write        &   2.63 \\\\\n",
      "Charge-Indict      &   2.25 \\\\\n",
      "Transfer-Ownership &   2.11 \\\\\n",
      "Trial-Hearing      &   2.11 \\\\\n",
      "Sentence           &   1.90 \\\\\n",
      "Start-Position     &   1.88 \\\\\n",
      "Arrest-Jail        &   1.83 \\\\\n",
      "Marry              &   1.57 \\\\\n",
      "Demonstrate        &   1.50 \\\\\n",
      "Convict            &   1.36 \\\\\n",
      "Sue                &   1.29 \\\\\n",
      "Be-Born            &   1.03 \\\\\n",
      "Release-Parole     &   0.96 \\\\\n",
      "Declare-Bankruptcy &   0.89 \\\\\n",
      "End-Org            &   0.73 \\\\\n",
      "Appeal             &   0.70 \\\\\n",
      "Start-Org          &   0.68 \\\\\n",
      "Fine               &   0.52 \\\\\n",
      "Divorce            &   0.42 \\\\\n",
      "Execute            &   0.33 \\\\\n",
      "Merge-Org          &   0.33 \\\\\n",
      "Nominate           &   0.26 \\\\\n",
      "Acquit             &   0.12 \\\\\n",
      "Extradite          &   0.09 \\\\\n",
      "Pardon             &   0.05 \\\\\n",
      "\\bottomrule\n",
      "\\end{tabular}\n",
      "\n",
      "\\quad\n",
      "\\begin{tabular}{lr}\n",
      "\\toprule\n",
      "{} &   type \\\\\n",
      "\\midrule\n",
      "Attack             &  35.69 \\\\\n",
      "Transport          &  12.50 \\\\\n",
      "Die                &  11.49 \\\\\n",
      "Transfer-Money     &   9.48 \\\\\n",
      "End-Position       &   6.25 \\\\\n",
      "Meet               &   6.05 \\\\\n",
      "Injure             &   2.82 \\\\\n",
      "Start-Position     &   2.62 \\\\\n",
      "Sue                &   2.42 \\\\\n",
      "Demonstrate        &   1.81 \\\\\n",
      "Appeal             &   1.41 \\\\\n",
      "Convict            &   1.21 \\\\\n",
      "Elect              &   1.01 \\\\\n",
      "Transfer-Ownership &   1.01 \\\\\n",
      "Execute            &   1.01 \\\\\n",
      "Arrest-Jail        &   0.81 \\\\\n",
      "Sentence           &   0.81 \\\\\n",
      "Phone-Write        &   0.60 \\\\\n",
      "Charge-Indict      &   0.40 \\\\\n",
      "Declare-Bankruptcy &   0.20 \\\\\n",
      "End-Org            &   0.20 \\\\\n",
      "Trial-Hearing      &   0.20 \\\\\n",
      "\\bottomrule\n",
      "\\end{tabular}\n",
      "\n",
      "\\quad\n",
      "\\begin{tabular}{lr}\n",
      "\\toprule\n",
      "{} &   type \\\\\n",
      "\\midrule\n",
      "Attack             &  21.93 \\\\\n",
      "Meet               &  11.79 \\\\\n",
      "Transport          &  11.32 \\\\\n",
      "Transfer-Ownership &   7.08 \\\\\n",
      "End-Position       &   5.19 \\\\\n",
      "Start-Org          &   4.25 \\\\\n",
      "Die                &   4.01 \\\\\n",
      "Elect              &   3.77 \\\\\n",
      "Transfer-Money     &   3.30 \\\\\n",
      "Start-Position     &   3.07 \\\\\n",
      "Sentence           &   2.59 \\\\\n",
      "Marry              &   2.36 \\\\\n",
      "Divorce            &   2.12 \\\\\n",
      "Charge-Indict      &   1.89 \\\\\n",
      "Phone-Write        &   1.89 \\\\\n",
      "Demonstrate        &   1.65 \\\\\n",
      "Fine               &   1.42 \\\\\n",
      "Convict            &   1.42 \\\\\n",
      "Appeal             &   1.42 \\\\\n",
      "Arrest-Jail        &   1.42 \\\\\n",
      "Trial-Hearing      &   1.18 \\\\\n",
      "End-Org            &   1.18 \\\\\n",
      "Sue                &   0.94 \\\\\n",
      "Be-Born            &   0.71 \\\\\n",
      "Execute            &   0.47 \\\\\n",
      "Declare-Bankruptcy &   0.47 \\\\\n",
      "Release-Parole     &   0.24 \\\\\n",
      "Injure             &   0.24 \\\\\n",
      "Nominate           &   0.24 \\\\\n",
      "Acquit             &   0.24 \\\\\n",
      "Extradite          &   0.24 \\\\\n",
      "\\bottomrule\n",
      "\\end{tabular}\n",
      "\n"
     ]
    },
    {
     "name": "stderr",
     "output_type": "stream",
     "text": [
      "/tmp/ipykernel_12080/33503938.py:1: FutureWarning: In future versions `DataFrame.to_latex` is expected to utilise the base implementation of `Styler.to_latex` for formatting and rendering. The arguments signature may therefore change. It is recommended instead to use `DataFrame.style.to_latex` which also contains additional functionality.\n",
      "  print((edf['type'].value_counts()/len(edf['type'])*100).round(2).to_latex())\n",
      "/tmp/ipykernel_12080/33503938.py:3: FutureWarning: In future versions `DataFrame.to_latex` is expected to utilise the base implementation of `Styler.to_latex` for formatting and rendering. The arguments signature may therefore change. It is recommended instead to use `DataFrame.style.to_latex` which also contains additional functionality.\n",
      "  print((vedf['type'].value_counts()/len(vedf['type'])*100).round(2).to_latex())\n",
      "/tmp/ipykernel_12080/33503938.py:5: FutureWarning: In future versions `DataFrame.to_latex` is expected to utilise the base implementation of `Styler.to_latex` for formatting and rendering. The arguments signature may therefore change. It is recommended instead to use `DataFrame.style.to_latex` which also contains additional functionality.\n",
      "  print((tedf['type'].value_counts()/len(tedf['type'])*100).round(2).to_latex())\n"
     ]
    }
   ],
   "source": [
    "print((edf['type'].value_counts()/len(edf['type'])*100).round(2).to_latex())\n",
    "print(\"\\\\quad\")\n",
    "print((vedf['type'].value_counts()/len(vedf['type'])*100).round(2).to_latex())\n",
    "print(\"\\\\quad\")\n",
    "print((tedf['type'].value_counts()/len(tedf['type'])*100).round(2).to_latex())"
   ]
  },
  {
   "cell_type": "code",
   "execution_count": 45,
   "id": "7b1f7f38-d92f-4e92-b577-125238909acb",
   "metadata": {},
   "outputs": [
    {
     "name": "stdout",
     "output_type": "stream",
     "text": [
      "\\begin{tabular}{llr}\n",
      "\\toprule\n",
      "        &        &    0 \\\\\n",
      "trigger & type &      \\\\\n",
      "\\midrule\n",
      "war & Attack &  236 \\\\\n",
      "killed & Die &  116 \\\\\n",
      "attack & Attack &   58 \\\\\n",
      "election & Elect &   53 \\\\\n",
      "fighting & Attack &   52 \\\\\n",
      "trial & Trial-Hearing &   49 \\\\\n",
      "died & Die &   49 \\\\\n",
      "meeting & Meet &   46 \\\\\n",
      "death & Die &   44 \\\\\n",
      "attacks & Attack &   42 \\\\\n",
      "\\bottomrule\n",
      "\\end{tabular}\n",
      "\n",
      "\\quad\n",
      "\\begin{tabular}{llr}\n",
      "\\toprule\n",
      "          &         &   0 \\\\\n",
      "trigger & type &     \\\\\n",
      "\\midrule\n",
      "war & Attack &  45 \\\\\n",
      "attacks & Attack &  14 \\\\\n",
      "attack & Attack &  14 \\\\\n",
      "killed & Die &  12 \\\\\n",
      "death & Die &  10 \\\\\n",
      "meeting & Meet &   8 \\\\\n",
      "wounded & Injure &   7 \\\\\n",
      "genocide & Attack &   7 \\\\\n",
      "meetings & Meet &   7 \\\\\n",
      "convicted & Convict &   6 \\\\\n",
      "\\bottomrule\n",
      "\\end{tabular}\n",
      "\n",
      "\\quad\n",
      "\\begin{tabular}{llr}\n",
      "\\toprule\n",
      "         &        &   0 \\\\\n",
      "trigger & type &     \\\\\n",
      "\\midrule\n",
      "war & Attack &  36 \\\\\n",
      "meeting & Meet &  14 \\\\\n",
      "talks & Meet &  11 \\\\\n",
      "summit & Meet &   9 \\\\\n",
      "divorce & Divorce &   8 \\\\\n",
      "sentence & Sentence &   7 \\\\\n",
      "appeal & Appeal &   6 \\\\\n",
      "elections & Elect &   6 \\\\\n",
      "sell & Transfer-Ownership &   5 \\\\\n",
      "invasion & Attack &   4 \\\\\n",
      "\\bottomrule\n",
      "\\end{tabular}\n",
      "\n"
     ]
    },
    {
     "name": "stderr",
     "output_type": "stream",
     "text": [
      "/tmp/ipykernel_12080/1296614489.py:1: FutureWarning: In future versions `DataFrame.to_latex` is expected to utilise the base implementation of `Styler.to_latex` for formatting and rendering. The arguments signature may therefore change. It is recommended instead to use `DataFrame.style.to_latex` which also contains additional functionality.\n",
      "  print(edf.groupby(['trigger', 'type']).size().sort_values(ascending=False)[:10].to_latex())\n",
      "/tmp/ipykernel_12080/1296614489.py:3: FutureWarning: In future versions `DataFrame.to_latex` is expected to utilise the base implementation of `Styler.to_latex` for formatting and rendering. The arguments signature may therefore change. It is recommended instead to use `DataFrame.style.to_latex` which also contains additional functionality.\n",
      "  print(vedf.groupby(['trigger', 'type']).size().sort_values(ascending=False)[:10].to_latex())\n",
      "/tmp/ipykernel_12080/1296614489.py:5: FutureWarning: In future versions `DataFrame.to_latex` is expected to utilise the base implementation of `Styler.to_latex` for formatting and rendering. The arguments signature may therefore change. It is recommended instead to use `DataFrame.style.to_latex` which also contains additional functionality.\n",
      "  print(tedf.groupby(['trigger', 'type']).size().sort_values(ascending=False)[:10].to_latex())\n"
     ]
    }
   ],
   "source": [
    "print(edf.groupby(['trigger', 'type']).size().sort_values(ascending=False)[:10].to_latex())\n",
    "print(\"\\\\quad\")\n",
    "print(vedf.groupby(['trigger', 'type']).size().sort_values(ascending=False)[:10].to_latex())\n",
    "print(\"\\\\quad\")\n",
    "print(tedf.groupby(['trigger', 'type']).size().sort_values(ascending=False)[:10].to_latex())"
   ]
  },
  {
   "cell_type": "code",
   "execution_count": 46,
   "id": "e48348ed-53e3-4e8e-861c-7a3f69c17057",
   "metadata": {},
   "outputs": [],
   "source": [
    "e = set(edf['type'].unique())\n",
    "ve = set(vedf['type'].unique())\n",
    "te = set(tedf['type'].unique())"
   ]
  },
  {
   "cell_type": "code",
   "execution_count": 47,
   "id": "38cc422c-12c5-4a59-9232-f552b34ddbc5",
   "metadata": {},
   "outputs": [
    {
     "name": "stdout",
     "output_type": "stream",
     "text": [
      "\\begin{tabular}{ll}\n",
      "\\toprule\n",
      "{} & Train/Validation types \\\\\n",
      "\\midrule\n",
      "0  &                  Marry \\\\\n",
      "1  &         Release-Parole \\\\\n",
      "2  &              Start-Org \\\\\n",
      "3  &                Divorce \\\\\n",
      "4  &              Merge-Org \\\\\n",
      "5  &                Be-Born \\\\\n",
      "6  &              Extradite \\\\\n",
      "7  &                 Pardon \\\\\n",
      "8  &                   Fine \\\\\n",
      "9  &                 Acquit \\\\\n",
      "10 &               Nominate \\\\\n",
      "\\bottomrule\n",
      "\\end{tabular}\n",
      "\n",
      "\\begin{tabular}{ll}\n",
      "\\toprule\n",
      "{} & Train/Test types \\\\\n",
      "\\midrule\n",
      "0 &           Pardon \\\\\n",
      "1 &        Merge-Org \\\\\n",
      "\\bottomrule\n",
      "\\end{tabular}\n",
      "\n"
     ]
    },
    {
     "name": "stderr",
     "output_type": "stream",
     "text": [
      "/tmp/ipykernel_12080/1891139039.py:1: FutureWarning: In future versions `DataFrame.to_latex` is expected to utilise the base implementation of `Styler.to_latex` for formatting and rendering. The arguments signature may therefore change. It is recommended instead to use `DataFrame.style.to_latex` which also contains additional functionality.\n",
      "  print(pd.DataFrame({\"Train/Validation types\": list(e - ve)}).to_latex())\n",
      "/tmp/ipykernel_12080/1891139039.py:2: FutureWarning: In future versions `DataFrame.to_latex` is expected to utilise the base implementation of `Styler.to_latex` for formatting and rendering. The arguments signature may therefore change. It is recommended instead to use `DataFrame.style.to_latex` which also contains additional functionality.\n",
      "  print(pd.DataFrame({\"Train/Test types\": list(e - te)}).to_latex())\n"
     ]
    }
   ],
   "source": [
    "print(pd.DataFrame({\"Train/Validation types\": list(e - ve)}).to_latex())\n",
    "print(pd.DataFrame({\"Train/Test types\": list(e - te)}).to_latex())"
   ]
  },
  {
   "cell_type": "code",
   "execution_count": 48,
   "id": "669cad69-3033-4e1f-9c30-1833764c3ab5",
   "metadata": {},
   "outputs": [
    {
     "name": "stderr",
     "output_type": "stream",
     "text": [
      "/home/peder/.local/lib/python3.10/site-packages/thinc/compat.py:36: UserWarning: 'has_mps' is deprecated, please use 'torch.backends.mps.is_built()'\n",
      "  hasattr(torch, \"has_mps\")\n",
      "/home/peder/.local/lib/python3.10/site-packages/thinc/compat.py:37: UserWarning: 'has_mps' is deprecated, please use 'torch.backends.mps.is_built()'\n",
      "  and torch.has_mps  # type: ignore[attr-defined]\n",
      "2025-03-26 09:50:02.328496: I tensorflow/tsl/cuda/cudart_stub.cc:28] Could not find cuda drivers on your machine, GPU will not be used.\n",
      "2025-03-26 09:50:02.489709: I tensorflow/core/platform/cpu_feature_guard.cc:182] This TensorFlow binary is optimized to use available CPU instructions in performance-critical operations.\n",
      "To enable the following instructions: AVX2 FMA, in other operations, rebuild TensorFlow with the appropriate compiler flags.\n",
      "2025-03-26 09:50:03.874412: W tensorflow/compiler/tf2tensorrt/utils/py_utils.cc:38] TF-TRT Warning: Could not find TensorRT\n",
      "2025-03-26 09:50:04.873637: I tensorflow/compiler/xla/stream_executor/cuda/cuda_gpu_executor.cc:996] successful NUMA node read from SysFS had negative value (-1), but there must be at least one NUMA node, so returning NUMA node zero. See more at https://github.com/torvalds/linux/blob/v6.0/Documentation/ABI/testing/sysfs-bus-pci#L344-L355\n",
      "2025-03-26 09:50:04.879944: W tensorflow/core/common_runtime/gpu/gpu_device.cc:1956] Cannot dlopen some GPU libraries. Please make sure the missing libraries mentioned above are installed properly if you would like to use GPU. Follow the guide at https://www.tensorflow.org/install/gpu for how to download and setup the required libraries for your platform.\n",
      "Skipping registering GPU devices...\n"
     ]
    }
   ],
   "source": [
    "import spacy\n",
    "nlp = spacy.load(\"en_core_web_sm\")"
   ]
  },
  {
   "cell_type": "code",
   "execution_count": 49,
   "id": "edd26526-a37c-406e-b6d0-f421b059dcdb",
   "metadata": {},
   "outputs": [
    {
     "data": {
      "text/html": [
       "<div>\n",
       "<style scoped>\n",
       "    .dataframe tbody tr th:only-of-type {\n",
       "        vertical-align: middle;\n",
       "    }\n",
       "\n",
       "    .dataframe tbody tr th {\n",
       "        vertical-align: top;\n",
       "    }\n",
       "\n",
       "    .dataframe thead th {\n",
       "        text-align: right;\n",
       "    }\n",
       "</style>\n",
       "<table border=\"1\" class=\"dataframe\">\n",
       "  <thead>\n",
       "    <tr style=\"text-align: right;\">\n",
       "      <th></th>\n",
       "      <th>sent_id</th>\n",
       "      <th>text</th>\n",
       "      <th>type</th>\n",
       "      <th>modality</th>\n",
       "      <th>label</th>\n",
       "      <th>polarity</th>\n",
       "      <th>genericity</th>\n",
       "      <th>trigger</th>\n",
       "      <th>trigger_idx</th>\n",
       "      <th>arguments</th>\n",
       "      <th>factuality</th>\n",
       "    </tr>\n",
       "  </thead>\n",
       "  <tbody>\n",
       "    <tr>\n",
       "      <th>0</th>\n",
       "      <td>bc/CNN_IP_20030329.1600.02/001</td>\n",
       "      <td>It was in northern Iraq today that an eight ar...</td>\n",
       "      <td>Attack</td>\n",
       "      <td>Asserted</td>\n",
       "      <td>1</td>\n",
       "      <td>Positive</td>\n",
       "      <td>Specific</td>\n",
       "      <td>hit</td>\n",
       "      <td>60:63</td>\n",
       "      <td>[[[northern Iraq], [10:23], Place], [[today], ...</td>\n",
       "      <td>Asserted+</td>\n",
       "    </tr>\n",
       "    <tr>\n",
       "      <th>1</th>\n",
       "      <td>bc/CNN_IP_20030329.1600.02/002</td>\n",
       "      <td>A day ago it was controlled by Iraqi troops an...</td>\n",
       "      <td>Transport</td>\n",
       "      <td>Asserted</td>\n",
       "      <td>1</td>\n",
       "      <td>Positive</td>\n",
       "      <td>Specific</td>\n",
       "      <td>drive</td>\n",
       "      <td>92:97</td>\n",
       "      <td>[[[it], [10:12], Destination], [[now], [81:84]...</td>\n",
       "      <td>Asserted+</td>\n",
       "    </tr>\n",
       "    <tr>\n",
       "      <th>2</th>\n",
       "      <td>bc/CNN_IP_20030329.1600.02/003</td>\n",
       "      <td>That 's because coalition fighter jets pummele...</td>\n",
       "      <td>Attack</td>\n",
       "      <td>Asserted</td>\n",
       "      <td>1</td>\n",
       "      <td>Positive</td>\n",
       "      <td>Specific</td>\n",
       "      <td>pummeled</td>\n",
       "      <td>39:47</td>\n",
       "      <td>[[[coalition fighter jets], [16:38], Instrumen...</td>\n",
       "      <td>Asserted+</td>\n",
       "    </tr>\n",
       "    <tr>\n",
       "      <th>3</th>\n",
       "      <td>bc/CNN_IP_20030329.1600.02/003</td>\n",
       "      <td>That 's because coalition fighter jets pummele...</td>\n",
       "      <td>Transport</td>\n",
       "      <td>Asserted</td>\n",
       "      <td>1</td>\n",
       "      <td>Positive</td>\n",
       "      <td>Specific</td>\n",
       "      <td>retreat</td>\n",
       "      <td>128:135</td>\n",
       "      <td>[[[the hills above Chamchamal], [71:97], Origi...</td>\n",
       "      <td>Asserted+</td>\n",
       "    </tr>\n",
       "    <tr>\n",
       "      <th>4</th>\n",
       "      <td>bc/CNN_IP_20030329.1600.02/004</td>\n",
       "      <td>I 'm glad to see them go this one says</td>\n",
       "      <td>Transport</td>\n",
       "      <td>Asserted</td>\n",
       "      <td>1</td>\n",
       "      <td>Positive</td>\n",
       "      <td>Specific</td>\n",
       "      <td>go</td>\n",
       "      <td>22:24</td>\n",
       "      <td>[[[them], [17:21], Artifact]]</td>\n",
       "      <td>Asserted+</td>\n",
       "    </tr>\n",
       "    <tr>\n",
       "      <th>...</th>\n",
       "      <td>...</td>\n",
       "      <td>...</td>\n",
       "      <td>...</td>\n",
       "      <td>...</td>\n",
       "      <td>...</td>\n",
       "      <td>...</td>\n",
       "      <td>...</td>\n",
       "      <td>...</td>\n",
       "      <td>...</td>\n",
       "      <td>...</td>\n",
       "      <td>...</td>\n",
       "    </tr>\n",
       "    <tr>\n",
       "      <th>4256</th>\n",
       "      <td>wl/MARKBACKER_20050217.0647/002</td>\n",
       "      <td>That means no team would own any player , and ...</td>\n",
       "      <td>Start-Position</td>\n",
       "      <td>Other</td>\n",
       "      <td>0</td>\n",
       "      <td>Positive</td>\n",
       "      <td>Generic</td>\n",
       "      <td>sign</td>\n",
       "      <td>74:78</td>\n",
       "      <td>[[[whomever they 'd like], [79:100], Person]]</td>\n",
       "      <td>Other</td>\n",
       "    </tr>\n",
       "    <tr>\n",
       "      <th>4257</th>\n",
       "      <td>wl/MARKBACKER_20041206.0733/001</td>\n",
       "      <td>A year ago , the program was in disarray and t...</td>\n",
       "      <td>End-Position</td>\n",
       "      <td>Other</td>\n",
       "      <td>0</td>\n",
       "      <td>Positive</td>\n",
       "      <td>Specific</td>\n",
       "      <td>fired</td>\n",
       "      <td>106:111</td>\n",
       "      <td>[[[A year ago], [0:10], Time-Within], [[the pr...</td>\n",
       "      <td>Other</td>\n",
       "    </tr>\n",
       "    <tr>\n",
       "      <th>4258</th>\n",
       "      <td>wl/MARKBACKER_20041206.0733/002</td>\n",
       "      <td>This despite several late hits to the head , l...</td>\n",
       "      <td>Attack</td>\n",
       "      <td>Asserted</td>\n",
       "      <td>1</td>\n",
       "      <td>Positive</td>\n",
       "      <td>Specific</td>\n",
       "      <td>hits</td>\n",
       "      <td>26:30</td>\n",
       "      <td>[[[his], [57:60], Target]]</td>\n",
       "      <td>Asserted+</td>\n",
       "    </tr>\n",
       "    <tr>\n",
       "      <th>4259</th>\n",
       "      <td>wl/MARKBACKER_20041206.0733/002</td>\n",
       "      <td>This despite several late hits to the head , l...</td>\n",
       "      <td>Attack</td>\n",
       "      <td>Asserted</td>\n",
       "      <td>1</td>\n",
       "      <td>Positive</td>\n",
       "      <td>Specific</td>\n",
       "      <td>hits</td>\n",
       "      <td>49:53</td>\n",
       "      <td>[[[his], [57:60], Target]]</td>\n",
       "      <td>Asserted+</td>\n",
       "    </tr>\n",
       "    <tr>\n",
       "      <th>4260</th>\n",
       "      <td>wl/MARKBACKER_20041206.0733/002</td>\n",
       "      <td>This despite several late hits to the head , l...</td>\n",
       "      <td>Attack</td>\n",
       "      <td>Asserted</td>\n",
       "      <td>1</td>\n",
       "      <td>Positive</td>\n",
       "      <td>Specific</td>\n",
       "      <td>assaults</td>\n",
       "      <td>98:106</td>\n",
       "      <td>[[[his], [57:60], Target]]</td>\n",
       "      <td>Asserted+</td>\n",
       "    </tr>\n",
       "  </tbody>\n",
       "</table>\n",
       "<p>4261 rows × 11 columns</p>\n",
       "</div>"
      ],
      "text/plain": [
       "                              sent_id  \\\n",
       "0      bc/CNN_IP_20030329.1600.02/001   \n",
       "1      bc/CNN_IP_20030329.1600.02/002   \n",
       "2      bc/CNN_IP_20030329.1600.02/003   \n",
       "3      bc/CNN_IP_20030329.1600.02/003   \n",
       "4      bc/CNN_IP_20030329.1600.02/004   \n",
       "...                               ...   \n",
       "4256  wl/MARKBACKER_20050217.0647/002   \n",
       "4257  wl/MARKBACKER_20041206.0733/001   \n",
       "4258  wl/MARKBACKER_20041206.0733/002   \n",
       "4259  wl/MARKBACKER_20041206.0733/002   \n",
       "4260  wl/MARKBACKER_20041206.0733/002   \n",
       "\n",
       "                                                   text            type  \\\n",
       "0     It was in northern Iraq today that an eight ar...          Attack   \n",
       "1     A day ago it was controlled by Iraqi troops an...       Transport   \n",
       "2     That 's because coalition fighter jets pummele...          Attack   \n",
       "3     That 's because coalition fighter jets pummele...       Transport   \n",
       "4                I 'm glad to see them go this one says       Transport   \n",
       "...                                                 ...             ...   \n",
       "4256  That means no team would own any player , and ...  Start-Position   \n",
       "4257  A year ago , the program was in disarray and t...    End-Position   \n",
       "4258  This despite several late hits to the head , l...          Attack   \n",
       "4259  This despite several late hits to the head , l...          Attack   \n",
       "4260  This despite several late hits to the head , l...          Attack   \n",
       "\n",
       "      modality  label  polarity genericity   trigger trigger_idx  \\\n",
       "0     Asserted      1  Positive   Specific       hit       60:63   \n",
       "1     Asserted      1  Positive   Specific     drive       92:97   \n",
       "2     Asserted      1  Positive   Specific  pummeled       39:47   \n",
       "3     Asserted      1  Positive   Specific   retreat     128:135   \n",
       "4     Asserted      1  Positive   Specific        go       22:24   \n",
       "...        ...    ...       ...        ...       ...         ...   \n",
       "4256     Other      0  Positive    Generic      sign       74:78   \n",
       "4257     Other      0  Positive   Specific     fired     106:111   \n",
       "4258  Asserted      1  Positive   Specific      hits       26:30   \n",
       "4259  Asserted      1  Positive   Specific      hits       49:53   \n",
       "4260  Asserted      1  Positive   Specific  assaults      98:106   \n",
       "\n",
       "                                              arguments factuality  \n",
       "0     [[[northern Iraq], [10:23], Place], [[today], ...  Asserted+  \n",
       "1     [[[it], [10:12], Destination], [[now], [81:84]...  Asserted+  \n",
       "2     [[[coalition fighter jets], [16:38], Instrumen...  Asserted+  \n",
       "3     [[[the hills above Chamchamal], [71:97], Origi...  Asserted+  \n",
       "4                         [[[them], [17:21], Artifact]]  Asserted+  \n",
       "...                                                 ...        ...  \n",
       "4256      [[[whomever they 'd like], [79:100], Person]]      Other  \n",
       "4257  [[[A year ago], [0:10], Time-Within], [[the pr...      Other  \n",
       "4258                         [[[his], [57:60], Target]]  Asserted+  \n",
       "4259                         [[[his], [57:60], Target]]  Asserted+  \n",
       "4260                         [[[his], [57:60], Target]]  Asserted+  \n",
       "\n",
       "[4261 rows x 11 columns]"
      ]
     },
     "execution_count": 49,
     "metadata": {},
     "output_type": "execute_result"
    }
   ],
   "source": [
    "edf"
   ]
  },
  {
   "cell_type": "code",
   "execution_count": 246,
   "id": "814997d8-6b40-4264-a5e0-e2bc8181badc",
   "metadata": {},
   "outputs": [],
   "source": [
    "\n",
    "def get_trigger_pos(text, trigger, trigger_offset):\n",
    "    \"\"\"\n",
    "    Get the POS tag for a trigger word at a specific offset in text\n",
    "    \n",
    "    Args:\n",
    "        text: The full text string\n",
    "        trigger: The trigger word/phrase\n",
    "        trigger_offset: The character offset of the trigger in the text\n",
    "    \n",
    "    Returns:\n",
    "        The POS tag of the trigger\n",
    "    \"\"\"\n",
    "    # Process the text with spaCy\n",
    "    doc = nlp(text)\n",
    "    \n",
    "    # Calculate the span of the trigger\n",
    "    trigger_start = int(trigger_offset.split(\":\")[0])\n",
    "    trigger_end = int(trigger_offset.split(\":\")[1])\n",
    "    \n",
    "    # Find the token that overlaps with the trigger\n",
    "    trigger_token = None\n",
    "    for token in doc:\n",
    "        # Check if this token overlaps with our trigger\n",
    "        token_start = token.idx\n",
    "        token_end = token.idx + len(token.text)\n",
    "        \n",
    "        # If there's an overlap and it's the main token (in case trigger has multiple tokens)\n",
    "        if (token_start <= trigger_start < token_end) or (token_start < trigger_end <= token_end) or \\\n",
    "           (trigger_start <= token_start and token_end <= trigger_end):\n",
    "            trigger_token = token\n",
    "            break\n",
    "    \n",
    "    char_span = doc.char_span(trigger_start, trigger_end)\n",
    "    i = 0\n",
    "    pos = \"\"\n",
    "    for token in char_span:\n",
    "        if i == 0:\n",
    "            pos += token.pos_\n",
    "        i += 1\n",
    "    if i > 1:\n",
    "        pos = 'COMPLEX'\n",
    "\n",
    "    return pos\n",
    "            \n",
    "\n",
    "def add_pos_column(df):\n",
    "    df['trigger_pos'] = df.apply(\n",
    "        lambda row: get_trigger_pos(\n",
    "            row['text'], \n",
    "            row['trigger'], \n",
    "            row['trigger_idx']\n",
    "        ), \n",
    "        axis=1\n",
    "    )\n",
    "    return df\n",
    "\n",
    "edf = add_pos_column(edf)\n",
    "vedf = add_pos_column(vedf)\n",
    "tedf = add_pos_column(tedf)"
   ]
  },
  {
   "cell_type": "code",
   "execution_count": 51,
   "id": "673ce7ce-2918-4cb9-bdc4-cf7da4454439",
   "metadata": {},
   "outputs": [
    {
     "data": {
      "text/plain": [
       "'when'"
      ]
     },
     "execution_count": 51,
     "metadata": {},
     "output_type": "execute_result"
    }
   ],
   "source": [
    "edf[(edf['trigger_pos'] == 'PART') | (edf['trigger_pos'] == \"SCONJ\")].iloc[1].trigger"
   ]
  },
  {
   "cell_type": "code",
   "execution_count": 52,
   "id": "031b9fc4-e14c-493b-a718-dcfa7b262173",
   "metadata": {},
   "outputs": [],
   "source": [
    "import statsmodels.api as sm\n",
    "import statsmodels.formula.api as smf"
   ]
  },
  {
   "cell_type": "code",
   "execution_count": 53,
   "id": "6ab3b79c-a4a0-4c6a-b6ff-51d2b1fad429",
   "metadata": {},
   "outputs": [],
   "source": [
    "edf['predicted'] = (edf['modality'] == 'Asserted').astype(int)"
   ]
  },
  {
   "cell_type": "code",
   "execution_count": 54,
   "id": "47f4a37e-7228-4d08-94cc-ab1efcaa5641",
   "metadata": {},
   "outputs": [],
   "source": [
    "vedf['predicted'] = (vedf['modality'] == 'Asserted').astype(int)"
   ]
  },
  {
   "cell_type": "code",
   "execution_count": 247,
   "id": "ca15b6f6-1528-4cf9-9bc8-f698898cea9e",
   "metadata": {},
   "outputs": [
    {
     "name": "stdout",
     "output_type": "stream",
     "text": [
      "\\begin{tabular}{lr}\n",
      "\\toprule\n",
      "{} &  trigger\\_pos \\\\\n",
      "\\midrule\n",
      "VERB    &         1964 \\\\\n",
      "NOUN    &         1814 \\\\\n",
      "COMPLEX &          238 \\\\\n",
      "ADJ     &          102 \\\\\n",
      "PRON    &           60 \\\\\n",
      "PROPN   &           47 \\\\\n",
      "AUX     &           16 \\\\\n",
      "ADV     &           13 \\\\\n",
      "ADP     &            4 \\\\\n",
      "NUM     &            2 \\\\\n",
      "SCONJ   &            1 \\\\\n",
      "\\bottomrule\n",
      "\\end{tabular}\n",
      "\n",
      "\\begin{tabular}{lr}\n",
      "\\toprule\n",
      "{} &  trigger\\_pos \\\\\n",
      "\\midrule\n",
      "NOUN    &          238 \\\\\n",
      "VERB    &          214 \\\\\n",
      "COMPLEX &           19 \\\\\n",
      "ADJ     &           12 \\\\\n",
      "PRON    &            7 \\\\\n",
      "PROPN   &            4 \\\\\n",
      "AUX     &            1 \\\\\n",
      "ADV     &            1 \\\\\n",
      "\\bottomrule\n",
      "\\end{tabular}\n",
      "\n",
      "\\begin{tabular}{lr}\n",
      "\\toprule\n",
      "{} &  trigger\\_pos \\\\\n",
      "\\midrule\n",
      "NOUN    &          209 \\\\\n",
      "VERB    &          175 \\\\\n",
      "COMPLEX &           26 \\\\\n",
      "ADJ     &            8 \\\\\n",
      "PRON    &            2 \\\\\n",
      "PROPN   &            2 \\\\\n",
      "ADV     &            2 \\\\\n",
      "\\bottomrule\n",
      "\\end{tabular}\n",
      "\n"
     ]
    },
    {
     "name": "stderr",
     "output_type": "stream",
     "text": [
      "/tmp/ipykernel_12080/2362794772.py:1: FutureWarning: In future versions `DataFrame.to_latex` is expected to utilise the base implementation of `Styler.to_latex` for formatting and rendering. The arguments signature may therefore change. It is recommended instead to use `DataFrame.style.to_latex` which also contains additional functionality.\n",
      "  print(edf.trigger_pos.value_counts().to_latex())\n",
      "/tmp/ipykernel_12080/2362794772.py:2: FutureWarning: In future versions `DataFrame.to_latex` is expected to utilise the base implementation of `Styler.to_latex` for formatting and rendering. The arguments signature may therefore change. It is recommended instead to use `DataFrame.style.to_latex` which also contains additional functionality.\n",
      "  print(vedf.trigger_pos.value_counts().to_latex())\n",
      "/tmp/ipykernel_12080/2362794772.py:3: FutureWarning: In future versions `DataFrame.to_latex` is expected to utilise the base implementation of `Styler.to_latex` for formatting and rendering. The arguments signature may therefore change. It is recommended instead to use `DataFrame.style.to_latex` which also contains additional functionality.\n",
      "  print(tedf.trigger_pos.value_counts().to_latex())\n"
     ]
    }
   ],
   "source": [
    "print(edf.trigger_pos.value_counts().to_latex())\n",
    "print(vedf.trigger_pos.value_counts().to_latex())\n",
    "print(tedf.trigger_pos.value_counts().to_latex())"
   ]
  },
  {
   "cell_type": "code",
   "execution_count": 56,
   "id": "a7733c78-0749-417a-a992-2ca02a0529a9",
   "metadata": {},
   "outputs": [
    {
     "data": {
      "text/plain": [
       "trigger_pos  modality\n",
       "ADJ          Asserted      97\n",
       "             Other         24\n",
       "ADP          Asserted       3\n",
       "             Other          2\n",
       "ADV          Asserted      12\n",
       "             Other          2\n",
       "AUX          Asserted      16\n",
       "             Other          5\n",
       "DET          Asserted       4\n",
       "NOUN         Asserted    1406\n",
       "             Other        432\n",
       "NUM          Asserted      12\n",
       "PART         Asserted       1\n",
       "PRON         Asserted      50\n",
       "             Other         11\n",
       "PROPN        Asserted      52\n",
       "             Other         10\n",
       "SCONJ        Asserted       1\n",
       "VERB         Asserted    1562\n",
       "             Other        559\n",
       "dtype: int64"
      ]
     },
     "execution_count": 56,
     "metadata": {},
     "output_type": "execute_result"
    }
   ],
   "source": [
    "edf.groupby(['trigger_pos', 'modality']).size()"
   ]
  },
  {
   "cell_type": "code",
   "execution_count": 57,
   "id": "73bf0562-02c8-45f3-b1ca-56df46521c46",
   "metadata": {},
   "outputs": [],
   "source": [
    "from sklearn.metrics import classification_report, confusion_matrix, f1_score, precision_score, recall_score"
   ]
  },
  {
   "cell_type": "code",
   "execution_count": 217,
   "id": "88e2fe0e-40ef-4b68-a1f3-faa05646067b",
   "metadata": {},
   "outputs": [],
   "source": [
    "all_arguments = []\n",
    "cdf = pd.concat([edf, vedf, tedf])\n",
    "for i in range(len(cdf)):\n",
    "    arguments = cdf['arguments'].iloc[i]\n",
    "    doc = nlp(cdf['text'].iloc[i])\n",
    "    \n",
    "    \n",
    "    for argument in arguments:\n",
    "        idx = argument[1][0]\n",
    "        trigger_start = int(idx.split(\":\")[0])\n",
    "        trigger_end = int(idx.split(\":\")[1])\n",
    "        \n",
    "        trigger_token = None\n",
    "        for token in doc:\n",
    "            token_start = token.idx\n",
    "            token_end = token.idx + len(token.text)\n",
    "            \n",
    "            if (token_start <= trigger_start < token_end) or (token_start < trigger_end <= token_end) or \\\n",
    "               (trigger_start <= token_start and token_end <= trigger_end):\n",
    "                trigger_token = token\n",
    "                break\n",
    "        \n",
    "        char_span = doc.char_span(trigger_start, trigger_end)\n",
    "        if char_span:\n",
    "            i = 0\n",
    "            for word in char_span:\n",
    "                pos = word.pos_\n",
    "                i += 1\n",
    "            if i > 1:\n",
    "                pos = \"COMPLEX\"\n",
    "\n",
    "        form = {\"argument\": argument[0][0],\n",
    "                \"idx\": idx,\n",
    "                \"role\": argument[2],\n",
    "                \"pos\": pos,\n",
    "                \"len\": len(arguments),\n",
    "                \"trigger\": cdf['trigger'].iloc[i],\n",
    "                \"type\": cdf['type'].iloc[i],\n",
    "                \"modality\": cdf['modality'].iloc[i]}\n",
    "        all_arguments.append(form)\n",
    "        "
   ]
  },
  {
   "cell_type": "code",
   "execution_count": 218,
   "id": "9f6169d7-8290-4f78-93d3-9fb0f16cf151",
   "metadata": {},
   "outputs": [],
   "source": [
    "df = pd.DataFrame(all_arguments)"
   ]
  },
  {
   "cell_type": "code",
   "execution_count": 219,
   "id": "ee545f28-71e7-4816-be9b-4895255dc179",
   "metadata": {},
   "outputs": [],
   "source": [
    "x = df.explode('pos')"
   ]
  },
  {
   "cell_type": "code",
   "execution_count": 221,
   "id": "b1fe5d14-1406-4c06-9747-579a0e3d65f0",
   "metadata": {},
   "outputs": [
    {
     "name": "stdout",
     "output_type": "stream",
     "text": [
      "\\begin{tabular}{lr}\n",
      "\\toprule\n",
      "{} &   pos \\\\\n",
      "\\midrule\n",
      "COMPLEX &  5509 \\\\\n",
      "PROPN   &  1579 \\\\\n",
      "PRON    &  1333 \\\\\n",
      "NOUN    &   671 \\\\\n",
      "ADV     &   143 \\\\\n",
      "NUM     &   134 \\\\\n",
      "ADJ     &   119 \\\\\n",
      "VERB    &    14 \\\\\n",
      "SCONJ   &    12 \\\\\n",
      "PUNCT   &     2 \\\\\n",
      "ADP     &     2 \\\\\n",
      "DET     &     2 \\\\\n",
      "AUX     &     1 \\\\\n",
      "\\bottomrule\n",
      "\\end{tabular}\n",
      "\n"
     ]
    },
    {
     "name": "stderr",
     "output_type": "stream",
     "text": [
      "/tmp/ipykernel_12080/1219982384.py:1: FutureWarning: In future versions `DataFrame.to_latex` is expected to utilise the base implementation of `Styler.to_latex` for formatting and rendering. The arguments signature may therefore change. It is recommended instead to use `DataFrame.style.to_latex` which also contains additional functionality.\n",
      "  print(x.pos.value_counts().to_latex())\n"
     ]
    }
   ],
   "source": [
    "print(x.pos.value_counts().to_latex())"
   ]
  },
  {
   "cell_type": "code",
   "execution_count": 62,
   "id": "f626046b-c35f-4708-8934-99eabe4fa0d7",
   "metadata": {},
   "outputs": [
    {
     "data": {
      "text/plain": [
       "role         modality\n",
       "Adjudicator  Asserted     76\n",
       "             Other        26\n",
       "Agent        Asserted    319\n",
       "             Other       104\n",
       "Artifact     Asserted    506\n",
       "                        ... \n",
       "Time-Within  Other        90\n",
       "Vehicle      Asserted     68\n",
       "             Other        17\n",
       "Victim       Asserted    522\n",
       "             Other        86\n",
       "Length: 70, dtype: int64"
      ]
     },
     "execution_count": 62,
     "metadata": {},
     "output_type": "execute_result"
    }
   ],
   "source": [
    "df.groupby([\"role\", \"modality\"]).size()"
   ]
  },
  {
   "cell_type": "code",
   "execution_count": 63,
   "id": "38a49370-35eb-4631-aca4-3b067eacc5fe",
   "metadata": {},
   "outputs": [],
   "source": [
    "edf['argument_len'] = edf['arguments'].apply(len)\n",
    "vedf['argument_len'] = vedf['arguments'].apply(len)\n",
    "tedf['argument_len'] = tedf['arguments'].apply(len)"
   ]
  },
  {
   "cell_type": "code",
   "execution_count": 64,
   "id": "b7e7c140-83fe-4758-b174-da33065731ab",
   "metadata": {},
   "outputs": [
    {
     "data": {
      "text/plain": [
       "1.3013202309325493"
      ]
     },
     "execution_count": 64,
     "metadata": {},
     "output_type": "execute_result"
    }
   ],
   "source": [
    "vedf['argument_len'].std()"
   ]
  },
  {
   "cell_type": "code",
   "execution_count": 65,
   "id": "44bb2097-fb0a-40fc-a51d-eb6c1a81d762",
   "metadata": {},
   "outputs": [
    {
     "data": {
      "text/plain": [
       "1.2256325730347446"
      ]
     },
     "execution_count": 65,
     "metadata": {},
     "output_type": "execute_result"
    }
   ],
   "source": [
    "edf['argument_len'].std()"
   ]
  },
  {
   "cell_type": "code",
   "execution_count": 66,
   "id": "e626517f-51b7-4016-b679-ef2e67186def",
   "metadata": {},
   "outputs": [
    {
     "data": {
      "text/plain": [
       "2.0"
      ]
     },
     "execution_count": 66,
     "metadata": {},
     "output_type": "execute_result"
    }
   ],
   "source": [
    "edf['argument_len'].median()"
   ]
  },
  {
   "cell_type": "code",
   "execution_count": 67,
   "id": "fd423911-1721-47a7-a392-668ba7e934a2",
   "metadata": {},
   "outputs": [
    {
     "data": {
      "text/plain": [
       "2.0"
      ]
     },
     "execution_count": 67,
     "metadata": {},
     "output_type": "execute_result"
    }
   ],
   "source": [
    "vedf['argument_len'].median()"
   ]
  },
  {
   "cell_type": "code",
   "execution_count": 68,
   "id": "1c0dbdcd-3ce2-4b62-a9bd-008e26bf154e",
   "metadata": {},
   "outputs": [
    {
     "data": {
      "text/plain": [
       "<AxesSubplot: >"
      ]
     },
     "execution_count": 68,
     "metadata": {},
     "output_type": "execute_result"
    },
    {
     "data": {
      "image/png": "[encoded data removed]",
      "text/plain": [
       "<Figure size 640x480 with 1 Axes>"
      ]
     },
     "metadata": {},
     "output_type": "display_data"
    }
   ],
   "source": [
    "edf['argument_len'].hist(bins=11)"
   ]
  },
  {
   "cell_type": "code",
   "execution_count": 133,
   "id": "a2fe3a00-2bca-49db-904b-81788c7a35e6",
   "metadata": {},
   "outputs": [
    {
     "name": "stdout",
     "output_type": "stream",
     "text": [
      "\\begin{tabular}{lr}\n",
      "\\toprule\n",
      "{} &  argument\\_len \\\\\n",
      "\\midrule\n",
      "2  &          1367 \\\\\n",
      "1  &          1199 \\\\\n",
      "3  &           740 \\\\\n",
      "0  &           601 \\\\\n",
      "4  &           267 \\\\\n",
      "5  &            66 \\\\\n",
      "6  &            11 \\\\\n",
      "7  &             5 \\\\\n",
      "8  &             3 \\\\\n",
      "10 &             1 \\\\\n",
      "11 &             1 \\\\\n",
      "\\bottomrule\n",
      "\\end{tabular}\n",
      "\n",
      "\\quad\n",
      "\\begin{tabular}{lr}\n",
      "\\toprule\n",
      "{} &  argument\\_len \\\\\n",
      "\\midrule\n",
      "1 &           138 \\\\\n",
      "2 &           135 \\\\\n",
      "3 &            98 \\\\\n",
      "0 &            73 \\\\\n",
      "4 &            37 \\\\\n",
      "5 &            10 \\\\\n",
      "6 &             5 \\\\\n",
      "\\bottomrule\n",
      "\\end{tabular}\n",
      "\n"
     ]
    },
    {
     "name": "stderr",
     "output_type": "stream",
     "text": [
      "/tmp/ipykernel_12080/3292052419.py:1: FutureWarning: In future versions `DataFrame.to_latex` is expected to utilise the base implementation of `Styler.to_latex` for formatting and rendering. The arguments signature may therefore change. It is recommended instead to use `DataFrame.style.to_latex` which also contains additional functionality.\n",
      "  print(edf.argument_len.value_counts().to_latex())\n",
      "/tmp/ipykernel_12080/3292052419.py:3: FutureWarning: In future versions `DataFrame.to_latex` is expected to utilise the base implementation of `Styler.to_latex` for formatting and rendering. The arguments signature may therefore change. It is recommended instead to use `DataFrame.style.to_latex` which also contains additional functionality.\n",
      "  print(vedf.argument_len.value_counts().to_latex())\n"
     ]
    }
   ],
   "source": [
    "print(edf.argument_len.value_counts().to_latex())\n",
    "print(\"\\\\quad\")\n",
    "print(vedf.argument_len.value_counts().to_latex())"
   ]
  },
  {
   "cell_type": "code",
   "execution_count": 101,
   "id": "6217cd53-dcbd-4cb8-ab3b-64a71220edd0",
   "metadata": {},
   "outputs": [
    {
     "data": {
      "text/plain": [
       "'bombardment of baghdad continues tonight and over the past 20 minutes , explosions rocking baghdad , central baghdad southern baghdad , the outskirts of baghdad , and importantly , as the coalition forces , principally u.s. army forces , move against saddam hussein international airport -- which is about ten miles outside the center of baghdad -- those explosions are intensifies'"
      ]
     },
     "execution_count": 101,
     "metadata": {},
     "output_type": "execute_result"
    }
   ],
   "source": [
    "edf[edf.argument_len == 10].iloc[0]['text']"
   ]
  },
  {
   "cell_type": "code",
   "execution_count": 102,
   "id": "e0348ff4-1642-4778-94d9-7c9e4807c5d9",
   "metadata": {},
   "outputs": [
    {
     "data": {
      "text/plain": [
       "[[['baghdad'], ['15:22'], 'Place'],\n",
       " [['tonight'], ['33:40'], 'Time-Within'],\n",
       " [['the past 20 minutes'], ['50:69'], 'Time-Holds'],\n",
       " [['central baghdad'], ['101:116'], 'Target'],\n",
       " [['southern baghdad'], ['117:133'], 'Target'],\n",
       " [['the outskirts of baghdad'], ['136:160'], 'Target'],\n",
       " [['the coalition forces'], ['184:204'], 'Attacker'],\n",
       " [['u.s. army forces'], ['219:235'], 'Attacker'],\n",
       " [['u.s. army'], ['219:228'], 'Attacker'],\n",
       " [['saddam hussein international airport -- which is about ten miles outside the center of baghdad'],\n",
       "  ['251:345'],\n",
       "  'Target']]"
      ]
     },
     "execution_count": 102,
     "metadata": {},
     "output_type": "execute_result"
    }
   ],
   "source": [
    "edf[edf.argument_len == 10].iloc[0]['arguments']"
   ]
  },
  {
   "cell_type": "code",
   "execution_count": 103,
   "id": "0e5e54df-745a-4a71-bf0f-bc7dbd1c2f89",
   "metadata": {},
   "outputs": [
    {
     "data": {
      "text/plain": [
       "'Attack'"
      ]
     },
     "execution_count": 103,
     "metadata": {},
     "output_type": "execute_result"
    }
   ],
   "source": [
    "edf[edf.argument_len == 10].iloc[0]['type']"
   ]
  },
  {
   "cell_type": "code",
   "execution_count": 73,
   "id": "09c96ade-a4db-41ba-a259-e52c1fc03ec9",
   "metadata": {},
   "outputs": [
    {
     "data": {
      "text/html": [
       "<div>\n",
       "<style scoped>\n",
       "    .dataframe tbody tr th:only-of-type {\n",
       "        vertical-align: middle;\n",
       "    }\n",
       "\n",
       "    .dataframe tbody tr th {\n",
       "        vertical-align: top;\n",
       "    }\n",
       "\n",
       "    .dataframe thead th {\n",
       "        text-align: right;\n",
       "    }\n",
       "</style>\n",
       "<table border=\"1\" class=\"dataframe\">\n",
       "  <thead>\n",
       "    <tr style=\"text-align: right;\">\n",
       "      <th></th>\n",
       "      <th>argument</th>\n",
       "      <th>idx</th>\n",
       "      <th>role</th>\n",
       "      <th>pos</th>\n",
       "      <th>dep</th>\n",
       "      <th>len</th>\n",
       "      <th>trigger</th>\n",
       "      <th>type</th>\n",
       "      <th>modality</th>\n",
       "    </tr>\n",
       "  </thead>\n",
       "  <tbody>\n",
       "    <tr>\n",
       "      <th>0</th>\n",
       "      <td>northern Iraq</td>\n",
       "      <td>10:23</td>\n",
       "      <td>Place</td>\n",
       "      <td>ADJ</td>\n",
       "      <td>amod</td>\n",
       "      <td>4</td>\n",
       "      <td>hit</td>\n",
       "      <td>Attack</td>\n",
       "      <td>Asserted</td>\n",
       "    </tr>\n",
       "    <tr>\n",
       "      <th>1</th>\n",
       "      <td>today</td>\n",
       "      <td>24:29</td>\n",
       "      <td>Time-Within</td>\n",
       "      <td>NOUN</td>\n",
       "      <td>npadvmod</td>\n",
       "      <td>4</td>\n",
       "      <td>hit</td>\n",
       "      <td>Attack</td>\n",
       "      <td>Asserted</td>\n",
       "    </tr>\n",
       "    <tr>\n",
       "      <th>2</th>\n",
       "      <td>an eight artillery round</td>\n",
       "      <td>35:59</td>\n",
       "      <td>Instrument</td>\n",
       "      <td>DET</td>\n",
       "      <td>det</td>\n",
       "      <td>4</td>\n",
       "      <td>hit</td>\n",
       "      <td>Attack</td>\n",
       "      <td>Asserted</td>\n",
       "    </tr>\n",
       "    <tr>\n",
       "      <th>3</th>\n",
       "      <td>the site occupied by Kurdish fighters near Cha...</td>\n",
       "      <td>64:117</td>\n",
       "      <td>Target</td>\n",
       "      <td>DET</td>\n",
       "      <td>det</td>\n",
       "      <td>4</td>\n",
       "      <td>hit</td>\n",
       "      <td>Attack</td>\n",
       "      <td>Asserted</td>\n",
       "    </tr>\n",
       "    <tr>\n",
       "      <th>4</th>\n",
       "      <td>it</td>\n",
       "      <td>10:12</td>\n",
       "      <td>Destination</td>\n",
       "      <td>PRON</td>\n",
       "      <td>nsubjpass</td>\n",
       "      <td>3</td>\n",
       "      <td>drive</td>\n",
       "      <td>Transport</td>\n",
       "      <td>Asserted</td>\n",
       "    </tr>\n",
       "    <tr>\n",
       "      <th>...</th>\n",
       "      <td>...</td>\n",
       "      <td>...</td>\n",
       "      <td>...</td>\n",
       "      <td>...</td>\n",
       "      <td>...</td>\n",
       "      <td>...</td>\n",
       "      <td>...</td>\n",
       "      <td>...</td>\n",
       "      <td>...</td>\n",
       "    </tr>\n",
       "    <tr>\n",
       "      <th>9516</th>\n",
       "      <td>Bankrupt energy giant Enron Corp</td>\n",
       "      <td>0:32</td>\n",
       "      <td>Org</td>\n",
       "      <td>ADJ</td>\n",
       "      <td>amod</td>\n",
       "      <td>1</td>\n",
       "      <td>Bankrupt</td>\n",
       "      <td>Declare-Bankruptcy</td>\n",
       "      <td>Asserted</td>\n",
       "    </tr>\n",
       "    <tr>\n",
       "      <th>9517</th>\n",
       "      <td>Bankrupt energy giant Enron Corp</td>\n",
       "      <td>0:32</td>\n",
       "      <td>Plaintiff</td>\n",
       "      <td>ADJ</td>\n",
       "      <td>amod</td>\n",
       "      <td>2</td>\n",
       "      <td>action</td>\n",
       "      <td>Sue</td>\n",
       "      <td>Other</td>\n",
       "    </tr>\n",
       "    <tr>\n",
       "      <th>9518</th>\n",
       "      <td>its own bankers</td>\n",
       "      <td>78:93</td>\n",
       "      <td>Defendant</td>\n",
       "      <td>PRON</td>\n",
       "      <td>poss</td>\n",
       "      <td>2</td>\n",
       "      <td>action</td>\n",
       "      <td>Sue</td>\n",
       "      <td>Other</td>\n",
       "    </tr>\n",
       "    <tr>\n",
       "      <th>9519</th>\n",
       "      <td>Enron 's principal bankers</td>\n",
       "      <td>0:26</td>\n",
       "      <td>Defendant</td>\n",
       "      <td>PROPN</td>\n",
       "      <td>poss</td>\n",
       "      <td>2</td>\n",
       "      <td>sued</td>\n",
       "      <td>Sue</td>\n",
       "      <td>Asserted</td>\n",
       "    </tr>\n",
       "    <tr>\n",
       "      <th>9520</th>\n",
       "      <td>the company 's shareholders</td>\n",
       "      <td>144:171</td>\n",
       "      <td>Plaintiff</td>\n",
       "      <td>DET</td>\n",
       "      <td>det</td>\n",
       "      <td>2</td>\n",
       "      <td>sued</td>\n",
       "      <td>Sue</td>\n",
       "      <td>Asserted</td>\n",
       "    </tr>\n",
       "  </tbody>\n",
       "</table>\n",
       "<p>9521 rows × 9 columns</p>\n",
       "</div>"
      ],
      "text/plain": [
       "                                               argument      idx         role  \\\n",
       "0                                         northern Iraq    10:23        Place   \n",
       "1                                                 today    24:29  Time-Within   \n",
       "2                              an eight artillery round    35:59   Instrument   \n",
       "3     the site occupied by Kurdish fighters near Cha...   64:117       Target   \n",
       "4                                                    it    10:12  Destination   \n",
       "...                                                 ...      ...          ...   \n",
       "9516                   Bankrupt energy giant Enron Corp     0:32          Org   \n",
       "9517                   Bankrupt energy giant Enron Corp     0:32    Plaintiff   \n",
       "9518                                    its own bankers    78:93    Defendant   \n",
       "9519                         Enron 's principal bankers     0:26    Defendant   \n",
       "9520                        the company 's shareholders  144:171    Plaintiff   \n",
       "\n",
       "        pos        dep  len   trigger                type  modality  \n",
       "0       ADJ       amod    4       hit              Attack  Asserted  \n",
       "1      NOUN   npadvmod    4       hit              Attack  Asserted  \n",
       "2       DET        det    4       hit              Attack  Asserted  \n",
       "3       DET        det    4       hit              Attack  Asserted  \n",
       "4      PRON  nsubjpass    3     drive           Transport  Asserted  \n",
       "...     ...        ...  ...       ...                 ...       ...  \n",
       "9516    ADJ       amod    1  Bankrupt  Declare-Bankruptcy  Asserted  \n",
       "9517    ADJ       amod    2    action                 Sue     Other  \n",
       "9518   PRON       poss    2    action                 Sue     Other  \n",
       "9519  PROPN       poss    2      sued                 Sue  Asserted  \n",
       "9520    DET        det    2      sued                 Sue  Asserted  \n",
       "\n",
       "[9521 rows x 9 columns]"
      ]
     },
     "execution_count": 73,
     "metadata": {},
     "output_type": "execute_result"
    }
   ],
   "source": [
    "df"
   ]
  },
  {
   "cell_type": "code",
   "execution_count": 78,
   "id": "6f5a3219-30d6-4505-8235-88fde031a8eb",
   "metadata": {},
   "outputs": [
    {
     "data": {
      "image/png": "[encoded data removed]",
      "text/plain": [
       "<Figure size 640x480 with 1 Axes>"
      ]
     },
     "metadata": {},
     "output_type": "display_data"
    }
   ],
   "source": [
    "sns.set_style(\"whitegrid\", {'axes.grid' : True})\n",
    "temp = pd.concat([edf, vedf, tedf])\n",
    "trigger_counts = df.argument.value_counts()\n",
    "df = trigger_counts.reset_index()\n",
    "df.columns = ['argument', 'count']\n",
    "\n",
    "plot = sns.lineplot(data=df['count'])\n",
    "plt.xticks(rotation=90, ha='right')  # Rotate word labels for better readability\n",
    "plt.xlabel(\"Argument word occurence rank\")\n",
    "plot.set(yscale='log')\n",
    "plot.set(xscale='log')\n",
    "fig = plot.get_figure()\n",
    "fig.savefig(\"../results/argument_word_dist.png\", bbox_inches='tight')"
   ]
  },
  {
   "cell_type": "code",
   "execution_count": 79,
   "id": "5035f82b-1e51-4e05-8d36-0cbed7865416",
   "metadata": {},
   "outputs": [
    {
     "name": "stdout",
     "output_type": "stream",
     "text": [
      "\\begin{tabular}{lr}\n",
      "\\toprule\n",
      "{} &  argument \\\\\n",
      "\\midrule\n",
      "he      &       192 \\\\\n",
      "they    &       155 \\\\\n",
      "Iraq    &       147 \\\\\n",
      "we      &       100 \\\\\n",
      "Baghdad &        84 \\\\\n",
      "you     &        81 \\\\\n",
      "I       &        80 \\\\\n",
      "she     &        74 \\\\\n",
      "him     &        70 \\\\\n",
      "today   &        66 \\\\\n",
      "\\bottomrule\n",
      "\\end{tabular}\n",
      "\n"
     ]
    },
    {
     "name": "stderr",
     "output_type": "stream",
     "text": [
      "/tmp/ipykernel_12080/1545088848.py:1: FutureWarning: In future versions `DataFrame.to_latex` is expected to utilise the base implementation of `Styler.to_latex` for formatting and rendering. The arguments signature may therefore change. It is recommended instead to use `DataFrame.style.to_latex` which also contains additional functionality.\n",
      "  print(trigger_counts[:10].to_latex())\n"
     ]
    }
   ],
   "source": [
    "print(trigger_counts[:10].to_latex())"
   ]
  },
  {
   "cell_type": "code",
   "execution_count": 85,
   "id": "82bc16c3-bcc1-46da-a9de-870fcb242303",
   "metadata": {},
   "outputs": [],
   "source": [
    "split_len_stats = pd.DataFrame({\"Split\": ['Train', 'Validation'],\n",
    "                                \"Total\": [edf['argument_len'].sum(), vedf['argument_len'].sum()],\n",
    "                                \"Mean+std\": [str(edf['argument_len'].mean().round(3)) + \"±\" + str(edf['argument_len'].std().round(3)), str(vedf['argument_len'].mean().round(3)) + \"±\" + str(vedf['argument_len'].std().round(3))]})"
   ]
  },
  {
   "cell_type": "code",
   "execution_count": 90,
   "id": "50d4df14-89e1-40c7-a088-8beb388be08b",
   "metadata": {},
   "outputs": [
    {
     "name": "stdout",
     "output_type": "stream",
     "text": [
      "\\begin{tabular}{lrl}\n",
      "\\toprule\n",
      "     Split &  Total &    Mean+std \\\\\n",
      "\\midrule\n",
      "     Train &   7697 & 1.806±1.226 \\\\\n",
      "Validation &    930 & 1.875±1.301 \\\\\n",
      "\\bottomrule\n",
      "\\end{tabular}\n",
      "\n"
     ]
    },
    {
     "name": "stderr",
     "output_type": "stream",
     "text": [
      "/tmp/ipykernel_12080/2415221485.py:1: FutureWarning: In future versions `DataFrame.to_latex` is expected to utilise the base implementation of `Styler.to_latex` for formatting and rendering. The arguments signature may therefore change. It is recommended instead to use `DataFrame.style.to_latex` which also contains additional functionality.\n",
      "  print(split_len_stats.to_latex(index=False))\n"
     ]
    }
   ],
   "source": [
    "print(split_len_stats.to_latex(index=False))"
   ]
  },
  {
   "cell_type": "code",
   "execution_count": 92,
   "id": "7939a15e-06be-42b9-85d3-3b185eb98afa",
   "metadata": {},
   "outputs": [
    {
     "data": {
      "text/plain": [
       "0.08307908941563014"
      ]
     },
     "execution_count": 92,
     "metadata": {},
     "output_type": "execute_result"
    }
   ],
   "source": [
    "len(edf[edf['argument_len'] >= 4])/len(edf)"
   ]
  },
  {
   "cell_type": "code",
   "execution_count": 100,
   "id": "5fc87ac2-84fe-45e1-8165-89609a1de881",
   "metadata": {},
   "outputs": [
    {
     "data": {
      "text/plain": [
       "5.0"
      ]
     },
     "execution_count": 100,
     "metadata": {},
     "output_type": "execute_result"
    }
   ],
   "source": [
    "edf['argument_len'].quantile(0.99)"
   ]
  },
  {
   "cell_type": "code",
   "execution_count": 124,
   "id": "4242cb44-ee71-4ce3-ba94-d5f740194fca",
   "metadata": {},
   "outputs": [
    {
     "name": "stdout",
     "output_type": "stream",
     "text": [
      "\\begin{tabular}{llr}\n",
      "\\toprule\n",
      "   &       &     0 \\\\\n",
      "argument\\_len & modality &       \\\\\n",
      "\\midrule\n",
      "0  & Asserted &   432 \\\\\n",
      "   & Other &   169 \\\\\n",
      "1  & Asserted &   866 \\\\\n",
      "   & Other &   333 \\\\\n",
      "2  & Asserted &  1014 \\\\\n",
      "   & Other &   353 \\\\\n",
      "3  & Asserted &   604 \\\\\n",
      "   & Other &   136 \\\\\n",
      "4  & Asserted &   221 \\\\\n",
      "   & Other &    46 \\\\\n",
      "5  & Asserted &    63 \\\\\n",
      "   & Other &     3 \\\\\n",
      "6  & Asserted &    10 \\\\\n",
      "   & Other &     1 \\\\\n",
      "7  & Asserted &     4 \\\\\n",
      "   & Other &     1 \\\\\n",
      "8  & Asserted &     1 \\\\\n",
      "   & Other &     2 \\\\\n",
      "10 & Asserted &     1 \\\\\n",
      "11 & Other &     1 \\\\\n",
      "\\bottomrule\n",
      "\\end{tabular}\n",
      "\n",
      "\\quad\n",
      "\\begin{tabular}{llr}\n",
      "\\toprule\n",
      "  &          &    0 \\\\\n",
      "argument\\_len & modality &      \\\\\n",
      "\\midrule\n",
      "0 & Asserted &   45 \\\\\n",
      "  & Other &   28 \\\\\n",
      "1 & Asserted &   90 \\\\\n",
      "  & Other &   48 \\\\\n",
      "2 & Asserted &  101 \\\\\n",
      "  & Other &   34 \\\\\n",
      "3 & Asserted &   76 \\\\\n",
      "  & Other &   22 \\\\\n",
      "4 & Asserted &   30 \\\\\n",
      "  & Other &    7 \\\\\n",
      "5 & Asserted &    9 \\\\\n",
      "  & Other &    1 \\\\\n",
      "6 & Asserted &    5 \\\\\n",
      "\\bottomrule\n",
      "\\end{tabular}\n",
      "\n"
     ]
    },
    {
     "name": "stderr",
     "output_type": "stream",
     "text": [
      "/tmp/ipykernel_12080/2202779672.py:1: FutureWarning: In future versions `DataFrame.to_latex` is expected to utilise the base implementation of `Styler.to_latex` for formatting and rendering. The arguments signature may therefore change. It is recommended instead to use `DataFrame.style.to_latex` which also contains additional functionality.\n",
      "  print(edf.groupby(['argument_len', 'modality']).size().to_latex())\n",
      "/tmp/ipykernel_12080/2202779672.py:3: FutureWarning: In future versions `DataFrame.to_latex` is expected to utilise the base implementation of `Styler.to_latex` for formatting and rendering. The arguments signature may therefore change. It is recommended instead to use `DataFrame.style.to_latex` which also contains additional functionality.\n",
      "  print(vedf.groupby(['argument_len', 'modality']).size().to_latex())\n"
     ]
    }
   ],
   "source": [
    "print(edf.groupby(['argument_len', 'modality']).size().to_latex())\n",
    "print(\"\\\\quad\")\n",
    "print(vedf.groupby(['argument_len', 'modality']).size().to_latex())"
   ]
  },
  {
   "cell_type": "code",
   "execution_count": 270,
   "id": "614003a0-f5e7-4f1e-97f0-2b195311f3a3",
   "metadata": {},
   "outputs": [],
   "source": [
    "df = pd.DataFrame(edf.groupby(['argument_len', 'modality']).size())"
   ]
  },
  {
   "cell_type": "code",
   "execution_count": 271,
   "id": "ffcea202-4b37-4b46-a25a-cff8ed4789ab",
   "metadata": {},
   "outputs": [],
   "source": [
    "df_reset = df.reset_index()\n",
    "\n",
    "pivot_df = df_reset.pivot(index='argument_len', columns='modality', values=0).fillna(0)\n"
   ]
  },
  {
   "cell_type": "code",
   "execution_count": 272,
   "id": "fa7596aa-c832-4038-aee8-86c24644074a",
   "metadata": {},
   "outputs": [],
   "source": [
    "percent_df = pivot_df.div(pivot_df.sum(axis=1), axis=0) * 100\n"
   ]
  },
  {
   "cell_type": "code",
   "execution_count": 273,
   "id": "6ef27b9a-407b-4e74-b5aa-9e09c04beda2",
   "metadata": {},
   "outputs": [
    {
     "data": {
      "text/html": [
       "<div>\n",
       "<style scoped>\n",
       "    .dataframe tbody tr th:only-of-type {\n",
       "        vertical-align: middle;\n",
       "    }\n",
       "\n",
       "    .dataframe tbody tr th {\n",
       "        vertical-align: top;\n",
       "    }\n",
       "\n",
       "    .dataframe thead th {\n",
       "        text-align: right;\n",
       "    }\n",
       "</style>\n",
       "<table border=\"1\" class=\"dataframe\">\n",
       "  <thead>\n",
       "    <tr style=\"text-align: right;\">\n",
       "      <th>modality</th>\n",
       "      <th>Asserted</th>\n",
       "      <th>Other</th>\n",
       "    </tr>\n",
       "    <tr>\n",
       "      <th>argument_len</th>\n",
       "      <th></th>\n",
       "      <th></th>\n",
       "    </tr>\n",
       "  </thead>\n",
       "  <tbody>\n",
       "    <tr>\n",
       "      <th>0</th>\n",
       "      <td>71.880200</td>\n",
       "      <td>28.119800</td>\n",
       "    </tr>\n",
       "    <tr>\n",
       "      <th>1</th>\n",
       "      <td>72.226856</td>\n",
       "      <td>27.773144</td>\n",
       "    </tr>\n",
       "    <tr>\n",
       "      <th>2</th>\n",
       "      <td>74.177030</td>\n",
       "      <td>25.822970</td>\n",
       "    </tr>\n",
       "    <tr>\n",
       "      <th>3</th>\n",
       "      <td>81.621622</td>\n",
       "      <td>18.378378</td>\n",
       "    </tr>\n",
       "    <tr>\n",
       "      <th>4</th>\n",
       "      <td>82.771536</td>\n",
       "      <td>17.228464</td>\n",
       "    </tr>\n",
       "    <tr>\n",
       "      <th>5</th>\n",
       "      <td>95.454545</td>\n",
       "      <td>4.545455</td>\n",
       "    </tr>\n",
       "    <tr>\n",
       "      <th>6</th>\n",
       "      <td>90.909091</td>\n",
       "      <td>9.090909</td>\n",
       "    </tr>\n",
       "    <tr>\n",
       "      <th>7</th>\n",
       "      <td>80.000000</td>\n",
       "      <td>20.000000</td>\n",
       "    </tr>\n",
       "    <tr>\n",
       "      <th>8</th>\n",
       "      <td>33.333333</td>\n",
       "      <td>66.666667</td>\n",
       "    </tr>\n",
       "    <tr>\n",
       "      <th>10</th>\n",
       "      <td>100.000000</td>\n",
       "      <td>0.000000</td>\n",
       "    </tr>\n",
       "    <tr>\n",
       "      <th>11</th>\n",
       "      <td>0.000000</td>\n",
       "      <td>100.000000</td>\n",
       "    </tr>\n",
       "  </tbody>\n",
       "</table>\n",
       "</div>"
      ],
      "text/plain": [
       "modality        Asserted       Other\n",
       "argument_len                        \n",
       "0              71.880200   28.119800\n",
       "1              72.226856   27.773144\n",
       "2              74.177030   25.822970\n",
       "3              81.621622   18.378378\n",
       "4              82.771536   17.228464\n",
       "5              95.454545    4.545455\n",
       "6              90.909091    9.090909\n",
       "7              80.000000   20.000000\n",
       "8              33.333333   66.666667\n",
       "10            100.000000    0.000000\n",
       "11              0.000000  100.000000"
      ]
     },
     "execution_count": 273,
     "metadata": {},
     "output_type": "execute_result"
    }
   ],
   "source": [
    "percent_df"
   ]
  },
  {
   "cell_type": "code",
   "execution_count": 274,
   "id": "53427a91-ab55-4886-9945-343d08186ff4",
   "metadata": {},
   "outputs": [],
   "source": [
    "ratio = len(edf['modality'][edf['modality'] == 'Asserted'])/len(edf['modality'][edf['modality'] == 'Other'])"
   ]
  },
  {
   "cell_type": "code",
   "execution_count": 278,
   "id": "acf35f29-7efc-41bf-8d44-4c141049a288",
   "metadata": {},
   "outputs": [
    {
     "data": {
      "image/png": "[encoded data removed]",
      "text/plain": [
       "<Figure size 1000x600 with 1 Axes>"
      ]
     },
     "metadata": {},
     "output_type": "display_data"
    }
   ],
   "source": [
    "# Step 1: Pivot to get 'Asserted' and 'Other' counts per argument_len\n",
    "pivot_df = df_reset.pivot(index='argument_len', columns='modality', values=0).fillna(0)\n",
    "\n",
    "alpha = 0.1  # or something like 0.1 if counts are small\n",
    "pivot_df['log_ratio'] = np.log((pivot_df['Asserted'] + alpha) / (pivot_df['Other'] + alpha))\n",
    "\n",
    "# Expected ratio is 3.0775..., so expected log ratio is:\n",
    "expected_log_ratio = np.log(ratio)\n",
    "pivot_df['log_ratio_diff'] = pivot_df['log_ratio'] - expected_log_ratio\n",
    "\n",
    "# Step 4: Plot the difference\n",
    "plt.figure(figsize=(10, 6))\n",
    "plot = sns.barplot(x=pivot_df.index, y=pivot_df['log_ratio_diff'], palette=\"mako\")\n",
    "\n",
    "plt.axhline(0, color='gray', linestyle='--', label='Expected Ratio')\n",
    "plt.ylabel('Difference from Expected Asserted/Other Ratio')\n",
    "plt.xlabel('Argument Length')\n",
    "plt.tight_layout()\n",
    "fig = plot.get_figure()\n",
    "fig.savefig(\"../results/argument_len_deviation.png\", bbox_inches='tight')"
   ]
  },
  {
   "cell_type": "code",
   "execution_count": 261,
   "id": "9e389db0-6381-43d0-87ff-524d41c08b54",
   "metadata": {},
   "outputs": [
    {
     "data": {
      "text/html": [
       "<div>\n",
       "<style scoped>\n",
       "    .dataframe tbody tr th:only-of-type {\n",
       "        vertical-align: middle;\n",
       "    }\n",
       "\n",
       "    .dataframe tbody tr th {\n",
       "        vertical-align: top;\n",
       "    }\n",
       "\n",
       "    .dataframe thead th {\n",
       "        text-align: right;\n",
       "    }\n",
       "</style>\n",
       "<table border=\"1\" class=\"dataframe\">\n",
       "  <thead>\n",
       "    <tr style=\"text-align: right;\">\n",
       "      <th>modality</th>\n",
       "      <th>Asserted</th>\n",
       "      <th>Other</th>\n",
       "      <th>actual_ratio</th>\n",
       "      <th>difference_from_expected</th>\n",
       "    </tr>\n",
       "    <tr>\n",
       "      <th>argument_len</th>\n",
       "      <th></th>\n",
       "      <th></th>\n",
       "      <th></th>\n",
       "      <th></th>\n",
       "    </tr>\n",
       "  </thead>\n",
       "  <tbody>\n",
       "    <tr>\n",
       "      <th>0</th>\n",
       "      <td>432.0</td>\n",
       "      <td>169.0</td>\n",
       "      <td>2.556213</td>\n",
       "      <td>-0.521299</td>\n",
       "    </tr>\n",
       "    <tr>\n",
       "      <th>1</th>\n",
       "      <td>866.0</td>\n",
       "      <td>333.0</td>\n",
       "      <td>2.600601</td>\n",
       "      <td>-0.476911</td>\n",
       "    </tr>\n",
       "    <tr>\n",
       "      <th>2</th>\n",
       "      <td>1014.0</td>\n",
       "      <td>353.0</td>\n",
       "      <td>2.872521</td>\n",
       "      <td>-0.204991</td>\n",
       "    </tr>\n",
       "    <tr>\n",
       "      <th>3</th>\n",
       "      <td>604.0</td>\n",
       "      <td>136.0</td>\n",
       "      <td>4.441176</td>\n",
       "      <td>1.363665</td>\n",
       "    </tr>\n",
       "    <tr>\n",
       "      <th>4</th>\n",
       "      <td>221.0</td>\n",
       "      <td>46.0</td>\n",
       "      <td>4.804348</td>\n",
       "      <td>1.726836</td>\n",
       "    </tr>\n",
       "    <tr>\n",
       "      <th>5</th>\n",
       "      <td>63.0</td>\n",
       "      <td>3.0</td>\n",
       "      <td>21.000000</td>\n",
       "      <td>17.922488</td>\n",
       "    </tr>\n",
       "    <tr>\n",
       "      <th>6</th>\n",
       "      <td>10.0</td>\n",
       "      <td>1.0</td>\n",
       "      <td>10.000000</td>\n",
       "      <td>6.922488</td>\n",
       "    </tr>\n",
       "    <tr>\n",
       "      <th>7</th>\n",
       "      <td>4.0</td>\n",
       "      <td>1.0</td>\n",
       "      <td>4.000000</td>\n",
       "      <td>0.922488</td>\n",
       "    </tr>\n",
       "    <tr>\n",
       "      <th>8</th>\n",
       "      <td>1.0</td>\n",
       "      <td>2.0</td>\n",
       "      <td>0.500000</td>\n",
       "      <td>-2.577512</td>\n",
       "    </tr>\n",
       "    <tr>\n",
       "      <th>10</th>\n",
       "      <td>1.0</td>\n",
       "      <td>0.0</td>\n",
       "      <td>NaN</td>\n",
       "      <td>NaN</td>\n",
       "    </tr>\n",
       "    <tr>\n",
       "      <th>11</th>\n",
       "      <td>0.0</td>\n",
       "      <td>1.0</td>\n",
       "      <td>0.000000</td>\n",
       "      <td>-3.077512</td>\n",
       "    </tr>\n",
       "  </tbody>\n",
       "</table>\n",
       "</div>"
      ],
      "text/plain": [
       "modality      Asserted  Other  actual_ratio  difference_from_expected\n",
       "argument_len                                                         \n",
       "0                432.0  169.0      2.556213                 -0.521299\n",
       "1                866.0  333.0      2.600601                 -0.476911\n",
       "2               1014.0  353.0      2.872521                 -0.204991\n",
       "3                604.0  136.0      4.441176                  1.363665\n",
       "4                221.0   46.0      4.804348                  1.726836\n",
       "5                 63.0    3.0     21.000000                 17.922488\n",
       "6                 10.0    1.0     10.000000                  6.922488\n",
       "7                  4.0    1.0      4.000000                  0.922488\n",
       "8                  1.0    2.0      0.500000                 -2.577512\n",
       "10                 1.0    0.0           NaN                       NaN\n",
       "11                 0.0    1.0      0.000000                 -3.077512"
      ]
     },
     "execution_count": 261,
     "metadata": {},
     "output_type": "execute_result"
    }
   ],
   "source": [
    "pivot_df"
   ]
  },
  {
   "cell_type": "code",
   "execution_count": 280,
   "id": "06c84f43-393f-4008-aaaf-3c4491c30066",
   "metadata": {},
   "outputs": [],
   "source": [
    "\n",
    "ratio = len(vedf['modality'][vedf['modality'] == 'Asserted'])/len(vedf['modality'][vedf['modality'] == 'Other'])"
   ]
  },
  {
   "cell_type": "code",
   "execution_count": 281,
   "id": "2c011067-697a-4c08-9577-91b140018d70",
   "metadata": {},
   "outputs": [],
   "source": [
    "df = pd.DataFrame(vedf.groupby(['argument_len', 'modality']).size())"
   ]
  },
  {
   "cell_type": "code",
   "execution_count": 282,
   "id": "297cef28-f408-4b26-8d7a-ad469bbc3c4e",
   "metadata": {},
   "outputs": [],
   "source": [
    "df_reset = df.reset_index()"
   ]
  },
  {
   "cell_type": "code",
   "execution_count": 283,
   "id": "7ae90a74-8b86-4799-9908-47891f204d60",
   "metadata": {},
   "outputs": [
    {
     "data": {
      "image/png": "[encoded data removed]",
      "text/plain": [
       "<Figure size 1000x600 with 1 Axes>"
      ]
     },
     "metadata": {},
     "output_type": "display_data"
    }
   ],
   "source": [
    "# Step 1: Pivot to get 'Asserted' and 'Other' counts per argument_len\n",
    "pivot_df = df_reset.pivot(index='argument_len', columns='modality', values=0).fillna(0)\n",
    "\n",
    "alpha = 0.1  # or something like 0.1 if counts are small\n",
    "pivot_df['log_ratio'] = np.log((pivot_df['Asserted'] + alpha) / (pivot_df['Other'] + alpha))\n",
    "\n",
    "# Expected ratio is 3.0775..., so expected log ratio is:\n",
    "expected_log_ratio = np.log(ratio)\n",
    "pivot_df['log_ratio_diff'] = pivot_df['log_ratio'] - expected_log_ratio\n",
    "\n",
    "# Step 4: Plot the difference\n",
    "plt.figure(figsize=(10, 6))\n",
    "plot = sns.barplot(x=pivot_df.index, y=pivot_df['log_ratio_diff'], palette=\"mako\")\n",
    "\n",
    "plt.axhline(0, color='gray', linestyle='--', label='Expected Ratio')\n",
    "plt.ylabel('Difference from Expected Asserted/Other Ratio')\n",
    "plt.xlabel('Argument Length')\n",
    "plt.tight_layout()\n",
    "fig = plot.get_figure()\n",
    "fig.savefig(\"../results/val_argument_len_deviation.png\", bbox_inches='tight')"
   ]
  },
  {
   "cell_type": "code",
   "execution_count": 285,
   "id": "597e6959-09d4-4c65-b9e8-a9ce63659925",
   "metadata": {},
   "outputs": [
    {
     "data": {
      "text/html": [
       "<div>\n",
       "<style scoped>\n",
       "    .dataframe tbody tr th:only-of-type {\n",
       "        vertical-align: middle;\n",
       "    }\n",
       "\n",
       "    .dataframe tbody tr th {\n",
       "        vertical-align: top;\n",
       "    }\n",
       "\n",
       "    .dataframe thead th {\n",
       "        text-align: right;\n",
       "    }\n",
       "</style>\n",
       "<table border=\"1\" class=\"dataframe\">\n",
       "  <thead>\n",
       "    <tr style=\"text-align: right;\">\n",
       "      <th>modality</th>\n",
       "      <th>Asserted</th>\n",
       "      <th>Other</th>\n",
       "      <th>log_ratio</th>\n",
       "      <th>log_ratio_diff</th>\n",
       "    </tr>\n",
       "    <tr>\n",
       "      <th>argument_len</th>\n",
       "      <th></th>\n",
       "      <th></th>\n",
       "      <th></th>\n",
       "      <th></th>\n",
       "    </tr>\n",
       "  </thead>\n",
       "  <tbody>\n",
       "    <tr>\n",
       "      <th>0</th>\n",
       "      <td>45.0</td>\n",
       "      <td>28.0</td>\n",
       "      <td>0.473113</td>\n",
       "      <td>-0.460176</td>\n",
       "    </tr>\n",
       "    <tr>\n",
       "      <th>1</th>\n",
       "      <td>90.0</td>\n",
       "      <td>48.0</td>\n",
       "      <td>0.627638</td>\n",
       "      <td>-0.305650</td>\n",
       "    </tr>\n",
       "    <tr>\n",
       "      <th>2</th>\n",
       "      <td>101.0</td>\n",
       "      <td>34.0</td>\n",
       "      <td>1.086813</td>\n",
       "      <td>0.153524</td>\n",
       "    </tr>\n",
       "    <tr>\n",
       "      <th>3</th>\n",
       "      <td>76.0</td>\n",
       "      <td>22.0</td>\n",
       "      <td>1.236471</td>\n",
       "      <td>0.303182</td>\n",
       "    </tr>\n",
       "    <tr>\n",
       "      <th>4</th>\n",
       "      <td>30.0</td>\n",
       "      <td>7.0</td>\n",
       "      <td>1.444430</td>\n",
       "      <td>0.511142</td>\n",
       "    </tr>\n",
       "    <tr>\n",
       "      <th>5</th>\n",
       "      <td>9.0</td>\n",
       "      <td>1.0</td>\n",
       "      <td>2.112964</td>\n",
       "      <td>1.179676</td>\n",
       "    </tr>\n",
       "    <tr>\n",
       "      <th>6</th>\n",
       "      <td>5.0</td>\n",
       "      <td>0.0</td>\n",
       "      <td>3.931826</td>\n",
       "      <td>2.998537</td>\n",
       "    </tr>\n",
       "  </tbody>\n",
       "</table>\n",
       "</div>"
      ],
      "text/plain": [
       "modality      Asserted  Other  log_ratio  log_ratio_diff\n",
       "argument_len                                            \n",
       "0                 45.0   28.0   0.473113       -0.460176\n",
       "1                 90.0   48.0   0.627638       -0.305650\n",
       "2                101.0   34.0   1.086813        0.153524\n",
       "3                 76.0   22.0   1.236471        0.303182\n",
       "4                 30.0    7.0   1.444430        0.511142\n",
       "5                  9.0    1.0   2.112964        1.179676\n",
       "6                  5.0    0.0   3.931826        2.998537"
      ]
     },
     "execution_count": 285,
     "metadata": {},
     "output_type": "execute_result"
    }
   ],
   "source": [
    "pivot_df"
   ]
  },
  {
   "cell_type": "code",
   "execution_count": null,
   "id": "d7930b63-10de-4ff7-a422-77c85e7fdd80",
   "metadata": {},
   "outputs": [],
   "source": []
  }
 ],
 "metadata": {
  "kernelspec": {
   "display_name": "Python 3 (ipykernel)",
   "language": "python",
   "name": "python3"
  },
  "language_info": {
   "codemirror_mode": {
    "name": "ipython",
    "version": 3
   },
   "file_extension": ".py",
   "mimetype": "text/x-python",
   "name": "python",
   "nbconvert_exporter": "python",
   "pygments_lexer": "ipython3",
   "version": "3.10.13"
  }
 },
 "nbformat": 4,
 "nbformat_minor": 5
}
